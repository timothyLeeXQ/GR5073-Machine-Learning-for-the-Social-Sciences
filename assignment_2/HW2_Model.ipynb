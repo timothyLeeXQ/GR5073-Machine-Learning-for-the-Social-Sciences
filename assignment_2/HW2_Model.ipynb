{
  "nbformat": 4,
  "nbformat_minor": 0,
  "metadata": {
    "kernelspec": {
      "display_name": "Python 3",
      "language": "python",
      "name": "python3"
    },
    "language_info": {
      "codemirror_mode": {
        "name": "ipython",
        "version": 3
      },
      "file_extension": ".py",
      "mimetype": "text/x-python",
      "name": "python",
      "nbconvert_exporter": "python",
      "pygments_lexer": "ipython3",
      "version": "3.7.1"
    },
    "colab": {
      "name": "HW2_Model(1).ipynb",
      "provenance": []
    }
  },
  "cells": [
    {
      "cell_type": "markdown",
      "metadata": {
        "id": "HZreMmZ50Gwm",
        "colab_type": "text"
      },
      "source": [
        "# HW 2: Supervised Learning Models\n",
        "### Answer Guide created by Kate Moore, 2019"
      ]
    },
    {
      "cell_type": "code",
      "metadata": {
        "id": "BLiMCXTQ0Gw9",
        "colab_type": "code",
        "colab": {}
      },
      "source": [
        "%matplotlib inline\n",
        "import pandas as pd\n",
        "import numpy as np\n",
        "\n",
        "# Supress Warnings\n",
        "import warnings\n",
        "warnings.simplefilter(action='ignore', category=FutureWarning)\n",
        "\n",
        "from sklearn.exceptions import DataConversionWarning\n",
        "warnings.filterwarnings(action='ignore', category=DataConversionWarning)\n",
        "\n",
        "pd.options.display.max_rows = 10"
      ],
      "execution_count": 0,
      "outputs": []
    },
    {
      "cell_type": "markdown",
      "metadata": {
        "id": "m0pBTm8l0Gxh",
        "colab_type": "text"
      },
      "source": [
        "# Part 1: Regression on California Test Scores"
      ]
    },
    {
      "cell_type": "markdown",
      "metadata": {
        "id": "O72kduoy0Gxm",
        "colab_type": "text"
      },
      "source": [
        "## 1. Find the url for the California Test Score Data Set from the following website: https://vincentarelbundock.github.io/Rdatasets/datasets.html\n"
      ]
    },
    {
      "cell_type": "code",
      "metadata": {
        "id": "abXlwBCg0Gxr",
        "colab_type": "code",
        "colab": {
          "base_uri": "https://localhost:8080/",
          "height": 206
        },
        "outputId": "2fb197fa-b13c-4ee9-ffe0-81369a36065a"
      },
      "source": [
        "df = pd.read_csv(\"https://vincentarelbundock.github.io/Rdatasets/csv/Ecdat/Caschool.csv\")\n",
        "df.head()"
      ],
      "execution_count": 2,
      "outputs": [
        {
          "output_type": "execute_result",
          "data": {
            "text/html": [
              "<div>\n",
              "<style scoped>\n",
              "    .dataframe tbody tr th:only-of-type {\n",
              "        vertical-align: middle;\n",
              "    }\n",
              "\n",
              "    .dataframe tbody tr th {\n",
              "        vertical-align: top;\n",
              "    }\n",
              "\n",
              "    .dataframe thead th {\n",
              "        text-align: right;\n",
              "    }\n",
              "</style>\n",
              "<table border=\"1\" class=\"dataframe\">\n",
              "  <thead>\n",
              "    <tr style=\"text-align: right;\">\n",
              "      <th></th>\n",
              "      <th>Unnamed: 0</th>\n",
              "      <th>distcod</th>\n",
              "      <th>county</th>\n",
              "      <th>district</th>\n",
              "      <th>grspan</th>\n",
              "      <th>enrltot</th>\n",
              "      <th>teachers</th>\n",
              "      <th>calwpct</th>\n",
              "      <th>mealpct</th>\n",
              "      <th>computer</th>\n",
              "      <th>testscr</th>\n",
              "      <th>compstu</th>\n",
              "      <th>expnstu</th>\n",
              "      <th>str</th>\n",
              "      <th>avginc</th>\n",
              "      <th>elpct</th>\n",
              "      <th>readscr</th>\n",
              "      <th>mathscr</th>\n",
              "    </tr>\n",
              "  </thead>\n",
              "  <tbody>\n",
              "    <tr>\n",
              "      <th>0</th>\n",
              "      <td>1</td>\n",
              "      <td>75119</td>\n",
              "      <td>Alameda</td>\n",
              "      <td>Sunol Glen Unified</td>\n",
              "      <td>KK-08</td>\n",
              "      <td>195</td>\n",
              "      <td>10.900000</td>\n",
              "      <td>0.510200</td>\n",
              "      <td>2.040800</td>\n",
              "      <td>67</td>\n",
              "      <td>690.799988</td>\n",
              "      <td>0.343590</td>\n",
              "      <td>6384.911133</td>\n",
              "      <td>17.889910</td>\n",
              "      <td>22.690001</td>\n",
              "      <td>0.000000</td>\n",
              "      <td>691.599976</td>\n",
              "      <td>690.000000</td>\n",
              "    </tr>\n",
              "    <tr>\n",
              "      <th>1</th>\n",
              "      <td>2</td>\n",
              "      <td>61499</td>\n",
              "      <td>Butte</td>\n",
              "      <td>Manzanita Elementary</td>\n",
              "      <td>KK-08</td>\n",
              "      <td>240</td>\n",
              "      <td>11.150000</td>\n",
              "      <td>15.416700</td>\n",
              "      <td>47.916698</td>\n",
              "      <td>101</td>\n",
              "      <td>661.200012</td>\n",
              "      <td>0.420833</td>\n",
              "      <td>5099.380859</td>\n",
              "      <td>21.524664</td>\n",
              "      <td>9.824000</td>\n",
              "      <td>4.583333</td>\n",
              "      <td>660.500000</td>\n",
              "      <td>661.900024</td>\n",
              "    </tr>\n",
              "    <tr>\n",
              "      <th>2</th>\n",
              "      <td>3</td>\n",
              "      <td>61549</td>\n",
              "      <td>Butte</td>\n",
              "      <td>Thermalito Union Elementary</td>\n",
              "      <td>KK-08</td>\n",
              "      <td>1550</td>\n",
              "      <td>82.900002</td>\n",
              "      <td>55.032299</td>\n",
              "      <td>76.322601</td>\n",
              "      <td>169</td>\n",
              "      <td>643.599976</td>\n",
              "      <td>0.109032</td>\n",
              "      <td>5501.954590</td>\n",
              "      <td>18.697226</td>\n",
              "      <td>8.978000</td>\n",
              "      <td>30.000002</td>\n",
              "      <td>636.299988</td>\n",
              "      <td>650.900024</td>\n",
              "    </tr>\n",
              "    <tr>\n",
              "      <th>3</th>\n",
              "      <td>4</td>\n",
              "      <td>61457</td>\n",
              "      <td>Butte</td>\n",
              "      <td>Golden Feather Union Elementary</td>\n",
              "      <td>KK-08</td>\n",
              "      <td>243</td>\n",
              "      <td>14.000000</td>\n",
              "      <td>36.475399</td>\n",
              "      <td>77.049202</td>\n",
              "      <td>85</td>\n",
              "      <td>647.700012</td>\n",
              "      <td>0.349794</td>\n",
              "      <td>7101.831055</td>\n",
              "      <td>17.357143</td>\n",
              "      <td>8.978000</td>\n",
              "      <td>0.000000</td>\n",
              "      <td>651.900024</td>\n",
              "      <td>643.500000</td>\n",
              "    </tr>\n",
              "    <tr>\n",
              "      <th>4</th>\n",
              "      <td>5</td>\n",
              "      <td>61523</td>\n",
              "      <td>Butte</td>\n",
              "      <td>Palermo Union Elementary</td>\n",
              "      <td>KK-08</td>\n",
              "      <td>1335</td>\n",
              "      <td>71.500000</td>\n",
              "      <td>33.108601</td>\n",
              "      <td>78.427002</td>\n",
              "      <td>171</td>\n",
              "      <td>640.849976</td>\n",
              "      <td>0.128090</td>\n",
              "      <td>5235.987793</td>\n",
              "      <td>18.671329</td>\n",
              "      <td>9.080333</td>\n",
              "      <td>13.857677</td>\n",
              "      <td>641.799988</td>\n",
              "      <td>639.900024</td>\n",
              "    </tr>\n",
              "  </tbody>\n",
              "</table>\n",
              "</div>"
            ],
            "text/plain": [
              "   Unnamed: 0  distcod   county  ...      elpct     readscr     mathscr\n",
              "0           1    75119  Alameda  ...   0.000000  691.599976  690.000000\n",
              "1           2    61499    Butte  ...   4.583333  660.500000  661.900024\n",
              "2           3    61549    Butte  ...  30.000002  636.299988  650.900024\n",
              "3           4    61457    Butte  ...   0.000000  651.900024  643.500000\n",
              "4           5    61523    Butte  ...  13.857677  641.799988  639.900024\n",
              "\n",
              "[5 rows x 18 columns]"
            ]
          },
          "metadata": {
            "tags": []
          },
          "execution_count": 2
        }
      ]
    },
    {
      "cell_type": "markdown",
      "metadata": {
        "id": "Rw4GFzkL0GyA",
        "colab_type": "text"
      },
      "source": [
        "## 1.1 Visualize the univariate distribution of the target feature and each of the three continuous explanatory variables that you think are likely to have a relationship with the target feature.  "
      ]
    },
    {
      "cell_type": "code",
      "metadata": {
        "id": "kDd0T4fd0GyG",
        "colab_type": "code",
        "colab": {
          "base_uri": "https://localhost:8080/",
          "height": 283
        },
        "outputId": "9e2d7498-c5b4-432f-f421-b3f8df764b51"
      },
      "source": [
        "df['testscr'].hist()"
      ],
      "execution_count": 3,
      "outputs": [
        {
          "output_type": "execute_result",
          "data": {
            "text/plain": [
              "<matplotlib.axes._subplots.AxesSubplot at 0x7f4a14422358>"
            ]
          },
          "metadata": {
            "tags": []
          },
          "execution_count": 3
        },
        {
          "output_type": "display_data",
          "data": {
            "image/png": "[encoded data removed]",
            "text/plain": [
              "<Figure size 432x288 with 1 Axes>"
            ]
          },
          "metadata": {
            "tags": []
          }
        }
      ]
    },
    {
      "cell_type": "code",
      "metadata": {
        "id": "eNmPHhjf0GyW",
        "colab_type": "code",
        "colab": {
          "base_uri": "https://localhost:8080/",
          "height": 283
        },
        "outputId": "84c9bff7-cf11-4451-f86c-5282ae8bc8fb"
      },
      "source": [
        "df['expnstu'].hist()"
      ],
      "execution_count": 4,
      "outputs": [
        {
          "output_type": "execute_result",
          "data": {
            "text/plain": [
              "<matplotlib.axes._subplots.AxesSubplot at 0x7f4a13ec5da0>"
            ]
          },
          "metadata": {
            "tags": []
          },
          "execution_count": 4
        },
        {
          "output_type": "display_data",
          "data": {
            "image/png": "[encoded data removed]",
            "text/plain": [
              "<Figure size 432x288 with 1 Axes>"
            ]
          },
          "metadata": {
            "tags": []
          }
        }
      ]
    },
    {
      "cell_type": "code",
      "metadata": {
        "id": "VLJVFgVJ0Gyv",
        "colab_type": "code",
        "colab": {
          "base_uri": "https://localhost:8080/",
          "height": 283
        },
        "outputId": "b21fb0a3-4296-406e-82bf-590ac5bf4c47"
      },
      "source": [
        "df['str'].hist()"
      ],
      "execution_count": 5,
      "outputs": [
        {
          "output_type": "execute_result",
          "data": {
            "text/plain": [
              "<matplotlib.axes._subplots.AxesSubplot at 0x7f4a13e9c2b0>"
            ]
          },
          "metadata": {
            "tags": []
          },
          "execution_count": 5
        },
        {
          "output_type": "display_data",
          "data": {
            "image/png": "[encoded data removed]",
            "text/plain": [
              "<Figure size 432x288 with 1 Axes>"
            ]
          },
          "metadata": {
            "tags": []
          }
        }
      ]
    },
    {
      "cell_type": "code",
      "metadata": {
        "id": "ySHB2TAi0GzA",
        "colab_type": "code",
        "colab": {
          "base_uri": "https://localhost:8080/",
          "height": 283
        },
        "outputId": "16f5cd59-1ef4-49e9-88f7-9c44e76b76cd"
      },
      "source": [
        "df['avginc'].hist()"
      ],
      "execution_count": 6,
      "outputs": [
        {
          "output_type": "execute_result",
          "data": {
            "text/plain": [
              "<matplotlib.axes._subplots.AxesSubplot at 0x7f4a13dd4198>"
            ]
          },
          "metadata": {
            "tags": []
          },
          "execution_count": 6
        },
        {
          "output_type": "display_data",
          "data": {
            "image/png": "[encoded data removed]",
            "text/plain": [
              "<Figure size 432x288 with 1 Axes>"
            ]
          },
          "metadata": {
            "tags": []
          }
        }
      ]
    },
    {
      "cell_type": "markdown",
      "metadata": {
        "id": "ulJoj4ah0GzT",
        "colab_type": "text"
      },
      "source": [
        "## 1.2 Visualize the dependency of the target on each feature from 1.1."
      ]
    },
    {
      "cell_type": "code",
      "metadata": {
        "id": "E3F2v49_0Gzf",
        "colab_type": "code",
        "colab": {
          "base_uri": "https://localhost:8080/",
          "height": 279
        },
        "outputId": "790cc66b-46dd-482a-b95f-0615d565d424"
      },
      "source": [
        "import seaborn as sns\n",
        "x = sns.regplot(x=\"testscr\", y=\"expnstu\", data=df, color='r')"
      ],
      "execution_count": 7,
      "outputs": [
        {
          "output_type": "display_data",
          "data": {
            "image/png": "[encoded data removed]",
            "text/plain": [
              "<Figure size 432x288 with 1 Axes>"
            ]
          },
          "metadata": {
            "tags": []
          }
        }
      ]
    },
    {
      "cell_type": "code",
      "metadata": {
        "id": "myiREhAW0Gzv",
        "colab_type": "code",
        "colab": {
          "base_uri": "https://localhost:8080/",
          "height": 279
        },
        "outputId": "aad8f442-0ceb-4989-c30c-8058bc1d3003"
      },
      "source": [
        "x = sns.regplot(x=\"testscr\", y=\"str\", data=df, color='g')"
      ],
      "execution_count": 8,
      "outputs": [
        {
          "output_type": "display_data",
          "data": {
            "image/png": "[encoded data removed]",
            "text/plain": [
              "<Figure size 432x288 with 1 Axes>"
            ]
          },
          "metadata": {
            "tags": []
          }
        }
      ]
    },
    {
      "cell_type": "code",
      "metadata": {
        "id": "QrLkZq-k0Gz-",
        "colab_type": "code",
        "colab": {
          "base_uri": "https://localhost:8080/",
          "height": 279
        },
        "outputId": "092e2785-987e-4172-c06a-9c55456ab450"
      },
      "source": [
        "x = sns.regplot(x=\"testscr\", y=\"avginc\", data=df)"
      ],
      "execution_count": 9,
      "outputs": [
        {
          "output_type": "display_data",
          "data": {
            "image/png": "[encoded data removed]",
            "text/plain": [
              "<Figure size 432x288 with 1 Axes>"
            ]
          },
          "metadata": {
            "tags": []
          }
        }
      ]
    },
    {
      "cell_type": "markdown",
      "metadata": {
        "id": "yvDCB5lJ0G0O",
        "colab_type": "text"
      },
      "source": [
        "## 1.3a Split data in training and test set."
      ]
    },
    {
      "cell_type": "code",
      "metadata": {
        "id": "B0BR4Lj40G0S",
        "colab_type": "code",
        "colab": {
          "base_uri": "https://localhost:8080/",
          "height": 206
        },
        "outputId": "4d021b48-a4b1-42dd-d16a-b87889b5c9a6"
      },
      "source": [
        "from sklearn.model_selection import train_test_split\n",
        "\n",
        "corrected_data = df.drop(df.columns[[16, 17]], axis=1) # remove the reading and math scores from the dataset\n",
        "data = corrected_data.iloc[:, 5:] # delete first six columns\n",
        "\n",
        "y = data['testscr'] # assign outcome variable, i.e. what we want to predict\n",
        "X = data.loc[:, data.columns != 'testscr'] # assign all other values as X-values, i.e. variables we use to predict\n",
        "\n",
        "X_train, X_test, y_train, y_test = train_test_split(X, y, random_state=42) \n",
        "# randomly assign some data to the test-set and the rest to the training-set\n",
        "\n",
        "X.head()"
      ],
      "execution_count": 10,
      "outputs": [
        {
          "output_type": "execute_result",
          "data": {
            "text/html": [
              "<div>\n",
              "<style scoped>\n",
              "    .dataframe tbody tr th:only-of-type {\n",
              "        vertical-align: middle;\n",
              "    }\n",
              "\n",
              "    .dataframe tbody tr th {\n",
              "        vertical-align: top;\n",
              "    }\n",
              "\n",
              "    .dataframe thead th {\n",
              "        text-align: right;\n",
              "    }\n",
              "</style>\n",
              "<table border=\"1\" class=\"dataframe\">\n",
              "  <thead>\n",
              "    <tr style=\"text-align: right;\">\n",
              "      <th></th>\n",
              "      <th>enrltot</th>\n",
              "      <th>teachers</th>\n",
              "      <th>calwpct</th>\n",
              "      <th>mealpct</th>\n",
              "      <th>computer</th>\n",
              "      <th>compstu</th>\n",
              "      <th>expnstu</th>\n",
              "      <th>str</th>\n",
              "      <th>avginc</th>\n",
              "      <th>elpct</th>\n",
              "    </tr>\n",
              "  </thead>\n",
              "  <tbody>\n",
              "    <tr>\n",
              "      <th>0</th>\n",
              "      <td>195</td>\n",
              "      <td>10.900000</td>\n",
              "      <td>0.510200</td>\n",
              "      <td>2.040800</td>\n",
              "      <td>67</td>\n",
              "      <td>0.343590</td>\n",
              "      <td>6384.911133</td>\n",
              "      <td>17.889910</td>\n",
              "      <td>22.690001</td>\n",
              "      <td>0.000000</td>\n",
              "    </tr>\n",
              "    <tr>\n",
              "      <th>1</th>\n",
              "      <td>240</td>\n",
              "      <td>11.150000</td>\n",
              "      <td>15.416700</td>\n",
              "      <td>47.916698</td>\n",
              "      <td>101</td>\n",
              "      <td>0.420833</td>\n",
              "      <td>5099.380859</td>\n",
              "      <td>21.524664</td>\n",
              "      <td>9.824000</td>\n",
              "      <td>4.583333</td>\n",
              "    </tr>\n",
              "    <tr>\n",
              "      <th>2</th>\n",
              "      <td>1550</td>\n",
              "      <td>82.900002</td>\n",
              "      <td>55.032299</td>\n",
              "      <td>76.322601</td>\n",
              "      <td>169</td>\n",
              "      <td>0.109032</td>\n",
              "      <td>5501.954590</td>\n",
              "      <td>18.697226</td>\n",
              "      <td>8.978000</td>\n",
              "      <td>30.000002</td>\n",
              "    </tr>\n",
              "    <tr>\n",
              "      <th>3</th>\n",
              "      <td>243</td>\n",
              "      <td>14.000000</td>\n",
              "      <td>36.475399</td>\n",
              "      <td>77.049202</td>\n",
              "      <td>85</td>\n",
              "      <td>0.349794</td>\n",
              "      <td>7101.831055</td>\n",
              "      <td>17.357143</td>\n",
              "      <td>8.978000</td>\n",
              "      <td>0.000000</td>\n",
              "    </tr>\n",
              "    <tr>\n",
              "      <th>4</th>\n",
              "      <td>1335</td>\n",
              "      <td>71.500000</td>\n",
              "      <td>33.108601</td>\n",
              "      <td>78.427002</td>\n",
              "      <td>171</td>\n",
              "      <td>0.128090</td>\n",
              "      <td>5235.987793</td>\n",
              "      <td>18.671329</td>\n",
              "      <td>9.080333</td>\n",
              "      <td>13.857677</td>\n",
              "    </tr>\n",
              "  </tbody>\n",
              "</table>\n",
              "</div>"
            ],
            "text/plain": [
              "   enrltot   teachers    calwpct  ...        str     avginc      elpct\n",
              "0      195  10.900000   0.510200  ...  17.889910  22.690001   0.000000\n",
              "1      240  11.150000  15.416700  ...  21.524664   9.824000   4.583333\n",
              "2     1550  82.900002  55.032299  ...  18.697226   8.978000  30.000002\n",
              "3      243  14.000000  36.475399  ...  17.357143   8.978000   0.000000\n",
              "4     1335  71.500000  33.108601  ...  18.671329   9.080333  13.857677\n",
              "\n",
              "[5 rows x 10 columns]"
            ]
          },
          "metadata": {
            "tags": []
          },
          "execution_count": 10
        }
      ]
    },
    {
      "cell_type": "markdown",
      "metadata": {
        "id": "EVqKb37e0G0j",
        "colab_type": "text"
      },
      "source": [
        "## 1.3b Build models that evaluate the relationship between all available X variables in the California test dataset and the target variable."
      ]
    },
    {
      "cell_type": "code",
      "metadata": {
        "id": "wlYh_mSX0G0n",
        "colab_type": "code",
        "colab": {}
      },
      "source": [
        "from sklearn.model_selection import RepeatedKFold\n",
        "from sklearn.model_selection import StratifiedKFold\n",
        "from sklearn.model_selection import KFold\n",
        "from sklearn.model_selection import cross_val_score"
      ],
      "execution_count": 0,
      "outputs": []
    },
    {
      "cell_type": "code",
      "metadata": {
        "id": "0Gov_SQE0G0z",
        "colab_type": "code",
        "colab": {}
      },
      "source": [
        "# Set up function parameters for different cross validation strategies\n",
        "kfold = KFold(n_splits=5) # I use this in PART 1.\n",
        "skfold = StratifiedKFold(n_splits=5, shuffle=True) \n",
        "rkf = RepeatedKFold(n_splits=5, n_repeats=10, random_state=1) # I use this in PART 2."
      ],
      "execution_count": 0,
      "outputs": []
    },
    {
      "cell_type": "markdown",
      "metadata": {
        "id": "A18P0l5H0G0_",
        "colab_type": "text"
      },
      "source": [
        "### KNN for regression with cross-validation"
      ]
    },
    {
      "cell_type": "code",
      "metadata": {
        "id": "bqpT_Mu_0G1C",
        "colab_type": "code",
        "colab": {
          "base_uri": "https://localhost:8080/",
          "height": 91
        },
        "outputId": "3f7e3366-b3e1-4e08-8cfb-77087eb2d5bf"
      },
      "source": [
        "from sklearn.neighbors import KNeighborsRegressor\n",
        "\n",
        "knn = KNeighborsRegressor(n_neighbors=14) # Play around with n_neighbors to determine best fit\n",
        "knn.fit(X_train, y_train)\n",
        "\n",
        "print(\"KNN for REGRESSION (UNSCALED DATA)\")\n",
        "\n",
        "# Training and Test Scores\n",
        "print(\"Training set score: {:.2f}\".format(knn.score(X_train, y_train)))\n",
        "print(\"Test set score: {:.2f}\".format(knn.score(X_test, y_test)))\n",
        "\n",
        "# Kfold cross validation\n",
        "print(\"Mean Cross-Validation, Kfold: {:.2f}\".format(np.mean(cross_val_score(knn, X_train, y_train, scoring='r2', cv=kfold))))\n",
        "\n",
        "knn_unscaled = np.mean(cross_val_score(knn, X_train, y_train, scoring='r2', cv=kfold)) # Will use later to compare results"
      ],
      "execution_count": 13,
      "outputs": [
        {
          "output_type": "stream",
          "text": [
            "KNN for REGRESSION (UNSCALED DATA)\n",
            "Training set score: 0.16\n",
            "Test set score: 0.03\n",
            "Mean Cross-Validation, Kfold: 0.03\n"
          ],
          "name": "stdout"
        }
      ]
    },
    {
      "cell_type": "markdown",
      "metadata": {
        "id": "g9tfjKQZ0G1P",
        "colab_type": "text"
      },
      "source": [
        "**Note:** KNN Regression with unscaled data is not accurate."
      ]
    },
    {
      "cell_type": "markdown",
      "metadata": {
        "id": "bG4SZQAs0G1R",
        "colab_type": "text"
      },
      "source": [
        "### Linear Regression (OLS) with cross-validation"
      ]
    },
    {
      "cell_type": "code",
      "metadata": {
        "id": "5HPUUHd10G1U",
        "colab_type": "code",
        "colab": {
          "base_uri": "https://localhost:8080/",
          "height": 91
        },
        "outputId": "41f2fabc-6958-4eaa-f9bf-1b1a3be45b0b"
      },
      "source": [
        "from sklearn.linear_model import LinearRegression\n",
        "\n",
        "lr = LinearRegression().fit(X_train, y_train) # Fit the training data to a regression line\n",
        "\n",
        "print(\"LINEAR REGRESSION (UNSCALED DATA)\")\n",
        "print(\"Training set score: {:.2f}\".format(lr.score(X_train, y_train)))\n",
        "print(\"Test set score: {:.2f}\".format(lr.score(X_test, y_test)))\n",
        "\n",
        "# Kfold cross validation\n",
        "print(\"Mean Cross-Validation, Kfold: {:.2f}\".format(np.mean(cross_val_score(lr, X_train, y_train, cv=kfold))))\n",
        "\n",
        "OLS_unscaled = np.mean(cross_val_score(lr, X_train, y_train, cv=kfold)) # Will use later to compare results"
      ],
      "execution_count": 22,
      "outputs": [
        {
          "output_type": "stream",
          "text": [
            "LINEAR REGRESSION (UNSCALED DATA)\n",
            "Training set score: 0.81\n",
            "Test set score: 0.81\n",
            "Mean Cross-Validation, Kfold: 0.78\n"
          ],
          "name": "stdout"
        }
      ]
    },
    {
      "cell_type": "markdown",
      "metadata": {
        "id": "qR07Odx_0G1m",
        "colab_type": "text"
      },
      "source": [
        "**Note:** Linear Regression with unscaled data has an avg. accuracy of 78%."
      ]
    },
    {
      "cell_type": "markdown",
      "metadata": {
        "id": "PA91Qu4p0G1p",
        "colab_type": "text"
      },
      "source": [
        "### Ridge with cross-validation"
      ]
    },
    {
      "cell_type": "code",
      "metadata": {
        "id": "Ug_DTTrT0G1r",
        "colab_type": "code",
        "colab": {
          "base_uri": "https://localhost:8080/",
          "height": 91
        },
        "outputId": "d5792ee8-104f-4e5d-b4bf-f42e47e96bca"
      },
      "source": [
        "from sklearn.linear_model import Ridge\n",
        "\n",
        "ridge = Ridge(alpha=0.01, max_iter=100000).fit(X_train, y_train) # Fit the training data to a ridge regression line\n",
        "\n",
        "print(\"RIDGE REGRESSION (UNSCALED DATA)\") # Ridge is L2 penalty, which adds “squared magnitude” of coefficient as penalty term to the loss function. Good for avoiding the over-fitting issue\n",
        "print(\"Training set score: {:.2f}\".format(ridge.score(X_train, y_train)))\n",
        "print(\"Test set score: {:.2f}\".format(ridge.score(X_test, y_test)))\n",
        "\n",
        "# Kfold cross validation\n",
        "print(\"Mean Cross-Validation, Kfold: {:.2f}\".format(np.mean(cross_val_score(ridge, X_train, y_train, cv=kfold))))\n",
        "\n",
        "ridge_unscaled = np.mean(cross_val_score(ridge, X_train, y_train, cv=kfold)) # Will use later to compare results"
      ],
      "execution_count": 15,
      "outputs": [
        {
          "output_type": "stream",
          "text": [
            "RIDGE REGRESSION (UNSCALED DATA)\n",
            "Training set score: 0.81\n",
            "Test set score: 0.81\n",
            "Mean Cross-Validation, Kfold: 0.78\n"
          ],
          "name": "stdout"
        }
      ]
    },
    {
      "cell_type": "markdown",
      "metadata": {
        "id": "t4spCNmc0G16",
        "colab_type": "text"
      },
      "source": [
        "**Note:** Ridge Regression with unscaled data has an avg. accuracy of 78%."
      ]
    },
    {
      "cell_type": "markdown",
      "metadata": {
        "id": "BwUqr6U40G19",
        "colab_type": "text"
      },
      "source": [
        "### LASSO with cross-validation"
      ]
    },
    {
      "cell_type": "code",
      "metadata": {
        "id": "yhgYccwq0G2B",
        "colab_type": "code",
        "colab": {
          "base_uri": "https://localhost:8080/",
          "height": 91
        },
        "outputId": "26d21b2c-8c41-4775-f602-218fb3470bbb"
      },
      "source": [
        "from sklearn.linear_model import Lasso\n",
        "\n",
        "lasso = Lasso(alpha=0.01, max_iter=100000).fit(X_train, y_train) # Fit the training data to a lasso regression line with alpha = 0.01 and 100,000 iterations\n",
        "\n",
        "print(\"LASSO REGRESSION (UNSCALED DATA)\") # LASSO is L1 penalty, which adds “absolute value of magnitude” of coefficient as penalty term to the loss function. Good for feature selection when you have a lot of features.\n",
        "print(\"Training set score: {:.2f}\".format(lasso.score(X_train, y_train)))\n",
        "print(\"Test set score: {:.2f}\".format(lasso.score(X_test, y_test)))\n",
        "\n",
        "# Kfold cross validation\n",
        "print(\"Mean Cross-Validation, Kfold: {:.2f}\".format(np.mean(cross_val_score(lasso, X_train, y_train, cv=kfold))))\n",
        "\n",
        "lasso_unscaled = np.mean(cross_val_score(lasso, X_train, y_train, cv=rkf)) # Will use later to compare results"
      ],
      "execution_count": 16,
      "outputs": [
        {
          "output_type": "stream",
          "text": [
            "LASSO REGRESSION (UNSCALED DATA)\n",
            "Training set score: 0.81\n",
            "Test set score: 0.81\n",
            "Mean Cross-Validation, Kfold: 0.78\n"
          ],
          "name": "stdout"
        }
      ]
    },
    {
      "cell_type": "markdown",
      "metadata": {
        "id": "izvVHV9N0G2K",
        "colab_type": "text"
      },
      "source": [
        "**Note:** Lasso regression with unscaled data as the same avg. accuracy as Ridge, 78%."
      ]
    },
    {
      "cell_type": "markdown",
      "metadata": {
        "id": "hCt2wqpC0G2N",
        "colab_type": "text"
      },
      "source": [
        "## 1.3c Does scaling the data with the StandardScaler help?"
      ]
    },
    {
      "cell_type": "code",
      "metadata": {
        "id": "fmhzW70z0G2T",
        "colab_type": "code",
        "colab": {}
      },
      "source": [
        "from sklearn import preprocessing\n",
        "\n",
        "# Here, I standardize by X data using StandardScalar\n",
        "scaler = preprocessing.StandardScaler().fit(X_train)\n",
        "X_train_scaled = scaler.transform(X_train)\n",
        "X_test_scaled = scaler.transform(X_test)"
      ],
      "execution_count": 0,
      "outputs": []
    },
    {
      "cell_type": "markdown",
      "metadata": {
        "id": "DF5DX4K10G2c",
        "colab_type": "text"
      },
      "source": [
        "### Scaled KNN Regression"
      ]
    },
    {
      "cell_type": "code",
      "metadata": {
        "id": "X45LXwzE0G2e",
        "colab_type": "code",
        "colab": {
          "base_uri": "https://localhost:8080/",
          "height": 91
        },
        "outputId": "966703f9-97b3-4285-e451-bcfbb4fc08cb"
      },
      "source": [
        "knn = KNeighborsRegressor(n_neighbors=14).fit(X_train_scaled, y_train)\n",
        "\n",
        "print(\"KNN for REGRESSION (SCALED DATA)\")\n",
        "print(\"Training set score: {:.2f}\".format(knn.score(X_train_scaled, y_train)))\n",
        "print(\"Test set score: {:.2f}\".format(knn.score(X_test_scaled, y_test)))\n",
        "\n",
        "# Kfold cross validation\n",
        "print(\"Mean Cross-Validation, Kfold: {:.2f}\".format(np.mean(cross_val_score(knn, X_train_scaled, y_train, cv=kfold))))\n",
        "\n",
        "knn_scaled = np.mean(cross_val_score(knn, X_train_scaled, y_train, cv=kfold))"
      ],
      "execution_count": 18,
      "outputs": [
        {
          "output_type": "stream",
          "text": [
            "KNN for REGRESSION (SCALED DATA)\n",
            "Training set score: 0.77\n",
            "Test set score: 0.76\n",
            "Mean Cross-Validation, Kfold: 0.72\n"
          ],
          "name": "stdout"
        }
      ]
    },
    {
      "cell_type": "markdown",
      "metadata": {
        "id": "ghvhujHh0G2o",
        "colab_type": "text"
      },
      "source": [
        "**Note:** Avg. accuracy of KNN model improves greatly with scaled data."
      ]
    },
    {
      "cell_type": "code",
      "metadata": {
        "id": "-wPvvciL0G2r",
        "colab_type": "code",
        "colab": {
          "base_uri": "https://localhost:8080/",
          "height": 54
        },
        "outputId": "f0463f9d-6787-4a36-865b-99dc339294ce"
      },
      "source": [
        "print(\"KNN with unscaled data: {:.2f}\".format(knn_unscaled))\n",
        "print(\"KNN with scaled data  : {:.2f}\".format(knn_scaled))"
      ],
      "execution_count": 19,
      "outputs": [
        {
          "output_type": "stream",
          "text": [
            "KNN with unscaled data: 0.03\n",
            "KNN with scaled data  : 0.72\n"
          ],
          "name": "stdout"
        }
      ]
    },
    {
      "cell_type": "markdown",
      "metadata": {
        "id": "yBOyTAF20G2z",
        "colab_type": "text"
      },
      "source": [
        "### Scaled Linear Regression (OLS)"
      ]
    },
    {
      "cell_type": "code",
      "metadata": {
        "id": "CWIuciev0G21",
        "colab_type": "code",
        "colab": {
          "base_uri": "https://localhost:8080/",
          "height": 91
        },
        "outputId": "77c30b5c-99e1-4ae3-8874-6a9c34dcfec1"
      },
      "source": [
        "lr = LinearRegression().fit(X_train_scaled, y_train)\n",
        "\n",
        "print(\"LINEAR REGRESSION (SCALED DATA)\")\n",
        "print(\"Training set score: {:.2f}\".format(lr.score(X_train_scaled, y_train)))\n",
        "print(\"Test set score: {:.2f}\".format(lr.score(X_test_scaled, y_test)))\n",
        "\n",
        "# Kfold cross validation\n",
        "print(\"Mean Cross-Validation, Kfold: {:.2f}\".format(np.mean(cross_val_score(lr, X_train_scaled, y_train, cv=kfold))))\n",
        "\n",
        "OLS_scaled = np.mean(cross_val_score(lr, X_train_scaled, y_train, cv=kfold))"
      ],
      "execution_count": 23,
      "outputs": [
        {
          "output_type": "stream",
          "text": [
            "LINEAR REGRESSION (SCALED DATA)\n",
            "Training set score: 0.81\n",
            "Test set score: 0.81\n",
            "Mean Cross-Validation, Kfold: 0.78\n"
          ],
          "name": "stdout"
        }
      ]
    },
    {
      "cell_type": "markdown",
      "metadata": {
        "id": "LLCu5Xz30G28",
        "colab_type": "text"
      },
      "source": [
        "**Note:** Avg. accuracy of linear regression model does not improve with scaled data."
      ]
    },
    {
      "cell_type": "code",
      "metadata": {
        "id": "A97j4BHm0G2-",
        "colab_type": "code",
        "colab": {
          "base_uri": "https://localhost:8080/",
          "height": 54
        },
        "outputId": "b9ce019c-1aab-49e5-c749-33d218cc117f"
      },
      "source": [
        "print(\"Linear regression with unscaled data: {:.2f}\".format(OLS_unscaled))\n",
        "print(\"Linear regression with scaled data  : {:.2f}\".format(OLS_scaled))"
      ],
      "execution_count": 24,
      "outputs": [
        {
          "output_type": "stream",
          "text": [
            "Linear regression with unscaled data: 0.78\n",
            "Linear regression with scaled data  : 0.78\n"
          ],
          "name": "stdout"
        }
      ]
    },
    {
      "cell_type": "markdown",
      "metadata": {
        "id": "1eW2I1eT0G3J",
        "colab_type": "text"
      },
      "source": [
        "### Scaled Ridge Regression"
      ]
    },
    {
      "cell_type": "code",
      "metadata": {
        "id": "SyNIws9R0G3O",
        "colab_type": "code",
        "colab": {
          "base_uri": "https://localhost:8080/",
          "height": 91
        },
        "outputId": "18f5d203-340f-4c47-8ebd-17be9c284855"
      },
      "source": [
        "ridge = Ridge(alpha=0.01, max_iter=100000).fit(X_train_scaled, y_train)\n",
        "\n",
        "print(\"RIDGE REGRESSION (SCALED DATA)\")\n",
        "print(\"Training set score: {:.2f}\".format(ridge.score(X_train_scaled, y_train)))\n",
        "print(\"Test set score: {:.2f}\".format(ridge.score(X_test_scaled, y_test)))\n",
        "\n",
        "# Kfold cross validation\n",
        "print(\"Mean Cross-Validation, Kfold: {:.2f}\".format(np.mean(cross_val_score(ridge, X_train_scaled, y_train, cv=kfold))))\n",
        "\n",
        "ridge_scaled = np.mean(cross_val_score(ridge, X_train_scaled, y_train, cv=kfold))"
      ],
      "execution_count": 25,
      "outputs": [
        {
          "output_type": "stream",
          "text": [
            "RIDGE REGRESSION (SCALED DATA)\n",
            "Training set score: 0.81\n",
            "Test set score: 0.81\n",
            "Mean Cross-Validation, Kfold: 0.78\n"
          ],
          "name": "stdout"
        }
      ]
    },
    {
      "cell_type": "markdown",
      "metadata": {
        "id": "kFoQLjyE0G3b",
        "colab_type": "text"
      },
      "source": [
        "**Note:** Avg. accuracy of ridge model does not improve with scaled data."
      ]
    },
    {
      "cell_type": "code",
      "metadata": {
        "id": "LyX-cGq30G3e",
        "colab_type": "code",
        "colab": {
          "base_uri": "https://localhost:8080/",
          "height": 54
        },
        "outputId": "1fc220e4-5b4e-426d-e2c2-2c84291c815f"
      },
      "source": [
        "print(\"Ridge regression with unscaled data: {:.2f}\".format(ridge_unscaled))\n",
        "print(\"Ridge regression with scaled data  : {:.2f}\".format(ridge_scaled))"
      ],
      "execution_count": 26,
      "outputs": [
        {
          "output_type": "stream",
          "text": [
            "Ridge regression with unscaled data: 0.78\n",
            "Ridge regression with scaled data  : 0.78\n"
          ],
          "name": "stdout"
        }
      ]
    },
    {
      "cell_type": "markdown",
      "metadata": {
        "id": "AiPiS8-P0G3l",
        "colab_type": "text"
      },
      "source": [
        "### Scaled Lasso Regression"
      ]
    },
    {
      "cell_type": "code",
      "metadata": {
        "id": "MOHoWC810G3n",
        "colab_type": "code",
        "colab": {
          "base_uri": "https://localhost:8080/",
          "height": 91
        },
        "outputId": "90793289-c0e6-4a53-d5b7-e1623bb86dda"
      },
      "source": [
        "lasso = Lasso(alpha=0.01, max_iter=100000).fit(X_train_scaled, y_train)\n",
        "\n",
        "print(\"LASSO REGRESSION (SCALED DATA)\")\n",
        "print(\"Training set score: {:.2f}\".format(lasso.score(X_train_scaled, y_train)))\n",
        "print(\"Test set score: {:.2f}\".format(lasso.score(X_test_scaled, y_test)))\n",
        "\n",
        "# Kfold cross validation\n",
        "print(\"Mean Cross-Validation, Kfold: {:.2f}\".format(np.mean(cross_val_score(lasso, X_train_scaled, y_train, cv=kfold))))\n",
        "\n",
        "lasso_scaled = np.mean(cross_val_score(lasso, X_train_scaled, y_train, cv=rkf))"
      ],
      "execution_count": 27,
      "outputs": [
        {
          "output_type": "stream",
          "text": [
            "LASSO REGRESSION (SCALED DATA)\n",
            "Training set score: 0.81\n",
            "Test set score: 0.81\n",
            "Mean Cross-Validation, Kfold: 0.78\n"
          ],
          "name": "stdout"
        }
      ]
    },
    {
      "cell_type": "markdown",
      "metadata": {
        "id": "aeukElb40G3y",
        "colab_type": "text"
      },
      "source": [
        "**Note:** Avg. accuracy of LASSO model does not improve with scaled data."
      ]
    },
    {
      "cell_type": "code",
      "metadata": {
        "id": "X0Aef53o0G3z",
        "colab_type": "code",
        "colab": {
          "base_uri": "https://localhost:8080/",
          "height": 54
        },
        "outputId": "1fc65917-4014-485b-b534-76eff1b0ae6c"
      },
      "source": [
        "print(\"LASSO regression with unscaled data: {:.2f}\".format(lasso_unscaled))\n",
        "print(\"LASSO regression with scaled data  : {:.2f}\".format(lasso_scaled))"
      ],
      "execution_count": 28,
      "outputs": [
        {
          "output_type": "stream",
          "text": [
            "LASSO regression with unscaled data: 0.79\n",
            "LASSO regression with scaled data  : 0.79\n"
          ],
          "name": "stdout"
        }
      ]
    },
    {
      "cell_type": "markdown",
      "metadata": {
        "id": "jsrirmrL0G37",
        "colab_type": "text"
      },
      "source": [
        "**Answer:** \n",
        "Scalling improves training scores for KNN, but affords little change to the other methods."
      ]
    },
    {
      "cell_type": "markdown",
      "metadata": {
        "id": "KbAPAmAY0G3-",
        "colab_type": "text"
      },
      "source": [
        "## 1.4 Tune the parameters of the models where possible using GridSearchCV. "
      ]
    },
    {
      "cell_type": "code",
      "metadata": {
        "id": "iSsiGXhb0G4A",
        "colab_type": "code",
        "colab": {}
      },
      "source": [
        "from sklearn.pipeline import make_pipeline\n",
        "from sklearn.model_selection import GridSearchCV\n",
        "from sklearn.preprocessing import StandardScaler"
      ],
      "execution_count": 0,
      "outputs": []
    },
    {
      "cell_type": "markdown",
      "metadata": {
        "id": "2Z7UeZ5f0G4I",
        "colab_type": "text"
      },
      "source": [
        "### GridsearchCV with KNN Regression"
      ]
    },
    {
      "cell_type": "code",
      "metadata": {
        "id": "4T6-loqx0G4J",
        "colab_type": "code",
        "colab": {},
        "outputId": "374b038e-314c-4f24-e144-d1fafd26ee61"
      },
      "source": [
        "knn_pipe = make_pipeline(StandardScaler(), KNeighborsRegressor())\n",
        "# print(knn_pipe.steps) \n",
        "# Name of step = 'kneighborsregressor' + __ + n_neighbors\n",
        "\n",
        "knn_param_grid = {'kneighborsregressor__n_neighbors': range(1, 10)} # remember, use two underscores before n, \"__n\"\n",
        "knn_grid = GridSearchCV(knn_pipe, knn_param_grid, cv=kfold).fit(X_train_scaled, y_train)\n",
        "\n",
        "print(\"KNN for REGRESSION (SCALED DATA)\")\n",
        "print(\"Test set Score: {:.2f}\".format(knn_grid.score(X_test_scaled, y_test)))\n",
        "#print(\"Best Cross-Validation Score: {:.2f}\".format(knn_grid.best_score_))\n",
        "print(\"Best Parameter: {}\".format(knn_grid.best_params_))"
      ],
      "execution_count": 0,
      "outputs": [
        {
          "output_type": "stream",
          "text": [
            "KNN for REGRESSION (SCALED DATA)\n",
            "Test set Score: 0.78\n",
            "Best Parameter: {'kneighborsregressor__n_neighbors': 6}\n"
          ],
          "name": "stdout"
        }
      ]
    },
    {
      "cell_type": "markdown",
      "metadata": {
        "id": "XwIDR4lT0G4Q",
        "colab_type": "text"
      },
      "source": [
        "**Note:** Best parameter for KNN is n_neighbors = 6"
      ]
    },
    {
      "cell_type": "code",
      "metadata": {
        "id": "uAnDcWNm0G4V",
        "colab_type": "code",
        "colab": {},
        "outputId": "7c785e1c-d82e-46fe-e960-f6a58037d4e1"
      },
      "source": [
        "knn = KNeighborsRegressor(n_neighbors=6).fit(X_train_scaled, y_train)\n",
        "print(\"KNN Test set score: {:.2f}\".format(knn.score(X_test_scaled, y_test)))\n",
        "best_knn = knn.score(X_test_scaled, y_test)"
      ],
      "execution_count": 0,
      "outputs": [
        {
          "output_type": "stream",
          "text": [
            "KNN Test set score: 0.78\n"
          ],
          "name": "stdout"
        }
      ]
    },
    {
      "cell_type": "markdown",
      "metadata": {
        "id": "8siJ_lwp0G4b",
        "colab_type": "text"
      },
      "source": [
        "### GridsearchCV with Linear Regression (OLS)"
      ]
    },
    {
      "cell_type": "markdown",
      "metadata": {
        "id": "BQlHqpfO0G4d",
        "colab_type": "text"
      },
      "source": [
        "**Note:** There are no parameters to 'tune' with OLS."
      ]
    },
    {
      "cell_type": "markdown",
      "metadata": {
        "id": "aNKILFcQ0G4f",
        "colab_type": "text"
      },
      "source": [
        "### Gridsearch with Ridge Regression"
      ]
    },
    {
      "cell_type": "code",
      "metadata": {
        "id": "L3Uqrpdf0G4g",
        "colab_type": "code",
        "colab": {},
        "outputId": "c7ca4666-cd14-44fb-e05f-89bef0945a51"
      },
      "source": [
        "ridge_pipe = make_pipeline(StandardScaler(), Ridge())\n",
        "# print(ridge_pipe.steps) \n",
        "# Name of step = 'ridge' + __ + alpha\n",
        "\n",
        "ridge_param_grid = {'ridge__alpha': np.linspace(0.1, 100.1, 1)}\n",
        "ridge_grid = GridSearchCV(ridge_pipe, ridge_param_grid, cv=kfold).fit(X_train_scaled, y_train)\n",
        "\n",
        "print(\"RIDGE REGRESSION (SCALED DATA)\")\n",
        "print(\"Test set Score: {:.2f}\".format(ridge_grid.score(X_test_scaled, y_test)))\n",
        "#print(\"Best Cross-Validation Score: {:.2f}\".format(ridge_grid.best_score_))\n",
        "print(\"Best Parameter: {}\".format(ridge_grid.best_params_))"
      ],
      "execution_count": 0,
      "outputs": [
        {
          "output_type": "stream",
          "text": [
            "RIDGE REGRESSION (SCALED DATA)\n",
            "Test set Score: 0.81\n",
            "Best Parameter: {'ridge__alpha': 0.1}\n"
          ],
          "name": "stdout"
        }
      ]
    },
    {
      "cell_type": "markdown",
      "metadata": {
        "id": "uLwBXqB60G4n",
        "colab_type": "text"
      },
      "source": [
        "**Note:** Best parameter for ridge regression is alpha = 0.1"
      ]
    },
    {
      "cell_type": "code",
      "metadata": {
        "id": "Qrkw-sa90G4p",
        "colab_type": "code",
        "colab": {},
        "outputId": "0bc41988-127a-4e84-b3f4-4cf479752719"
      },
      "source": [
        "ridge = Ridge(alpha=0.1, max_iter=100000).fit(X_train_scaled, y_train)\n",
        "print(\"Ridge test set score: {:.2f}\".format(ridge.score(X_test_scaled, y_test)))\n",
        "best_ridge = np.mean(cross_val_score(ridge, X_train_scaled, y_train, cv=kfold))"
      ],
      "execution_count": 0,
      "outputs": [
        {
          "output_type": "stream",
          "text": [
            "Ridge test set score: 0.81\n"
          ],
          "name": "stdout"
        }
      ]
    },
    {
      "cell_type": "markdown",
      "metadata": {
        "id": "fk0gohGH0G4v",
        "colab_type": "text"
      },
      "source": [
        "### Gridsearch with LASSO Regression"
      ]
    },
    {
      "cell_type": "code",
      "metadata": {
        "id": "BLFA_kRl0G4x",
        "colab_type": "code",
        "colab": {},
        "outputId": "11a8f700-e2c6-490c-b999-ed1bd100a00d"
      },
      "source": [
        "lasso_pipe = make_pipeline(StandardScaler(), Lasso())\n",
        "# print(lasso_pipe.steps) \n",
        "# Name of step = 'lasso' + __ + alpha\n",
        "\n",
        "lasso_param_grid = {'lasso__alpha': np.linspace(0.1, 100.0, 1)}\n",
        "lasso_grid = GridSearchCV(lasso_pipe, lasso_param_grid, cv=kfold).fit(X_train_scaled, y_train)\n",
        "\n",
        "print(\"LASSO REGRESSION (SCALED DATA)\")\n",
        "print(\"Test set Score: {:.2f}\".format(lasso_grid.score(X_test_scaled, y_test)))\n",
        "#print(\"Best Cross-Validation Score: {:.2f}\".format(lasso_grid.best_score_))\n",
        "print(\"Best Parameter: {}\".format(lasso_grid.best_params_))"
      ],
      "execution_count": 0,
      "outputs": [
        {
          "output_type": "stream",
          "text": [
            "LASSO REGRESSION (SCALED DATA)\n",
            "Test set Score: 0.81\n",
            "Best Parameter: {'lasso__alpha': 0.1}\n"
          ],
          "name": "stdout"
        }
      ]
    },
    {
      "cell_type": "markdown",
      "metadata": {
        "id": "BExDCMuh0G47",
        "colab_type": "text"
      },
      "source": [
        "**Note:** Best parameter for lasso regression is alpha = 0.1"
      ]
    },
    {
      "cell_type": "code",
      "metadata": {
        "id": "Wrk_bUmS0G49",
        "colab_type": "code",
        "colab": {},
        "outputId": "cee68291-4f7e-433e-c682-d6f9afe78b0c"
      },
      "source": [
        "lasso = Lasso(alpha=0.1, max_iter=100000).fit(X_train_scaled, y_train)\n",
        "print(\"LASSO test set score: {:.2f}\".format(lasso.score(X_test_scaled, y_test)))\n",
        "best_lasso = np.mean(cross_val_score(lasso, X_train_scaled, y_train, cv=rkf))"
      ],
      "execution_count": 0,
      "outputs": [
        {
          "output_type": "stream",
          "text": [
            "LASSO test set score: 0.81\n"
          ],
          "name": "stdout"
        }
      ]
    },
    {
      "cell_type": "markdown",
      "metadata": {
        "id": "wHK6x8AM0G5G",
        "colab_type": "text"
      },
      "source": [
        "## Do the results improve?"
      ]
    },
    {
      "cell_type": "code",
      "metadata": {
        "id": "KjhdDnlu0G5I",
        "colab_type": "code",
        "colab": {},
        "outputId": "ec66ad24-94db-41d6-9561-48fcb288850f"
      },
      "source": [
        "print(\"KNN\")\n",
        "print(\"Before Gridsearch: {:.2f}\".format(knn_scaled))\n",
        "print(\"After Gridsearch: {:.2f}\".format(best_knn))\n",
        "print(\"\")\n",
        "print(\"RIDGE\")\n",
        "print(\"Before Gridsearch: {:.2f}\".format(ridge_scaled))\n",
        "print(\"After Gridsearch: {:.2f}\".format(best_ridge))\n",
        "print(\"\")\n",
        "print(\"LASSO\")\n",
        "print(\"Before Gridsearch: {:.2f}\".format(lasso_scaled))\n",
        "print(\"After Gridsearch: {:.2f}\".format(best_lasso))"
      ],
      "execution_count": 0,
      "outputs": [
        {
          "output_type": "stream",
          "text": [
            "KNN\n",
            "Before Gridsearch: 0.72\n",
            "After Gridsearch: 0.78\n",
            "\n",
            "RIDGE\n",
            "Before Gridsearch: 0.78\n",
            "After Gridsearch: 0.78\n",
            "\n",
            "LASSO\n",
            "Before Gridsearch: 0.79\n",
            "After Gridsearch: 0.79\n"
          ],
          "name": "stdout"
        }
      ]
    },
    {
      "cell_type": "markdown",
      "metadata": {
        "id": "n8AYmXP80G5T",
        "colab_type": "text"
      },
      "source": [
        "**Answer:** Yes. Tuning the parameters slightly improved each model, but KNN showed the only improvement that's really worthy of note."
      ]
    },
    {
      "cell_type": "markdown",
      "metadata": {
        "id": "EbvJf7yI0G5V",
        "colab_type": "text"
      },
      "source": [
        "## 1.5 Compare the coefficients of your two best linear models (not knn), do they agree on which features are important?"
      ]
    },
    {
      "cell_type": "markdown",
      "metadata": {
        "id": "mNg8ck0L0G5a",
        "colab_type": "text"
      },
      "source": [
        "**Note:** My two best linear models are Ridge and LASSO."
      ]
    },
    {
      "cell_type": "code",
      "metadata": {
        "id": "KkwMc3S80G5e",
        "colab_type": "code",
        "colab": {},
        "outputId": "9d3015b3-e975-41c5-d262-faa5e4b97fc8"
      },
      "source": [
        "d = {'LASSO': lasso.coef_, 'Ridge': ridge.coef_} # Builds a dictionary with the coefficients from my LASSO & Ridge models\n",
        "coefficients = pd.DataFrame(data=d, index=X.columns) # Puts the dictionary into a dataframe along with variable names\n",
        "coefficients.head(10)"
      ],
      "execution_count": 0,
      "outputs": [
        {
          "output_type": "execute_result",
          "data": {
            "text/html": [
              "<div>\n",
              "<style scoped>\n",
              "    .dataframe tbody tr th:only-of-type {\n",
              "        vertical-align: middle;\n",
              "    }\n",
              "\n",
              "    .dataframe tbody tr th {\n",
              "        vertical-align: top;\n",
              "    }\n",
              "\n",
              "    .dataframe thead th {\n",
              "        text-align: right;\n",
              "    }\n",
              "</style>\n",
              "<table border=\"1\" class=\"dataframe\">\n",
              "  <thead>\n",
              "    <tr style=\"text-align: right;\">\n",
              "      <th></th>\n",
              "      <th>LASSO</th>\n",
              "      <th>Ridge</th>\n",
              "    </tr>\n",
              "  </thead>\n",
              "  <tbody>\n",
              "    <tr>\n",
              "      <th>enrltot</th>\n",
              "      <td>-0.000000</td>\n",
              "      <td>0.777656</td>\n",
              "    </tr>\n",
              "    <tr>\n",
              "      <th>teachers</th>\n",
              "      <td>-0.000000</td>\n",
              "      <td>-1.706045</td>\n",
              "    </tr>\n",
              "    <tr>\n",
              "      <th>calwpct</th>\n",
              "      <td>-1.015310</td>\n",
              "      <td>-1.181975</td>\n",
              "    </tr>\n",
              "    <tr>\n",
              "      <th>mealpct</th>\n",
              "      <td>-9.931920</td>\n",
              "      <td>-9.763967</td>\n",
              "    </tr>\n",
              "    <tr>\n",
              "      <th>computer</th>\n",
              "      <td>0.000000</td>\n",
              "      <td>1.022309</td>\n",
              "    </tr>\n",
              "    <tr>\n",
              "      <th>compstu</th>\n",
              "      <td>0.019521</td>\n",
              "      <td>-0.093965</td>\n",
              "    </tr>\n",
              "    <tr>\n",
              "      <th>expnstu</th>\n",
              "      <td>1.074776</td>\n",
              "      <td>1.155323</td>\n",
              "    </tr>\n",
              "    <tr>\n",
              "      <th>str</th>\n",
              "      <td>-0.580477</td>\n",
              "      <td>-0.669615</td>\n",
              "    </tr>\n",
              "    <tr>\n",
              "      <th>avginc</th>\n",
              "      <td>3.697999</td>\n",
              "      <td>3.720510</td>\n",
              "    </tr>\n",
              "    <tr>\n",
              "      <th>elpct</th>\n",
              "      <td>-3.349810</td>\n",
              "      <td>-3.483024</td>\n",
              "    </tr>\n",
              "  </tbody>\n",
              "</table>\n",
              "</div>"
            ],
            "text/plain": [
              "             LASSO     Ridge\n",
              "enrltot  -0.000000  0.777656\n",
              "teachers -0.000000 -1.706045\n",
              "calwpct  -1.015310 -1.181975\n",
              "mealpct  -9.931920 -9.763967\n",
              "computer  0.000000  1.022309\n",
              "compstu   0.019521 -0.093965\n",
              "expnstu   1.074776  1.155323\n",
              "str      -0.580477 -0.669615\n",
              "avginc    3.697999  3.720510\n",
              "elpct    -3.349810 -3.483024"
            ]
          },
          "metadata": {
            "tags": []
          },
          "execution_count": 34
        }
      ]
    },
    {
      "cell_type": "markdown",
      "metadata": {
        "id": "48RHTNkh0G5n",
        "colab_type": "text"
      },
      "source": [
        "**Answer:** LASSO restricts (or shrinks) the less influential features to zero (see evidence in the code below). In this case, my LASSO has converted features with coefficients approximately between 0.5 and -0.5 to zero. Still, LASSO and Ridge agree on which features are important. For example, both models agree that **'mealpct'** has a negative relationship with 'testscr', while **'expnstu'** and **'anginc'** have a positive relationship with 'testscr'."
      ]
    },
    {
      "cell_type": "code",
      "metadata": {
        "id": "2SRcixER0G5o",
        "colab_type": "code",
        "colab": {},
        "outputId": "4f5105e5-e56f-4f58-d674-ea3c94407960"
      },
      "source": [
        "print(\"Number of features used with LASSO: {}\".format(np.sum(lasso.coef_ != 0)))\n",
        "print(\"Number of features used with Ridge: {}\".format(np.sum(ridge.coef_ != 0)))"
      ],
      "execution_count": 0,
      "outputs": [
        {
          "output_type": "stream",
          "text": [
            "Number of features used with LASSO: 7\n",
            "Number of features used with Ridge: 10\n"
          ],
          "name": "stdout"
        }
      ]
    },
    {
      "cell_type": "markdown",
      "metadata": {
        "id": "DuKR-2Wt0G5v",
        "colab_type": "text"
      },
      "source": [
        "## 1.6 Discuss which final model you would choose to predict new data"
      ]
    },
    {
      "cell_type": "markdown",
      "metadata": {
        "id": "vclfvlAj0G5w",
        "colab_type": "text"
      },
      "source": [
        "**Answer:** While each model has its advantages, I recommend LASSO with alpha = 0.1.  It has a slightly higher cross validated accuracy than other models.  "
      ]
    },
    {
      "cell_type": "markdown",
      "metadata": {
        "id": "SRS2hD6M0G5y",
        "colab_type": "text"
      },
      "source": [
        "# Part 2: Classification on red and white wine characteristics"
      ]
    },
    {
      "cell_type": "markdown",
      "metadata": {
        "id": "P_nZNfvh0G50",
        "colab_type": "text"
      },
      "source": [
        "First, import the red and the white wine csv files into separate pandas dataframes from the following website:\n",
        "\n",
        "https://archive.ics.uci.edu/ml/machine-learning-databases/wine-quality/Links to an external site.\n",
        "\n",
        "(Note: you need to adjust the argument for read_csv() from sep=',' to sep=';')"
      ]
    },
    {
      "cell_type": "code",
      "metadata": {
        "id": "fnd5BZe80G55",
        "colab_type": "code",
        "colab": {},
        "outputId": "ac3125db-0296-405a-ee2c-abdd1abdd46f"
      },
      "source": [
        "r = pd.read_csv(\"https://archive.ics.uci.edu/ml/machine-learning-databases/wine-quality/winequality-red.csv\", sep = ';')\n",
        "r.head()"
      ],
      "execution_count": 0,
      "outputs": [
        {
          "output_type": "execute_result",
          "data": {
            "text/html": [
              "<div>\n",
              "<style scoped>\n",
              "    .dataframe tbody tr th:only-of-type {\n",
              "        vertical-align: middle;\n",
              "    }\n",
              "\n",
              "    .dataframe tbody tr th {\n",
              "        vertical-align: top;\n",
              "    }\n",
              "\n",
              "    .dataframe thead th {\n",
              "        text-align: right;\n",
              "    }\n",
              "</style>\n",
              "<table border=\"1\" class=\"dataframe\">\n",
              "  <thead>\n",
              "    <tr style=\"text-align: right;\">\n",
              "      <th></th>\n",
              "      <th>fixed acidity</th>\n",
              "      <th>volatile acidity</th>\n",
              "      <th>citric acid</th>\n",
              "      <th>residual sugar</th>\n",
              "      <th>chlorides</th>\n",
              "      <th>free sulfur dioxide</th>\n",
              "      <th>total sulfur dioxide</th>\n",
              "      <th>density</th>\n",
              "      <th>pH</th>\n",
              "      <th>sulphates</th>\n",
              "      <th>alcohol</th>\n",
              "      <th>quality</th>\n",
              "    </tr>\n",
              "  </thead>\n",
              "  <tbody>\n",
              "    <tr>\n",
              "      <th>0</th>\n",
              "      <td>7.4</td>\n",
              "      <td>0.70</td>\n",
              "      <td>0.00</td>\n",
              "      <td>1.9</td>\n",
              "      <td>0.076</td>\n",
              "      <td>11.0</td>\n",
              "      <td>34.0</td>\n",
              "      <td>0.9978</td>\n",
              "      <td>3.51</td>\n",
              "      <td>0.56</td>\n",
              "      <td>9.4</td>\n",
              "      <td>5</td>\n",
              "    </tr>\n",
              "    <tr>\n",
              "      <th>1</th>\n",
              "      <td>7.8</td>\n",
              "      <td>0.88</td>\n",
              "      <td>0.00</td>\n",
              "      <td>2.6</td>\n",
              "      <td>0.098</td>\n",
              "      <td>25.0</td>\n",
              "      <td>67.0</td>\n",
              "      <td>0.9968</td>\n",
              "      <td>3.20</td>\n",
              "      <td>0.68</td>\n",
              "      <td>9.8</td>\n",
              "      <td>5</td>\n",
              "    </tr>\n",
              "    <tr>\n",
              "      <th>2</th>\n",
              "      <td>7.8</td>\n",
              "      <td>0.76</td>\n",
              "      <td>0.04</td>\n",
              "      <td>2.3</td>\n",
              "      <td>0.092</td>\n",
              "      <td>15.0</td>\n",
              "      <td>54.0</td>\n",
              "      <td>0.9970</td>\n",
              "      <td>3.26</td>\n",
              "      <td>0.65</td>\n",
              "      <td>9.8</td>\n",
              "      <td>5</td>\n",
              "    </tr>\n",
              "    <tr>\n",
              "      <th>3</th>\n",
              "      <td>11.2</td>\n",
              "      <td>0.28</td>\n",
              "      <td>0.56</td>\n",
              "      <td>1.9</td>\n",
              "      <td>0.075</td>\n",
              "      <td>17.0</td>\n",
              "      <td>60.0</td>\n",
              "      <td>0.9980</td>\n",
              "      <td>3.16</td>\n",
              "      <td>0.58</td>\n",
              "      <td>9.8</td>\n",
              "      <td>6</td>\n",
              "    </tr>\n",
              "    <tr>\n",
              "      <th>4</th>\n",
              "      <td>7.4</td>\n",
              "      <td>0.70</td>\n",
              "      <td>0.00</td>\n",
              "      <td>1.9</td>\n",
              "      <td>0.076</td>\n",
              "      <td>11.0</td>\n",
              "      <td>34.0</td>\n",
              "      <td>0.9978</td>\n",
              "      <td>3.51</td>\n",
              "      <td>0.56</td>\n",
              "      <td>9.4</td>\n",
              "      <td>5</td>\n",
              "    </tr>\n",
              "  </tbody>\n",
              "</table>\n",
              "</div>"
            ],
            "text/plain": [
              "   fixed acidity  volatile acidity  citric acid  residual sugar  chlorides  \\\n",
              "0            7.4              0.70         0.00             1.9      0.076   \n",
              "1            7.8              0.88         0.00             2.6      0.098   \n",
              "2            7.8              0.76         0.04             2.3      0.092   \n",
              "3           11.2              0.28         0.56             1.9      0.075   \n",
              "4            7.4              0.70         0.00             1.9      0.076   \n",
              "\n",
              "   free sulfur dioxide  total sulfur dioxide  density    pH  sulphates  \\\n",
              "0                 11.0                  34.0   0.9978  3.51       0.56   \n",
              "1                 25.0                  67.0   0.9968  3.20       0.68   \n",
              "2                 15.0                  54.0   0.9970  3.26       0.65   \n",
              "3                 17.0                  60.0   0.9980  3.16       0.58   \n",
              "4                 11.0                  34.0   0.9978  3.51       0.56   \n",
              "\n",
              "   alcohol  quality  \n",
              "0      9.4        5  \n",
              "1      9.8        5  \n",
              "2      9.8        5  \n",
              "3      9.8        6  \n",
              "4      9.4        5  "
            ]
          },
          "metadata": {
            "tags": []
          },
          "execution_count": 36
        }
      ]
    },
    {
      "cell_type": "code",
      "metadata": {
        "id": "HMfx-dIV0G6W",
        "colab_type": "code",
        "colab": {},
        "outputId": "c6c0f5e9-e834-4346-8b1c-2b2873caedc9"
      },
      "source": [
        "w = pd.read_csv(\"https://archive.ics.uci.edu/ml/machine-learning-databases/wine-quality/winequality-white.csv\", sep = ';')\n",
        "w.head()"
      ],
      "execution_count": 0,
      "outputs": [
        {
          "output_type": "execute_result",
          "data": {
            "text/html": [
              "<div>\n",
              "<style scoped>\n",
              "    .dataframe tbody tr th:only-of-type {\n",
              "        vertical-align: middle;\n",
              "    }\n",
              "\n",
              "    .dataframe tbody tr th {\n",
              "        vertical-align: top;\n",
              "    }\n",
              "\n",
              "    .dataframe thead th {\n",
              "        text-align: right;\n",
              "    }\n",
              "</style>\n",
              "<table border=\"1\" class=\"dataframe\">\n",
              "  <thead>\n",
              "    <tr style=\"text-align: right;\">\n",
              "      <th></th>\n",
              "      <th>fixed acidity</th>\n",
              "      <th>volatile acidity</th>\n",
              "      <th>citric acid</th>\n",
              "      <th>residual sugar</th>\n",
              "      <th>chlorides</th>\n",
              "      <th>free sulfur dioxide</th>\n",
              "      <th>total sulfur dioxide</th>\n",
              "      <th>density</th>\n",
              "      <th>pH</th>\n",
              "      <th>sulphates</th>\n",
              "      <th>alcohol</th>\n",
              "      <th>quality</th>\n",
              "    </tr>\n",
              "  </thead>\n",
              "  <tbody>\n",
              "    <tr>\n",
              "      <th>0</th>\n",
              "      <td>7.0</td>\n",
              "      <td>0.27</td>\n",
              "      <td>0.36</td>\n",
              "      <td>20.7</td>\n",
              "      <td>0.045</td>\n",
              "      <td>45.0</td>\n",
              "      <td>170.0</td>\n",
              "      <td>1.0010</td>\n",
              "      <td>3.00</td>\n",
              "      <td>0.45</td>\n",
              "      <td>8.8</td>\n",
              "      <td>6</td>\n",
              "    </tr>\n",
              "    <tr>\n",
              "      <th>1</th>\n",
              "      <td>6.3</td>\n",
              "      <td>0.30</td>\n",
              "      <td>0.34</td>\n",
              "      <td>1.6</td>\n",
              "      <td>0.049</td>\n",
              "      <td>14.0</td>\n",
              "      <td>132.0</td>\n",
              "      <td>0.9940</td>\n",
              "      <td>3.30</td>\n",
              "      <td>0.49</td>\n",
              "      <td>9.5</td>\n",
              "      <td>6</td>\n",
              "    </tr>\n",
              "    <tr>\n",
              "      <th>2</th>\n",
              "      <td>8.1</td>\n",
              "      <td>0.28</td>\n",
              "      <td>0.40</td>\n",
              "      <td>6.9</td>\n",
              "      <td>0.050</td>\n",
              "      <td>30.0</td>\n",
              "      <td>97.0</td>\n",
              "      <td>0.9951</td>\n",
              "      <td>3.26</td>\n",
              "      <td>0.44</td>\n",
              "      <td>10.1</td>\n",
              "      <td>6</td>\n",
              "    </tr>\n",
              "    <tr>\n",
              "      <th>3</th>\n",
              "      <td>7.2</td>\n",
              "      <td>0.23</td>\n",
              "      <td>0.32</td>\n",
              "      <td>8.5</td>\n",
              "      <td>0.058</td>\n",
              "      <td>47.0</td>\n",
              "      <td>186.0</td>\n",
              "      <td>0.9956</td>\n",
              "      <td>3.19</td>\n",
              "      <td>0.40</td>\n",
              "      <td>9.9</td>\n",
              "      <td>6</td>\n",
              "    </tr>\n",
              "    <tr>\n",
              "      <th>4</th>\n",
              "      <td>7.2</td>\n",
              "      <td>0.23</td>\n",
              "      <td>0.32</td>\n",
              "      <td>8.5</td>\n",
              "      <td>0.058</td>\n",
              "      <td>47.0</td>\n",
              "      <td>186.0</td>\n",
              "      <td>0.9956</td>\n",
              "      <td>3.19</td>\n",
              "      <td>0.40</td>\n",
              "      <td>9.9</td>\n",
              "      <td>6</td>\n",
              "    </tr>\n",
              "  </tbody>\n",
              "</table>\n",
              "</div>"
            ],
            "text/plain": [
              "   fixed acidity  volatile acidity  citric acid  residual sugar  chlorides  \\\n",
              "0            7.0              0.27         0.36            20.7      0.045   \n",
              "1            6.3              0.30         0.34             1.6      0.049   \n",
              "2            8.1              0.28         0.40             6.9      0.050   \n",
              "3            7.2              0.23         0.32             8.5      0.058   \n",
              "4            7.2              0.23         0.32             8.5      0.058   \n",
              "\n",
              "   free sulfur dioxide  total sulfur dioxide  density    pH  sulphates  \\\n",
              "0                 45.0                 170.0   1.0010  3.00       0.45   \n",
              "1                 14.0                 132.0   0.9940  3.30       0.49   \n",
              "2                 30.0                  97.0   0.9951  3.26       0.44   \n",
              "3                 47.0                 186.0   0.9956  3.19       0.40   \n",
              "4                 47.0                 186.0   0.9956  3.19       0.40   \n",
              "\n",
              "   alcohol  quality  \n",
              "0      8.8        6  \n",
              "1      9.5        6  \n",
              "2     10.1        6  \n",
              "3      9.9        6  \n",
              "4      9.9        6  "
            ]
          },
          "metadata": {
            "tags": []
          },
          "execution_count": 37
        }
      ]
    },
    {
      "cell_type": "markdown",
      "metadata": {
        "id": "RQmmXvCm0G6e",
        "colab_type": "text"
      },
      "source": [
        "Add a new column to each data frame called \"winetype\".  For the white wine dataset label the values in this column with a 0, indicating white wine.  For the red wine dataset, label values with a 1, indicating red wine."
      ]
    },
    {
      "cell_type": "code",
      "metadata": {
        "id": "mkk3WNcY0G6g",
        "colab_type": "code",
        "colab": {},
        "outputId": "488d97b5-c490-4589-f0dd-b1fa7ba79e95"
      },
      "source": [
        "red = r.assign(winetype=1)\n",
        "red.head()"
      ],
      "execution_count": 0,
      "outputs": [
        {
          "output_type": "execute_result",
          "data": {
            "text/html": [
              "<div>\n",
              "<style scoped>\n",
              "    .dataframe tbody tr th:only-of-type {\n",
              "        vertical-align: middle;\n",
              "    }\n",
              "\n",
              "    .dataframe tbody tr th {\n",
              "        vertical-align: top;\n",
              "    }\n",
              "\n",
              "    .dataframe thead th {\n",
              "        text-align: right;\n",
              "    }\n",
              "</style>\n",
              "<table border=\"1\" class=\"dataframe\">\n",
              "  <thead>\n",
              "    <tr style=\"text-align: right;\">\n",
              "      <th></th>\n",
              "      <th>fixed acidity</th>\n",
              "      <th>volatile acidity</th>\n",
              "      <th>citric acid</th>\n",
              "      <th>residual sugar</th>\n",
              "      <th>chlorides</th>\n",
              "      <th>free sulfur dioxide</th>\n",
              "      <th>total sulfur dioxide</th>\n",
              "      <th>density</th>\n",
              "      <th>pH</th>\n",
              "      <th>sulphates</th>\n",
              "      <th>alcohol</th>\n",
              "      <th>quality</th>\n",
              "      <th>winetype</th>\n",
              "    </tr>\n",
              "  </thead>\n",
              "  <tbody>\n",
              "    <tr>\n",
              "      <th>0</th>\n",
              "      <td>7.4</td>\n",
              "      <td>0.70</td>\n",
              "      <td>0.00</td>\n",
              "      <td>1.9</td>\n",
              "      <td>0.076</td>\n",
              "      <td>11.0</td>\n",
              "      <td>34.0</td>\n",
              "      <td>0.9978</td>\n",
              "      <td>3.51</td>\n",
              "      <td>0.56</td>\n",
              "      <td>9.4</td>\n",
              "      <td>5</td>\n",
              "      <td>1</td>\n",
              "    </tr>\n",
              "    <tr>\n",
              "      <th>1</th>\n",
              "      <td>7.8</td>\n",
              "      <td>0.88</td>\n",
              "      <td>0.00</td>\n",
              "      <td>2.6</td>\n",
              "      <td>0.098</td>\n",
              "      <td>25.0</td>\n",
              "      <td>67.0</td>\n",
              "      <td>0.9968</td>\n",
              "      <td>3.20</td>\n",
              "      <td>0.68</td>\n",
              "      <td>9.8</td>\n",
              "      <td>5</td>\n",
              "      <td>1</td>\n",
              "    </tr>\n",
              "    <tr>\n",
              "      <th>2</th>\n",
              "      <td>7.8</td>\n",
              "      <td>0.76</td>\n",
              "      <td>0.04</td>\n",
              "      <td>2.3</td>\n",
              "      <td>0.092</td>\n",
              "      <td>15.0</td>\n",
              "      <td>54.0</td>\n",
              "      <td>0.9970</td>\n",
              "      <td>3.26</td>\n",
              "      <td>0.65</td>\n",
              "      <td>9.8</td>\n",
              "      <td>5</td>\n",
              "      <td>1</td>\n",
              "    </tr>\n",
              "    <tr>\n",
              "      <th>3</th>\n",
              "      <td>11.2</td>\n",
              "      <td>0.28</td>\n",
              "      <td>0.56</td>\n",
              "      <td>1.9</td>\n",
              "      <td>0.075</td>\n",
              "      <td>17.0</td>\n",
              "      <td>60.0</td>\n",
              "      <td>0.9980</td>\n",
              "      <td>3.16</td>\n",
              "      <td>0.58</td>\n",
              "      <td>9.8</td>\n",
              "      <td>6</td>\n",
              "      <td>1</td>\n",
              "    </tr>\n",
              "    <tr>\n",
              "      <th>4</th>\n",
              "      <td>7.4</td>\n",
              "      <td>0.70</td>\n",
              "      <td>0.00</td>\n",
              "      <td>1.9</td>\n",
              "      <td>0.076</td>\n",
              "      <td>11.0</td>\n",
              "      <td>34.0</td>\n",
              "      <td>0.9978</td>\n",
              "      <td>3.51</td>\n",
              "      <td>0.56</td>\n",
              "      <td>9.4</td>\n",
              "      <td>5</td>\n",
              "      <td>1</td>\n",
              "    </tr>\n",
              "  </tbody>\n",
              "</table>\n",
              "</div>"
            ],
            "text/plain": [
              "   fixed acidity  volatile acidity  citric acid  residual sugar  chlorides  \\\n",
              "0            7.4              0.70         0.00             1.9      0.076   \n",
              "1            7.8              0.88         0.00             2.6      0.098   \n",
              "2            7.8              0.76         0.04             2.3      0.092   \n",
              "3           11.2              0.28         0.56             1.9      0.075   \n",
              "4            7.4              0.70         0.00             1.9      0.076   \n",
              "\n",
              "   free sulfur dioxide  total sulfur dioxide  density    pH  sulphates  \\\n",
              "0                 11.0                  34.0   0.9978  3.51       0.56   \n",
              "1                 25.0                  67.0   0.9968  3.20       0.68   \n",
              "2                 15.0                  54.0   0.9970  3.26       0.65   \n",
              "3                 17.0                  60.0   0.9980  3.16       0.58   \n",
              "4                 11.0                  34.0   0.9978  3.51       0.56   \n",
              "\n",
              "   alcohol  quality  winetype  \n",
              "0      9.4        5         1  \n",
              "1      9.8        5         1  \n",
              "2      9.8        5         1  \n",
              "3      9.8        6         1  \n",
              "4      9.4        5         1  "
            ]
          },
          "metadata": {
            "tags": []
          },
          "execution_count": 38
        }
      ]
    },
    {
      "cell_type": "code",
      "metadata": {
        "id": "q5XkPcJ00G6p",
        "colab_type": "code",
        "colab": {},
        "outputId": "79904610-7e2e-4d29-d7fc-e5cfe90baead"
      },
      "source": [
        "white = w.assign(winetype=0)\n",
        "white.head()"
      ],
      "execution_count": 0,
      "outputs": [
        {
          "output_type": "execute_result",
          "data": {
            "text/html": [
              "<div>\n",
              "<style scoped>\n",
              "    .dataframe tbody tr th:only-of-type {\n",
              "        vertical-align: middle;\n",
              "    }\n",
              "\n",
              "    .dataframe tbody tr th {\n",
              "        vertical-align: top;\n",
              "    }\n",
              "\n",
              "    .dataframe thead th {\n",
              "        text-align: right;\n",
              "    }\n",
              "</style>\n",
              "<table border=\"1\" class=\"dataframe\">\n",
              "  <thead>\n",
              "    <tr style=\"text-align: right;\">\n",
              "      <th></th>\n",
              "      <th>fixed acidity</th>\n",
              "      <th>volatile acidity</th>\n",
              "      <th>citric acid</th>\n",
              "      <th>residual sugar</th>\n",
              "      <th>chlorides</th>\n",
              "      <th>free sulfur dioxide</th>\n",
              "      <th>total sulfur dioxide</th>\n",
              "      <th>density</th>\n",
              "      <th>pH</th>\n",
              "      <th>sulphates</th>\n",
              "      <th>alcohol</th>\n",
              "      <th>quality</th>\n",
              "      <th>winetype</th>\n",
              "    </tr>\n",
              "  </thead>\n",
              "  <tbody>\n",
              "    <tr>\n",
              "      <th>0</th>\n",
              "      <td>7.0</td>\n",
              "      <td>0.27</td>\n",
              "      <td>0.36</td>\n",
              "      <td>20.7</td>\n",
              "      <td>0.045</td>\n",
              "      <td>45.0</td>\n",
              "      <td>170.0</td>\n",
              "      <td>1.0010</td>\n",
              "      <td>3.00</td>\n",
              "      <td>0.45</td>\n",
              "      <td>8.8</td>\n",
              "      <td>6</td>\n",
              "      <td>0</td>\n",
              "    </tr>\n",
              "    <tr>\n",
              "      <th>1</th>\n",
              "      <td>6.3</td>\n",
              "      <td>0.30</td>\n",
              "      <td>0.34</td>\n",
              "      <td>1.6</td>\n",
              "      <td>0.049</td>\n",
              "      <td>14.0</td>\n",
              "      <td>132.0</td>\n",
              "      <td>0.9940</td>\n",
              "      <td>3.30</td>\n",
              "      <td>0.49</td>\n",
              "      <td>9.5</td>\n",
              "      <td>6</td>\n",
              "      <td>0</td>\n",
              "    </tr>\n",
              "    <tr>\n",
              "      <th>2</th>\n",
              "      <td>8.1</td>\n",
              "      <td>0.28</td>\n",
              "      <td>0.40</td>\n",
              "      <td>6.9</td>\n",
              "      <td>0.050</td>\n",
              "      <td>30.0</td>\n",
              "      <td>97.0</td>\n",
              "      <td>0.9951</td>\n",
              "      <td>3.26</td>\n",
              "      <td>0.44</td>\n",
              "      <td>10.1</td>\n",
              "      <td>6</td>\n",
              "      <td>0</td>\n",
              "    </tr>\n",
              "    <tr>\n",
              "      <th>3</th>\n",
              "      <td>7.2</td>\n",
              "      <td>0.23</td>\n",
              "      <td>0.32</td>\n",
              "      <td>8.5</td>\n",
              "      <td>0.058</td>\n",
              "      <td>47.0</td>\n",
              "      <td>186.0</td>\n",
              "      <td>0.9956</td>\n",
              "      <td>3.19</td>\n",
              "      <td>0.40</td>\n",
              "      <td>9.9</td>\n",
              "      <td>6</td>\n",
              "      <td>0</td>\n",
              "    </tr>\n",
              "    <tr>\n",
              "      <th>4</th>\n",
              "      <td>7.2</td>\n",
              "      <td>0.23</td>\n",
              "      <td>0.32</td>\n",
              "      <td>8.5</td>\n",
              "      <td>0.058</td>\n",
              "      <td>47.0</td>\n",
              "      <td>186.0</td>\n",
              "      <td>0.9956</td>\n",
              "      <td>3.19</td>\n",
              "      <td>0.40</td>\n",
              "      <td>9.9</td>\n",
              "      <td>6</td>\n",
              "      <td>0</td>\n",
              "    </tr>\n",
              "  </tbody>\n",
              "</table>\n",
              "</div>"
            ],
            "text/plain": [
              "   fixed acidity  volatile acidity  citric acid  residual sugar  chlorides  \\\n",
              "0            7.0              0.27         0.36            20.7      0.045   \n",
              "1            6.3              0.30         0.34             1.6      0.049   \n",
              "2            8.1              0.28         0.40             6.9      0.050   \n",
              "3            7.2              0.23         0.32             8.5      0.058   \n",
              "4            7.2              0.23         0.32             8.5      0.058   \n",
              "\n",
              "   free sulfur dioxide  total sulfur dioxide  density    pH  sulphates  \\\n",
              "0                 45.0                 170.0   1.0010  3.00       0.45   \n",
              "1                 14.0                 132.0   0.9940  3.30       0.49   \n",
              "2                 30.0                  97.0   0.9951  3.26       0.44   \n",
              "3                 47.0                 186.0   0.9956  3.19       0.40   \n",
              "4                 47.0                 186.0   0.9956  3.19       0.40   \n",
              "\n",
              "   alcohol  quality  winetype  \n",
              "0      8.8        6         0  \n",
              "1      9.5        6         0  \n",
              "2     10.1        6         0  \n",
              "3      9.9        6         0  \n",
              "4      9.9        6         0  "
            ]
          },
          "metadata": {
            "tags": []
          },
          "execution_count": 39
        }
      ]
    },
    {
      "cell_type": "markdown",
      "metadata": {
        "id": "Bso43QtC0G6w",
        "colab_type": "text"
      },
      "source": [
        "Combine both datasets into a single dataframe.\n",
        "The target data (i.e. the dependent variable) is \"winetype\"."
      ]
    },
    {
      "cell_type": "code",
      "metadata": {
        "id": "mlwd1zTO0G6x",
        "colab_type": "code",
        "colab": {},
        "outputId": "3633044a-4c62-46b9-ddd0-1a093ad16800"
      },
      "source": [
        "mix = [white, red]\n",
        "wines = pd.concat(mix)\n",
        "wines.head()"
      ],
      "execution_count": 0,
      "outputs": [
        {
          "output_type": "execute_result",
          "data": {
            "text/html": [
              "<div>\n",
              "<style scoped>\n",
              "    .dataframe tbody tr th:only-of-type {\n",
              "        vertical-align: middle;\n",
              "    }\n",
              "\n",
              "    .dataframe tbody tr th {\n",
              "        vertical-align: top;\n",
              "    }\n",
              "\n",
              "    .dataframe thead th {\n",
              "        text-align: right;\n",
              "    }\n",
              "</style>\n",
              "<table border=\"1\" class=\"dataframe\">\n",
              "  <thead>\n",
              "    <tr style=\"text-align: right;\">\n",
              "      <th></th>\n",
              "      <th>fixed acidity</th>\n",
              "      <th>volatile acidity</th>\n",
              "      <th>citric acid</th>\n",
              "      <th>residual sugar</th>\n",
              "      <th>chlorides</th>\n",
              "      <th>free sulfur dioxide</th>\n",
              "      <th>total sulfur dioxide</th>\n",
              "      <th>density</th>\n",
              "      <th>pH</th>\n",
              "      <th>sulphates</th>\n",
              "      <th>alcohol</th>\n",
              "      <th>quality</th>\n",
              "      <th>winetype</th>\n",
              "    </tr>\n",
              "  </thead>\n",
              "  <tbody>\n",
              "    <tr>\n",
              "      <th>0</th>\n",
              "      <td>7.0</td>\n",
              "      <td>0.27</td>\n",
              "      <td>0.36</td>\n",
              "      <td>20.7</td>\n",
              "      <td>0.045</td>\n",
              "      <td>45.0</td>\n",
              "      <td>170.0</td>\n",
              "      <td>1.0010</td>\n",
              "      <td>3.00</td>\n",
              "      <td>0.45</td>\n",
              "      <td>8.8</td>\n",
              "      <td>6</td>\n",
              "      <td>0</td>\n",
              "    </tr>\n",
              "    <tr>\n",
              "      <th>1</th>\n",
              "      <td>6.3</td>\n",
              "      <td>0.30</td>\n",
              "      <td>0.34</td>\n",
              "      <td>1.6</td>\n",
              "      <td>0.049</td>\n",
              "      <td>14.0</td>\n",
              "      <td>132.0</td>\n",
              "      <td>0.9940</td>\n",
              "      <td>3.30</td>\n",
              "      <td>0.49</td>\n",
              "      <td>9.5</td>\n",
              "      <td>6</td>\n",
              "      <td>0</td>\n",
              "    </tr>\n",
              "    <tr>\n",
              "      <th>2</th>\n",
              "      <td>8.1</td>\n",
              "      <td>0.28</td>\n",
              "      <td>0.40</td>\n",
              "      <td>6.9</td>\n",
              "      <td>0.050</td>\n",
              "      <td>30.0</td>\n",
              "      <td>97.0</td>\n",
              "      <td>0.9951</td>\n",
              "      <td>3.26</td>\n",
              "      <td>0.44</td>\n",
              "      <td>10.1</td>\n",
              "      <td>6</td>\n",
              "      <td>0</td>\n",
              "    </tr>\n",
              "    <tr>\n",
              "      <th>3</th>\n",
              "      <td>7.2</td>\n",
              "      <td>0.23</td>\n",
              "      <td>0.32</td>\n",
              "      <td>8.5</td>\n",
              "      <td>0.058</td>\n",
              "      <td>47.0</td>\n",
              "      <td>186.0</td>\n",
              "      <td>0.9956</td>\n",
              "      <td>3.19</td>\n",
              "      <td>0.40</td>\n",
              "      <td>9.9</td>\n",
              "      <td>6</td>\n",
              "      <td>0</td>\n",
              "    </tr>\n",
              "    <tr>\n",
              "      <th>4</th>\n",
              "      <td>7.2</td>\n",
              "      <td>0.23</td>\n",
              "      <td>0.32</td>\n",
              "      <td>8.5</td>\n",
              "      <td>0.058</td>\n",
              "      <td>47.0</td>\n",
              "      <td>186.0</td>\n",
              "      <td>0.9956</td>\n",
              "      <td>3.19</td>\n",
              "      <td>0.40</td>\n",
              "      <td>9.9</td>\n",
              "      <td>6</td>\n",
              "      <td>0</td>\n",
              "    </tr>\n",
              "  </tbody>\n",
              "</table>\n",
              "</div>"
            ],
            "text/plain": [
              "   fixed acidity  volatile acidity  citric acid  residual sugar  chlorides  \\\n",
              "0            7.0              0.27         0.36            20.7      0.045   \n",
              "1            6.3              0.30         0.34             1.6      0.049   \n",
              "2            8.1              0.28         0.40             6.9      0.050   \n",
              "3            7.2              0.23         0.32             8.5      0.058   \n",
              "4            7.2              0.23         0.32             8.5      0.058   \n",
              "\n",
              "   free sulfur dioxide  total sulfur dioxide  density    pH  sulphates  \\\n",
              "0                 45.0                 170.0   1.0010  3.00       0.45   \n",
              "1                 14.0                 132.0   0.9940  3.30       0.49   \n",
              "2                 30.0                  97.0   0.9951  3.26       0.44   \n",
              "3                 47.0                 186.0   0.9956  3.19       0.40   \n",
              "4                 47.0                 186.0   0.9956  3.19       0.40   \n",
              "\n",
              "   alcohol  quality  winetype  \n",
              "0      8.8        6         0  \n",
              "1      9.5        6         0  \n",
              "2     10.1        6         0  \n",
              "3      9.9        6         0  \n",
              "4      9.9        6         0  "
            ]
          },
          "metadata": {
            "tags": []
          },
          "execution_count": 40
        }
      ]
    },
    {
      "cell_type": "markdown",
      "metadata": {
        "id": "5PmNMrhB0G66",
        "colab_type": "text"
      },
      "source": [
        "## 2.1 Visualize the univariate distribution of the target feature and each of the three explanatory variables that you think are likely to have a relationship with the target feature.   "
      ]
    },
    {
      "cell_type": "code",
      "metadata": {
        "id": "us72_zvy0G68",
        "colab_type": "code",
        "colab": {},
        "outputId": "820cdcca-57fd-4977-a76c-6050a3891fa4"
      },
      "source": [
        "import matplotlib.pyplot as plt\n",
        "\n",
        "sns.boxplot(x='winetype', y='fixed acidity', data=wines)"
      ],
      "execution_count": 0,
      "outputs": [
        {
          "output_type": "execute_result",
          "data": {
            "text/plain": [
              "<matplotlib.axes._subplots.AxesSubplot at 0x1a199cf0f0>"
            ]
          },
          "metadata": {
            "tags": []
          },
          "execution_count": 41
        },
        {
          "output_type": "display_data",
          "data": {
            "image/png": "[encoded data removed]",
            "text/plain": [
              "<Figure size 432x288 with 1 Axes>"
            ]
          },
          "metadata": {
            "tags": [],
            "needs_background": "light"
          }
        }
      ]
    },
    {
      "cell_type": "code",
      "metadata": {
        "id": "gdWFFkOT0G7C",
        "colab_type": "code",
        "colab": {},
        "outputId": "103a0151-4594-4a49-c95a-ca2ceac3c3d0"
      },
      "source": [
        "sns.boxplot(x='winetype', y='citric acid', data=wines)"
      ],
      "execution_count": 0,
      "outputs": [
        {
          "output_type": "execute_result",
          "data": {
            "text/plain": [
              "<matplotlib.axes._subplots.AxesSubplot at 0x1a19a3a5c0>"
            ]
          },
          "metadata": {
            "tags": []
          },
          "execution_count": 42
        },
        {
          "output_type": "display_data",
          "data": {
            "image/png": "[encoded data removed]",
            "text/plain": [
              "<Figure size 432x288 with 1 Axes>"
            ]
          },
          "metadata": {
            "tags": [],
            "needs_background": "light"
          }
        }
      ]
    },
    {
      "cell_type": "code",
      "metadata": {
        "id": "05BmAdK-0G7U",
        "colab_type": "code",
        "colab": {},
        "outputId": "322af2d0-62e4-4483-eb89-6bce718fe39b"
      },
      "source": [
        "sns.boxplot(x='winetype', y='total sulfur dioxide', data=wines)"
      ],
      "execution_count": 0,
      "outputs": [
        {
          "output_type": "execute_result",
          "data": {
            "text/plain": [
              "<matplotlib.axes._subplots.AxesSubplot at 0x1a1a0ba518>"
            ]
          },
          "metadata": {
            "tags": []
          },
          "execution_count": 43
        },
        {
          "output_type": "display_data",
          "data": {
            "image/png": "[encoded data removed]",
            "text/plain": [
              "<Figure size 432x288 with 1 Axes>"
            ]
          },
          "metadata": {
            "tags": [],
            "needs_background": "light"
          }
        }
      ]
    },
    {
      "cell_type": "markdown",
      "metadata": {
        "id": "kMDXcdWu0G7b",
        "colab_type": "text"
      },
      "source": [
        "## 2.2a Split data into training and test set."
      ]
    },
    {
      "cell_type": "code",
      "metadata": {
        "id": "Qpo-tzlC0G7e",
        "colab_type": "code",
        "colab": {},
        "outputId": "ad57aa0e-8c03-4f29-85c3-7b09afb6038e"
      },
      "source": [
        "y = wines['winetype']\n",
        "X = wines.loc[:, data.columns != 'winetype']\n",
        "\n",
        "X_train, X_test, y_train, y_test = train_test_split(X, y, random_state=42) \n",
        "\n",
        "X.head()"
      ],
      "execution_count": 0,
      "outputs": [
        {
          "output_type": "execute_result",
          "data": {
            "text/html": [
              "<div>\n",
              "<style scoped>\n",
              "    .dataframe tbody tr th:only-of-type {\n",
              "        vertical-align: middle;\n",
              "    }\n",
              "\n",
              "    .dataframe tbody tr th {\n",
              "        vertical-align: top;\n",
              "    }\n",
              "\n",
              "    .dataframe thead th {\n",
              "        text-align: right;\n",
              "    }\n",
              "</style>\n",
              "<table border=\"1\" class=\"dataframe\">\n",
              "  <thead>\n",
              "    <tr style=\"text-align: right;\">\n",
              "      <th></th>\n",
              "      <th>fixed acidity</th>\n",
              "      <th>volatile acidity</th>\n",
              "      <th>citric acid</th>\n",
              "      <th>residual sugar</th>\n",
              "      <th>chlorides</th>\n",
              "      <th>free sulfur dioxide</th>\n",
              "      <th>total sulfur dioxide</th>\n",
              "      <th>density</th>\n",
              "      <th>pH</th>\n",
              "      <th>sulphates</th>\n",
              "      <th>alcohol</th>\n",
              "    </tr>\n",
              "  </thead>\n",
              "  <tbody>\n",
              "    <tr>\n",
              "      <th>0</th>\n",
              "      <td>7.0</td>\n",
              "      <td>0.27</td>\n",
              "      <td>0.36</td>\n",
              "      <td>20.7</td>\n",
              "      <td>0.045</td>\n",
              "      <td>45.0</td>\n",
              "      <td>170.0</td>\n",
              "      <td>1.0010</td>\n",
              "      <td>3.00</td>\n",
              "      <td>0.45</td>\n",
              "      <td>8.8</td>\n",
              "    </tr>\n",
              "    <tr>\n",
              "      <th>1</th>\n",
              "      <td>6.3</td>\n",
              "      <td>0.30</td>\n",
              "      <td>0.34</td>\n",
              "      <td>1.6</td>\n",
              "      <td>0.049</td>\n",
              "      <td>14.0</td>\n",
              "      <td>132.0</td>\n",
              "      <td>0.9940</td>\n",
              "      <td>3.30</td>\n",
              "      <td>0.49</td>\n",
              "      <td>9.5</td>\n",
              "    </tr>\n",
              "    <tr>\n",
              "      <th>2</th>\n",
              "      <td>8.1</td>\n",
              "      <td>0.28</td>\n",
              "      <td>0.40</td>\n",
              "      <td>6.9</td>\n",
              "      <td>0.050</td>\n",
              "      <td>30.0</td>\n",
              "      <td>97.0</td>\n",
              "      <td>0.9951</td>\n",
              "      <td>3.26</td>\n",
              "      <td>0.44</td>\n",
              "      <td>10.1</td>\n",
              "    </tr>\n",
              "    <tr>\n",
              "      <th>3</th>\n",
              "      <td>7.2</td>\n",
              "      <td>0.23</td>\n",
              "      <td>0.32</td>\n",
              "      <td>8.5</td>\n",
              "      <td>0.058</td>\n",
              "      <td>47.0</td>\n",
              "      <td>186.0</td>\n",
              "      <td>0.9956</td>\n",
              "      <td>3.19</td>\n",
              "      <td>0.40</td>\n",
              "      <td>9.9</td>\n",
              "    </tr>\n",
              "    <tr>\n",
              "      <th>4</th>\n",
              "      <td>7.2</td>\n",
              "      <td>0.23</td>\n",
              "      <td>0.32</td>\n",
              "      <td>8.5</td>\n",
              "      <td>0.058</td>\n",
              "      <td>47.0</td>\n",
              "      <td>186.0</td>\n",
              "      <td>0.9956</td>\n",
              "      <td>3.19</td>\n",
              "      <td>0.40</td>\n",
              "      <td>9.9</td>\n",
              "    </tr>\n",
              "  </tbody>\n",
              "</table>\n",
              "</div>"
            ],
            "text/plain": [
              "   fixed acidity  volatile acidity  citric acid  residual sugar  chlorides  \\\n",
              "0            7.0              0.27         0.36            20.7      0.045   \n",
              "1            6.3              0.30         0.34             1.6      0.049   \n",
              "2            8.1              0.28         0.40             6.9      0.050   \n",
              "3            7.2              0.23         0.32             8.5      0.058   \n",
              "4            7.2              0.23         0.32             8.5      0.058   \n",
              "\n",
              "   free sulfur dioxide  total sulfur dioxide  density    pH  sulphates  \\\n",
              "0                 45.0                 170.0   1.0010  3.00       0.45   \n",
              "1                 14.0                 132.0   0.9940  3.30       0.49   \n",
              "2                 30.0                  97.0   0.9951  3.26       0.44   \n",
              "3                 47.0                 186.0   0.9956  3.19       0.40   \n",
              "4                 47.0                 186.0   0.9956  3.19       0.40   \n",
              "\n",
              "   alcohol  \n",
              "0      8.8  \n",
              "1      9.5  \n",
              "2     10.1  \n",
              "3      9.9  \n",
              "4      9.9  "
            ]
          },
          "metadata": {
            "tags": []
          },
          "execution_count": 44
        }
      ]
    },
    {
      "cell_type": "markdown",
      "metadata": {
        "id": "eo-SV6Ln0G7i",
        "colab_type": "text"
      },
      "source": [
        "## 2.2b Build models that evaluate the relationship between all available X variables in the dataset and the target variable."
      ]
    },
    {
      "cell_type": "markdown",
      "metadata": {
        "id": "Mx2FNDnC0G7j",
        "colab_type": "text"
      },
      "source": [
        "### Logistic Regression using cross-validation"
      ]
    },
    {
      "cell_type": "code",
      "metadata": {
        "id": "_3P6Y1_80G7l",
        "colab_type": "code",
        "colab": {},
        "outputId": "1bb458f9-9911-414c-cba6-98b5737c5ad8"
      },
      "source": [
        "import warnings\n",
        "warnings.filterwarnings(\"ignore\", category=FutureWarning) # I did this to remove all the warnings :)\n",
        "from sklearn.linear_model import LogisticRegression\n",
        "\n",
        "logreg = LogisticRegression().fit(X_train, y_train)\n",
        "\n",
        "print(\"LOGISTIC REGRESSION (UNSCALED DATA)\")\n",
        "print(\"Training set score: {:.2f}\".format(logreg.score(X_train, y_train)))\n",
        "print(\"Test set score: {:.2f}\".format(logreg.score(X_test, y_test))) \n",
        "\n",
        "# Kfold Cross Validation\n",
        "print(\"Mean Cross Validation, KFold: {:.2f}\".format(np.mean(cross_val_score(logreg, X_train, y_train, cv=kfold))))\n",
        "\n",
        "# Wine type prediction from test set (I'll use this later)\n",
        "logreg_predicted_vals = logreg.predict(X_test)\n",
        "\n",
        "# Organize the model coefficients\n",
        "logreg_coef = pd.DataFrame(data=logreg.coef_, columns=X.columns, index=['Logistic Regression Coefficients'])\n",
        "logreg_coef.head()"
      ],
      "execution_count": 0,
      "outputs": [
        {
          "output_type": "stream",
          "text": [
            "LOGISTIC REGRESSION (UNSCALED DATA)\n",
            "Training set score: 0.98\n",
            "Test set score: 0.98\n",
            "Mean Cross Validation, KFold: 0.98\n"
          ],
          "name": "stdout"
        },
        {
          "output_type": "execute_result",
          "data": {
            "text/html": [
              "<div>\n",
              "<style scoped>\n",
              "    .dataframe tbody tr th:only-of-type {\n",
              "        vertical-align: middle;\n",
              "    }\n",
              "\n",
              "    .dataframe tbody tr th {\n",
              "        vertical-align: top;\n",
              "    }\n",
              "\n",
              "    .dataframe thead th {\n",
              "        text-align: right;\n",
              "    }\n",
              "</style>\n",
              "<table border=\"1\" class=\"dataframe\">\n",
              "  <thead>\n",
              "    <tr style=\"text-align: right;\">\n",
              "      <th></th>\n",
              "      <th>fixed acidity</th>\n",
              "      <th>volatile acidity</th>\n",
              "      <th>citric acid</th>\n",
              "      <th>residual sugar</th>\n",
              "      <th>chlorides</th>\n",
              "      <th>free sulfur dioxide</th>\n",
              "      <th>total sulfur dioxide</th>\n",
              "      <th>density</th>\n",
              "      <th>pH</th>\n",
              "      <th>sulphates</th>\n",
              "      <th>alcohol</th>\n",
              "    </tr>\n",
              "  </thead>\n",
              "  <tbody>\n",
              "    <tr>\n",
              "      <th>Logistic Regression Coefficients</th>\n",
              "      <td>0.685901</td>\n",
              "      <td>8.223287</td>\n",
              "      <td>-0.971672</td>\n",
              "      <td>-0.149442</td>\n",
              "      <td>2.396549</td>\n",
              "      <td>0.048679</td>\n",
              "      <td>-0.063681</td>\n",
              "      <td>-3.126979</td>\n",
              "      <td>2.304279</td>\n",
              "      <td>6.044744</td>\n",
              "      <td>-0.790924</td>\n",
              "    </tr>\n",
              "  </tbody>\n",
              "</table>\n",
              "</div>"
            ],
            "text/plain": [
              "                                  fixed acidity  volatile acidity  \\\n",
              "Logistic Regression Coefficients       0.685901          8.223287   \n",
              "\n",
              "                                  citric acid  residual sugar  chlorides  \\\n",
              "Logistic Regression Coefficients    -0.971672       -0.149442   2.396549   \n",
              "\n",
              "                                  free sulfur dioxide  total sulfur dioxide  \\\n",
              "Logistic Regression Coefficients             0.048679             -0.063681   \n",
              "\n",
              "                                   density        pH  sulphates   alcohol  \n",
              "Logistic Regression Coefficients -3.126979  2.304279   6.044744 -0.790924  "
            ]
          },
          "metadata": {
            "tags": []
          },
          "execution_count": 45
        }
      ]
    },
    {
      "cell_type": "markdown",
      "metadata": {
        "id": "oQ54ec9Z0G7q",
        "colab_type": "text"
      },
      "source": [
        "### Penalized Logistic Regression using cross-validation"
      ]
    },
    {
      "cell_type": "code",
      "metadata": {
        "id": "oaZtzW3B0G7s",
        "colab_type": "code",
        "colab": {},
        "outputId": "aeee7aad-70c5-4142-d9a0-7954dff9dda7"
      },
      "source": [
        "pen_logreg = LogisticRegression(penalty = 'l1').fit(X_train, y_train) # Default = L2, Penalty = L1\n",
        "\n",
        "print(\"PENALIZED LOGISTIC REGRESSION (UNSCALED DATA)\")\n",
        "print(\"Training set score: {:.2f}\".format(pen_logreg.score(X_train, y_train)))\n",
        "print(\"Test set score: {:.2f}\".format(pen_logreg.score(X_test, y_test)))\n",
        "\n",
        "# Kfold Cross Validation\n",
        "print(\"Mean Cross Validation, KFold: {:.2f}\".format(np.mean(cross_val_score(pen_logreg, X_train, y_train, cv=kfold))))\n",
        "\n",
        "# Wine type prediction from test set (I'll use this later)\n",
        "pen_logreg_predicted_vals = pen_logreg.predict(X_test)\n",
        "\n",
        "# Organize the model coefficients\n",
        "pen_logreg_coef = pd.DataFrame(data=pen_logreg.coef_, columns=X.columns, index=['Penalized Logistic Regression Coefficients'])\n",
        "\n",
        "# Print coefficients for comparison\n",
        "c = [logreg_coef, pen_logreg_coef]\n",
        "coefs = pd.concat(c)\n",
        "coefs.head()"
      ],
      "execution_count": 0,
      "outputs": [
        {
          "output_type": "stream",
          "text": [
            "PENALIZED LOGISTIC REGRESSION (UNSCALED DATA)\n",
            "Training set score: 0.99\n",
            "Test set score: 0.98\n",
            "Mean Cross Validation, KFold: 0.99\n"
          ],
          "name": "stdout"
        },
        {
          "output_type": "execute_result",
          "data": {
            "text/html": [
              "<div>\n",
              "<style scoped>\n",
              "    .dataframe tbody tr th:only-of-type {\n",
              "        vertical-align: middle;\n",
              "    }\n",
              "\n",
              "    .dataframe tbody tr th {\n",
              "        vertical-align: top;\n",
              "    }\n",
              "\n",
              "    .dataframe thead th {\n",
              "        text-align: right;\n",
              "    }\n",
              "</style>\n",
              "<table border=\"1\" class=\"dataframe\">\n",
              "  <thead>\n",
              "    <tr style=\"text-align: right;\">\n",
              "      <th></th>\n",
              "      <th>fixed acidity</th>\n",
              "      <th>volatile acidity</th>\n",
              "      <th>citric acid</th>\n",
              "      <th>residual sugar</th>\n",
              "      <th>chlorides</th>\n",
              "      <th>free sulfur dioxide</th>\n",
              "      <th>total sulfur dioxide</th>\n",
              "      <th>density</th>\n",
              "      <th>pH</th>\n",
              "      <th>sulphates</th>\n",
              "      <th>alcohol</th>\n",
              "    </tr>\n",
              "  </thead>\n",
              "  <tbody>\n",
              "    <tr>\n",
              "      <th>Logistic Regression Coefficients</th>\n",
              "      <td>0.685901</td>\n",
              "      <td>8.223287</td>\n",
              "      <td>-0.971672</td>\n",
              "      <td>-0.149442</td>\n",
              "      <td>2.396549</td>\n",
              "      <td>0.048679</td>\n",
              "      <td>-0.063681</td>\n",
              "      <td>-3.126979</td>\n",
              "      <td>2.304279</td>\n",
              "      <td>6.044744</td>\n",
              "      <td>-0.790924</td>\n",
              "    </tr>\n",
              "    <tr>\n",
              "      <th>Penalized Logistic Regression Coefficients</th>\n",
              "      <td>0.916169</td>\n",
              "      <td>11.539000</td>\n",
              "      <td>0.000000</td>\n",
              "      <td>-0.125501</td>\n",
              "      <td>15.207507</td>\n",
              "      <td>0.058481</td>\n",
              "      <td>-0.066548</td>\n",
              "      <td>-9.414764</td>\n",
              "      <td>4.759636</td>\n",
              "      <td>8.315734</td>\n",
              "      <td>-0.628853</td>\n",
              "    </tr>\n",
              "  </tbody>\n",
              "</table>\n",
              "</div>"
            ],
            "text/plain": [
              "                                            fixed acidity  volatile acidity  \\\n",
              "Logistic Regression Coefficients                 0.685901          8.223287   \n",
              "Penalized Logistic Regression Coefficients       0.916169         11.539000   \n",
              "\n",
              "                                            citric acid  residual sugar  \\\n",
              "Logistic Regression Coefficients              -0.971672       -0.149442   \n",
              "Penalized Logistic Regression Coefficients     0.000000       -0.125501   \n",
              "\n",
              "                                            chlorides  free sulfur dioxide  \\\n",
              "Logistic Regression Coefficients             2.396549             0.048679   \n",
              "Penalized Logistic Regression Coefficients  15.207507             0.058481   \n",
              "\n",
              "                                            total sulfur dioxide   density  \\\n",
              "Logistic Regression Coefficients                       -0.063681 -3.126979   \n",
              "Penalized Logistic Regression Coefficients             -0.066548 -9.414764   \n",
              "\n",
              "                                                  pH  sulphates   alcohol  \n",
              "Logistic Regression Coefficients            2.304279   6.044744 -0.790924  \n",
              "Penalized Logistic Regression Coefficients  4.759636   8.315734 -0.628853  "
            ]
          },
          "metadata": {
            "tags": []
          },
          "execution_count": 46
        }
      ]
    },
    {
      "cell_type": "markdown",
      "metadata": {
        "id": "sbUrlRP70G70",
        "colab_type": "text"
      },
      "source": [
        "### KNN Classifier using cross-validation"
      ]
    },
    {
      "cell_type": "code",
      "metadata": {
        "id": "JlfTN0e50G71",
        "colab_type": "code",
        "colab": {},
        "outputId": "6e819c35-471d-4170-fef9-bd4e36b8a441"
      },
      "source": [
        "from sklearn.neighbors import KNeighborsClassifier\n",
        "# Notice that I'm using a Classifier here (as opposed to the Regressor we used in PART 1)\n",
        "\n",
        "knn = KNeighborsClassifier().fit(X_train, y_train)\n",
        "\n",
        "print(\"KNN CLASSIFER (UNSCALED DATA)\")\n",
        "print(\"Training set score: {:.2f}\".format(knn.score(X_train, y_train)))\n",
        "print(\"Test set score: {:.2f}\".format(knn.score(X_test, y_test)))\n",
        "\n",
        "# Kfold Cross Validation\n",
        "print(\"Mean Cross Validation, KFold: {:.2f}\".format(np.mean(cross_val_score(knn, X_train, y_train, cv=kfold))))\n",
        "\n",
        "# Wine type prediction from test set (I'll use this later)\n",
        "y_pred = knn.predict(X_test)"
      ],
      "execution_count": 0,
      "outputs": [
        {
          "output_type": "stream",
          "text": [
            "KNN CLASSIFER (UNSCALED DATA)\n",
            "Training set score: 0.96\n",
            "Test set score: 0.94\n",
            "Mean Cross Validation, KFold: 0.94\n"
          ],
          "name": "stdout"
        }
      ]
    },
    {
      "cell_type": "markdown",
      "metadata": {
        "id": "SUbXm78H0G79",
        "colab_type": "text"
      },
      "source": [
        "**Note:** KNN classifier can not produce coefficients. So we don't include them here."
      ]
    },
    {
      "cell_type": "markdown",
      "metadata": {
        "id": "MIKwu3hz0G7-",
        "colab_type": "text"
      },
      "source": [
        "## How different are the results?"
      ]
    },
    {
      "cell_type": "code",
      "metadata": {
        "id": "JUzwZ8qC0G8D",
        "colab_type": "code",
        "colab": {},
        "outputId": "b93e99c5-3498-4138-8c3d-9bf9596f2565"
      },
      "source": [
        "# Organize predictions from each model into a dataframe\n",
        "results = pd.DataFrame()\n",
        "results = results.assign(L2=logreg_predicted_vals)\n",
        "results = results.assign(L1=pen_logreg_predicted_vals)\n",
        "results = results.assign(knn=y_pred)\n",
        "\n",
        "# Count the combinations\n",
        "print(\"COMBINATIONS OF PREDICTIONS: LOG REG by PEN LOG REG by KNN\")\n",
        "results.groupby(['L2','L1'])['knn'].count()"
      ],
      "execution_count": 0,
      "outputs": [
        {
          "output_type": "stream",
          "text": [
            "COMBINATIONS OF PREDICTIONS: LOG REG by PEN LOG REG by KNN\n"
          ],
          "name": "stdout"
        },
        {
          "output_type": "execute_result",
          "data": {
            "text/plain": [
              "L2  L1\n",
              "0   0     1241\n",
              "    1        9\n",
              "1   0        5\n",
              "    1      370\n",
              "Name: knn, dtype: int64"
            ]
          },
          "metadata": {
            "tags": []
          },
          "execution_count": 48
        }
      ]
    },
    {
      "cell_type": "markdown",
      "metadata": {
        "id": "vkKS3EWf0G8P",
        "colab_type": "text"
      },
      "source": [
        "**Note:** KNN shows the highest count where the Logistic Regression and the Penalized Logistic Regression models agree (0, 0, 1241) and (1, 1, 370)."
      ]
    },
    {
      "cell_type": "code",
      "metadata": {
        "id": "cqoXzLVn0G8R",
        "colab_type": "code",
        "colab": {},
        "outputId": "fe3611e5-a65a-4a31-aaea-4b30c5e81d42"
      },
      "source": [
        "results.groupby(['L2','knn'])['L1'].count()"
      ],
      "execution_count": 0,
      "outputs": [
        {
          "output_type": "execute_result",
          "data": {
            "text/plain": [
              "L2  knn\n",
              "0   0      1217\n",
              "    1        33\n",
              "1   0        55\n",
              "    1       320\n",
              "Name: L1, dtype: int64"
            ]
          },
          "metadata": {
            "tags": []
          },
          "execution_count": 49
        }
      ]
    },
    {
      "cell_type": "markdown",
      "metadata": {
        "id": "iw3Ykuet0G8a",
        "colab_type": "text"
      },
      "source": [
        "**Note:** Penalized Regressions shows the highest count where the Logistic Regression and the KNN models agree (0, 0, 1210) and (1, 1, 323). (Notice that Penlized Logistic Regression is less likely to agree with the combined predictions of KNN and Logistic Regression than KNN is to agree with the combined predictions of Logistic Regression and Penalized Regression)."
      ]
    },
    {
      "cell_type": "code",
      "metadata": {
        "id": "lUwNPK8z0G8c",
        "colab_type": "code",
        "colab": {},
        "outputId": "970fb73e-daa2-4047-b7a1-3ccb38190843"
      },
      "source": [
        "results.groupby(['knn','L1'])['L2'].count()"
      ],
      "execution_count": 0,
      "outputs": [
        {
          "output_type": "execute_result",
          "data": {
            "text/plain": [
              "knn  L1\n",
              "0    0     1212\n",
              "     1       60\n",
              "1    0       34\n",
              "     1      319\n",
              "Name: L2, dtype: int64"
            ]
          },
          "metadata": {
            "tags": []
          },
          "execution_count": 50
        }
      ]
    },
    {
      "cell_type": "markdown",
      "metadata": {
        "id": "6G43SV9r0G8j",
        "colab_type": "text"
      },
      "source": [
        "**Note:** Logistic Regressions shows the highest count where the KNN and Penalized Logistic Regression models agree (0, 0, 1205) and (1, 1, 322). (Notice that Logistic  Regression is also less likely to agree with the combined predictions of KNN and Penalized Logistic Regression than KNN is to agree with the combined predictions of Logistic Regression and Penalized Regression. This is a similar pattern noted in the previous cell)."
      ]
    },
    {
      "cell_type": "markdown",
      "metadata": {
        "id": "dGaP4y3D0G8k",
        "colab_type": "text"
      },
      "source": [
        "**Answer:** The regressions are more accurate than the nearest neighbor (Logisic Regression Accuracy = 0.98, Penalized Logistic Regression Accuracy = 0.99, KNN Accuracy = 0.94). This is most likely the result of their predicting slightly different results. Logistic Regression and Penalized Logistic Regression tend to make similar predictions - only disagreeing in about 10 instances - while the KNN Classifier model disagrees with the logistic model predictions by in about 50 instances."
      ]
    },
    {
      "cell_type": "markdown",
      "metadata": {
        "id": "i0DbJ5_I0G8m",
        "colab_type": "text"
      },
      "source": [
        "## How does scaling the data with StandardScaler influence the results?"
      ]
    },
    {
      "cell_type": "code",
      "metadata": {
        "id": "9JOY9sjY0G8n",
        "colab_type": "code",
        "colab": {}
      },
      "source": [
        "scaler = preprocessing.StandardScaler().fit(X_train)\n",
        "X_train_scaled = scaler.transform(X_train)\n",
        "X_test_scaled = scaler.transform(X_test)"
      ],
      "execution_count": 0,
      "outputs": []
    },
    {
      "cell_type": "markdown",
      "metadata": {
        "id": "KuiJd3b20G8t",
        "colab_type": "text"
      },
      "source": [
        "### Scaled Logistic Regression using cross-validation"
      ]
    },
    {
      "cell_type": "code",
      "metadata": {
        "id": "i8VWDRo60G8x",
        "colab_type": "code",
        "colab": {},
        "outputId": "85cebe2e-7456-453b-f959-8b67ff81b2f2"
      },
      "source": [
        "logreg_scaled = LogisticRegression().fit(X_train_scaled, y_train)\n",
        "\n",
        "print(\"LOGISTIC REGRESSION (SCALED DATA)\")\n",
        "print(\"Training set score: {:.2f}\".format(logreg_scaled.score(X_train_scaled, y_train)))\n",
        "print(\"Test set score: {:.2f}\".format(logreg_scaled.score(X_test_scaled, y_test)))\n",
        "\n",
        "# Kfold Cross Validation\n",
        "print(\"Mean Cross Validation, KFold: {:.2f}\".format(np.mean(cross_val_score(logreg_scaled, X_train_scaled, y_train, cv=kfold))))\n",
        "\n",
        "# Organize the model coefficients\n",
        "logreg_scaled_coef = pd.DataFrame(data=logreg_scaled.coef_, columns=X.columns, index=['Scaled Logistic Regression Coefficients'])\n",
        "\n",
        "# Print coefficients for comparison\n",
        "c2 = [logreg_coef, pen_logreg_coef, logreg_scaled_coef]\n",
        "coefs = pd.concat(c2)\n",
        "coefs.head()"
      ],
      "execution_count": 0,
      "outputs": [
        {
          "output_type": "stream",
          "text": [
            "LOGISTIC REGRESSION (SCALED DATA)\n",
            "Training set score: 0.99\n",
            "Test set score: 0.99\n",
            "Mean Cross Validation, KFold: 0.99\n"
          ],
          "name": "stdout"
        },
        {
          "output_type": "execute_result",
          "data": {
            "text/html": [
              "<div>\n",
              "<style scoped>\n",
              "    .dataframe tbody tr th:only-of-type {\n",
              "        vertical-align: middle;\n",
              "    }\n",
              "\n",
              "    .dataframe tbody tr th {\n",
              "        vertical-align: top;\n",
              "    }\n",
              "\n",
              "    .dataframe thead th {\n",
              "        text-align: right;\n",
              "    }\n",
              "</style>\n",
              "<table border=\"1\" class=\"dataframe\">\n",
              "  <thead>\n",
              "    <tr style=\"text-align: right;\">\n",
              "      <th></th>\n",
              "      <th>fixed acidity</th>\n",
              "      <th>volatile acidity</th>\n",
              "      <th>citric acid</th>\n",
              "      <th>residual sugar</th>\n",
              "      <th>chlorides</th>\n",
              "      <th>free sulfur dioxide</th>\n",
              "      <th>total sulfur dioxide</th>\n",
              "      <th>density</th>\n",
              "      <th>pH</th>\n",
              "      <th>sulphates</th>\n",
              "      <th>alcohol</th>\n",
              "    </tr>\n",
              "  </thead>\n",
              "  <tbody>\n",
              "    <tr>\n",
              "      <th>Logistic Regression Coefficients</th>\n",
              "      <td>0.685901</td>\n",
              "      <td>8.223287</td>\n",
              "      <td>-0.971672</td>\n",
              "      <td>-0.149442</td>\n",
              "      <td>2.396549</td>\n",
              "      <td>0.048679</td>\n",
              "      <td>-0.063681</td>\n",
              "      <td>-3.126979</td>\n",
              "      <td>2.304279</td>\n",
              "      <td>6.044744</td>\n",
              "      <td>-0.790924</td>\n",
              "    </tr>\n",
              "    <tr>\n",
              "      <th>Penalized Logistic Regression Coefficients</th>\n",
              "      <td>0.916169</td>\n",
              "      <td>11.539000</td>\n",
              "      <td>0.000000</td>\n",
              "      <td>-0.125501</td>\n",
              "      <td>15.207507</td>\n",
              "      <td>0.058481</td>\n",
              "      <td>-0.066548</td>\n",
              "      <td>-9.414764</td>\n",
              "      <td>4.759636</td>\n",
              "      <td>8.315734</td>\n",
              "      <td>-0.628853</td>\n",
              "    </tr>\n",
              "    <tr>\n",
              "      <th>Scaled Logistic Regression Coefficients</th>\n",
              "      <td>0.285976</td>\n",
              "      <td>1.186533</td>\n",
              "      <td>-0.361232</td>\n",
              "      <td>-3.261851</td>\n",
              "      <td>0.751859</td>\n",
              "      <td>0.986030</td>\n",
              "      <td>-2.885655</td>\n",
              "      <td>3.519493</td>\n",
              "      <td>0.270010</td>\n",
              "      <td>0.624173</td>\n",
              "      <td>1.282744</td>\n",
              "    </tr>\n",
              "  </tbody>\n",
              "</table>\n",
              "</div>"
            ],
            "text/plain": [
              "                                            fixed acidity  volatile acidity  \\\n",
              "Logistic Regression Coefficients                 0.685901          8.223287   \n",
              "Penalized Logistic Regression Coefficients       0.916169         11.539000   \n",
              "Scaled Logistic Regression Coefficients          0.285976          1.186533   \n",
              "\n",
              "                                            citric acid  residual sugar  \\\n",
              "Logistic Regression Coefficients              -0.971672       -0.149442   \n",
              "Penalized Logistic Regression Coefficients     0.000000       -0.125501   \n",
              "Scaled Logistic Regression Coefficients       -0.361232       -3.261851   \n",
              "\n",
              "                                            chlorides  free sulfur dioxide  \\\n",
              "Logistic Regression Coefficients             2.396549             0.048679   \n",
              "Penalized Logistic Regression Coefficients  15.207507             0.058481   \n",
              "Scaled Logistic Regression Coefficients      0.751859             0.986030   \n",
              "\n",
              "                                            total sulfur dioxide   density  \\\n",
              "Logistic Regression Coefficients                       -0.063681 -3.126979   \n",
              "Penalized Logistic Regression Coefficients             -0.066548 -9.414764   \n",
              "Scaled Logistic Regression Coefficients                -2.885655  3.519493   \n",
              "\n",
              "                                                  pH  sulphates   alcohol  \n",
              "Logistic Regression Coefficients            2.304279   6.044744 -0.790924  \n",
              "Penalized Logistic Regression Coefficients  4.759636   8.315734 -0.628853  \n",
              "Scaled Logistic Regression Coefficients     0.270010   0.624173  1.282744  "
            ]
          },
          "metadata": {
            "tags": []
          },
          "execution_count": 52
        }
      ]
    },
    {
      "cell_type": "markdown",
      "metadata": {
        "id": "oouvnb700G83",
        "colab_type": "text"
      },
      "source": [
        "### Scaled Penalized Logistic Regression using cross-validation"
      ]
    },
    {
      "cell_type": "code",
      "metadata": {
        "id": "-OZmlPF-0G85",
        "colab_type": "code",
        "colab": {},
        "outputId": "665d5f29-87ab-40d4-cf59-3f73e5d6310f"
      },
      "source": [
        "pen_logreg_scaled = LogisticRegression(penalty = 'l1').fit(X_train_scaled, y_train)\n",
        "\n",
        "print(\"PENALIZED LOGISTIC REGRESSION (SCALED DATA)\")\n",
        "print(\"Training set score: {:.2f}\".format(pen_logreg_scaled.score(X_train_scaled, y_train)))\n",
        "print(\"Test set score: {:.2f}\".format(pen_logreg_scaled.score(X_test_scaled, y_test)))\n",
        "\n",
        "# Stratified Kfold Cross Validation \n",
        "print(\"Mean Cross Validation, KFold: {:.2f}\".format(np.mean(cross_val_score(pen_logreg_scaled, X_train, y_train, cv=kfold))))\n",
        "\n",
        "# Organize the model coefficients\n",
        "pen_logreg_scaled_coef = pd.DataFrame(data=pen_logreg_scaled.coef_, columns=X.columns, index=['Scaled Penalized Logistic Regression Coefficients'])\n",
        "\n",
        "# Print coefficients for comparison\n",
        "c3 = [logreg_coef, pen_logreg_coef, logreg_scaled_coef, pen_logreg_scaled_coef]\n",
        "coefs = pd.concat(c3)\n",
        "coefs.head()"
      ],
      "execution_count": 0,
      "outputs": [
        {
          "output_type": "stream",
          "text": [
            "PENALIZED LOGISTIC REGRESSION (SCALED DATA)\n",
            "Training set score: 0.99\n",
            "Test set score: 0.99\n",
            "Mean Cross Validation, KFold: 0.99\n"
          ],
          "name": "stdout"
        },
        {
          "output_type": "execute_result",
          "data": {
            "text/html": [
              "<div>\n",
              "<style scoped>\n",
              "    .dataframe tbody tr th:only-of-type {\n",
              "        vertical-align: middle;\n",
              "    }\n",
              "\n",
              "    .dataframe tbody tr th {\n",
              "        vertical-align: top;\n",
              "    }\n",
              "\n",
              "    .dataframe thead th {\n",
              "        text-align: right;\n",
              "    }\n",
              "</style>\n",
              "<table border=\"1\" class=\"dataframe\">\n",
              "  <thead>\n",
              "    <tr style=\"text-align: right;\">\n",
              "      <th></th>\n",
              "      <th>fixed acidity</th>\n",
              "      <th>volatile acidity</th>\n",
              "      <th>citric acid</th>\n",
              "      <th>residual sugar</th>\n",
              "      <th>chlorides</th>\n",
              "      <th>free sulfur dioxide</th>\n",
              "      <th>total sulfur dioxide</th>\n",
              "      <th>density</th>\n",
              "      <th>pH</th>\n",
              "      <th>sulphates</th>\n",
              "      <th>alcohol</th>\n",
              "    </tr>\n",
              "  </thead>\n",
              "  <tbody>\n",
              "    <tr>\n",
              "      <th>Logistic Regression Coefficients</th>\n",
              "      <td>0.685901</td>\n",
              "      <td>8.223287</td>\n",
              "      <td>-0.971672</td>\n",
              "      <td>-0.149442</td>\n",
              "      <td>2.396549</td>\n",
              "      <td>0.048679</td>\n",
              "      <td>-0.063681</td>\n",
              "      <td>-3.126979</td>\n",
              "      <td>2.304279</td>\n",
              "      <td>6.044744</td>\n",
              "      <td>-0.790924</td>\n",
              "    </tr>\n",
              "    <tr>\n",
              "      <th>Penalized Logistic Regression Coefficients</th>\n",
              "      <td>0.916169</td>\n",
              "      <td>11.539000</td>\n",
              "      <td>0.000000</td>\n",
              "      <td>-0.125501</td>\n",
              "      <td>15.207507</td>\n",
              "      <td>0.058481</td>\n",
              "      <td>-0.066548</td>\n",
              "      <td>-9.414764</td>\n",
              "      <td>4.759636</td>\n",
              "      <td>8.315734</td>\n",
              "      <td>-0.628853</td>\n",
              "    </tr>\n",
              "    <tr>\n",
              "      <th>Scaled Logistic Regression Coefficients</th>\n",
              "      <td>0.285976</td>\n",
              "      <td>1.186533</td>\n",
              "      <td>-0.361232</td>\n",
              "      <td>-3.261851</td>\n",
              "      <td>0.751859</td>\n",
              "      <td>0.986030</td>\n",
              "      <td>-2.885655</td>\n",
              "      <td>3.519493</td>\n",
              "      <td>0.270010</td>\n",
              "      <td>0.624173</td>\n",
              "      <td>1.282744</td>\n",
              "    </tr>\n",
              "    <tr>\n",
              "      <th>Scaled Penalized Logistic Regression Coefficients</th>\n",
              "      <td>-0.043429</td>\n",
              "      <td>1.140855</td>\n",
              "      <td>-0.401142</td>\n",
              "      <td>-4.527656</td>\n",
              "      <td>0.745173</td>\n",
              "      <td>1.209947</td>\n",
              "      <td>-3.092901</td>\n",
              "      <td>4.662637</td>\n",
              "      <td>0.000000</td>\n",
              "      <td>0.517186</td>\n",
              "      <td>1.847429</td>\n",
              "    </tr>\n",
              "  </tbody>\n",
              "</table>\n",
              "</div>"
            ],
            "text/plain": [
              "                                                   fixed acidity  \\\n",
              "Logistic Regression Coefficients                        0.685901   \n",
              "Penalized Logistic Regression Coefficients              0.916169   \n",
              "Scaled Logistic Regression Coefficients                 0.285976   \n",
              "Scaled Penalized Logistic Regression Coefficients      -0.043429   \n",
              "\n",
              "                                                   volatile acidity  \\\n",
              "Logistic Regression Coefficients                           8.223287   \n",
              "Penalized Logistic Regression Coefficients                11.539000   \n",
              "Scaled Logistic Regression Coefficients                    1.186533   \n",
              "Scaled Penalized Logistic Regression Coefficients          1.140855   \n",
              "\n",
              "                                                   citric acid  \\\n",
              "Logistic Regression Coefficients                     -0.971672   \n",
              "Penalized Logistic Regression Coefficients            0.000000   \n",
              "Scaled Logistic Regression Coefficients              -0.361232   \n",
              "Scaled Penalized Logistic Regression Coefficients    -0.401142   \n",
              "\n",
              "                                                   residual sugar  chlorides  \\\n",
              "Logistic Regression Coefficients                        -0.149442   2.396549   \n",
              "Penalized Logistic Regression Coefficients              -0.125501  15.207507   \n",
              "Scaled Logistic Regression Coefficients                 -3.261851   0.751859   \n",
              "Scaled Penalized Logistic Regression Coefficients       -4.527656   0.745173   \n",
              "\n",
              "                                                   free sulfur dioxide  \\\n",
              "Logistic Regression Coefficients                              0.048679   \n",
              "Penalized Logistic Regression Coefficients                    0.058481   \n",
              "Scaled Logistic Regression Coefficients                       0.986030   \n",
              "Scaled Penalized Logistic Regression Coefficients             1.209947   \n",
              "\n",
              "                                                   total sulfur dioxide  \\\n",
              "Logistic Regression Coefficients                              -0.063681   \n",
              "Penalized Logistic Regression Coefficients                    -0.066548   \n",
              "Scaled Logistic Regression Coefficients                       -2.885655   \n",
              "Scaled Penalized Logistic Regression Coefficients             -3.092901   \n",
              "\n",
              "                                                    density        pH  \\\n",
              "Logistic Regression Coefficients                  -3.126979  2.304279   \n",
              "Penalized Logistic Regression Coefficients        -9.414764  4.759636   \n",
              "Scaled Logistic Regression Coefficients            3.519493  0.270010   \n",
              "Scaled Penalized Logistic Regression Coefficients  4.662637  0.000000   \n",
              "\n",
              "                                                   sulphates   alcohol  \n",
              "Logistic Regression Coefficients                    6.044744 -0.790924  \n",
              "Penalized Logistic Regression Coefficients          8.315734 -0.628853  \n",
              "Scaled Logistic Regression Coefficients             0.624173  1.282744  \n",
              "Scaled Penalized Logistic Regression Coefficients   0.517186  1.847429  "
            ]
          },
          "metadata": {
            "tags": []
          },
          "execution_count": 53
        }
      ]
    },
    {
      "cell_type": "markdown",
      "metadata": {
        "id": "settEjOY0G9B",
        "colab_type": "text"
      },
      "source": [
        "### Scaled KNN using cross validation"
      ]
    },
    {
      "cell_type": "code",
      "metadata": {
        "id": "15_-VPcQ0G9C",
        "colab_type": "code",
        "colab": {},
        "outputId": "d74a692d-f439-432d-80f2-cb5e886403d5"
      },
      "source": [
        "knn_scaled = KNeighborsRegressor().fit(X_train_scaled, y_train)\n",
        "\n",
        "print(\"KNN CLASSIFER (SCALED DATA)\")\n",
        "print(\"Training set score: {:.2f}\".format(knn_scaled.score(X_train_scaled, y_train)))\n",
        "print(\"Test set score: {:.2f}\".format(knn_scaled.score(X_test_scaled, y_test)))\n",
        "\n",
        "# Stratified Kfold Cross Validation\n",
        "print(\"Mean Cross Validation, KFold: {:.2f}\".format(np.mean(cross_val_score(knn_scaled, X_train_scaled, y_train, cv=kfold))))"
      ],
      "execution_count": 0,
      "outputs": [
        {
          "output_type": "stream",
          "text": [
            "KNN CLASSIFER (SCALED DATA)\n",
            "Training set score: 0.98\n",
            "Test set score: 0.97\n",
            "Mean Cross Validation, KFold: 0.96\n"
          ],
          "name": "stdout"
        }
      ]
    },
    {
      "cell_type": "markdown",
      "metadata": {
        "id": "o9GqXJik0G9I",
        "colab_type": "text"
      },
      "source": [
        "**Note:** KNN classifier can not produce coefficients. So we don't include them here."
      ]
    },
    {
      "cell_type": "code",
      "metadata": {
        "id": "RD669bJX0G9L",
        "colab_type": "code",
        "colab": {},
        "outputId": "736642bc-c9fe-454a-f889-fe6fab566dd9"
      },
      "source": [
        "print(\"LOGISTIC REGRESSION\")\n",
        "print(\"Unscaled: {:.2f}\".format(logreg.score(X_test, y_test)))\n",
        "print(\"Scaled: {:.2f}\".format(logreg_scaled.score(X_test_scaled, y_test)))\n",
        "print(\"\")\n",
        "print(\"PENALIZED LOGISTIC REGRESSION\")\n",
        "print(\"Unscaled: {:.2f}\".format(pen_logreg.score(X_test, y_test)))\n",
        "print(\"Scaled: {:.2f}\".format(pen_logreg_scaled.score(X_test_scaled, y_test)))\n",
        "print(\"\")\n",
        "print(\"KNN CLASSIFIER\")\n",
        "print(\"Unscaled: {:.2f}\".format(knn.score(X_test, y_test)))\n",
        "print(\"Scaled: {:.2f}\".format(knn_scaled.score(X_test_scaled, y_test)))"
      ],
      "execution_count": 0,
      "outputs": [
        {
          "output_type": "stream",
          "text": [
            "LOGISTIC REGRESSION\n",
            "Unscaled: 0.98\n",
            "Scaled: 0.99\n",
            "\n",
            "PENALIZED LOGISTIC REGRESSION\n",
            "Unscaled: 0.98\n",
            "Scaled: 0.99\n",
            "\n",
            "KNN CLASSIFIER\n",
            "Unscaled: 0.94\n",
            "Scaled: 0.97\n"
          ],
          "name": "stdout"
        }
      ]
    },
    {
      "cell_type": "markdown",
      "metadata": {
        "id": "5iqIWstu0G9Q",
        "colab_type": "text"
      },
      "source": [
        "**Answer:** Scalling the data with StandardScaler improves the results for all models, particularly for KNN."
      ]
    },
    {
      "cell_type": "markdown",
      "metadata": {
        "id": "ci8XsBXl0G9S",
        "colab_type": "text"
      },
      "source": [
        "## 2.3 Tune the parameters where possible using GridSearchCV."
      ]
    },
    {
      "cell_type": "markdown",
      "metadata": {
        "id": "30ES52Op0G9T",
        "colab_type": "text"
      },
      "source": [
        "### GridsearchCV with Logistic Regression"
      ]
    },
    {
      "cell_type": "code",
      "metadata": {
        "id": "OSmNyNhX0G9V",
        "colab_type": "code",
        "colab": {},
        "outputId": "a4e977d1-bb1e-49b7-f465-6bce5262ecac"
      },
      "source": [
        "logreg_pipe = make_pipeline(StandardScaler(), LogisticRegression())\n",
        "#print(logreg_pipe.steps) \n",
        "# Name of step = 'logisticregression' + __ + C\n",
        "\n",
        "logreg_param_grid = {'logisticregression__C': np.linspace(1, 100, 100)}\n",
        "logreg_grid = GridSearchCV(logreg_pipe, logreg_param_grid).fit(X_train_scaled, y_train)\n",
        "\n",
        "print(\"LOGISTIC REGRESSION (SCALED DATA)\")\n",
        "print(\"Test set Score: {:.2f}\".format(logreg_grid.score(X_test_scaled, y_test)))\n",
        "print(\"Best Parameter: {}\".format(logreg_grid.best_params_))"
      ],
      "execution_count": 0,
      "outputs": [
        {
          "output_type": "stream",
          "text": [
            "LOGISTIC REGRESSION (SCALED DATA)\n",
            "Test set Score: 0.99\n",
            "Best Parameter: {'logisticregression__C': 2.0}\n"
          ],
          "name": "stdout"
        }
      ]
    },
    {
      "cell_type": "markdown",
      "metadata": {
        "id": "2eqH91Vw0G9g",
        "colab_type": "text"
      },
      "source": [
        "### GridsearchCV with Penalized Logistic Regression"
      ]
    },
    {
      "cell_type": "code",
      "metadata": {
        "id": "B6DCYjgr0G9k",
        "colab_type": "code",
        "colab": {},
        "outputId": "e4ae5c97-c6dd-4ceb-f4cb-b0a737a55fe6"
      },
      "source": [
        "pen_logreg_pipe = make_pipeline(StandardScaler(), LogisticRegression(penalty='l1'))\n",
        "#print(pen_logreg_pipe.steps) \n",
        "# Name of step = 'logisticregression' + __ + C\n",
        "\n",
        "pen_logreg_param_grid = {'logisticregression__C': np.linspace(1, 100, 100)}\n",
        "pen_logreg_grid = GridSearchCV(pen_logreg_pipe, pen_logreg_param_grid).fit(X_train_scaled, y_train)\n",
        "\n",
        "print(\"PENLIZED LOGISTIC REGRESSION (SCALED DATA)\")\n",
        "print(\"Test set Score: {:.2f}\".format(pen_logreg_grid.score(X_test_scaled, y_test)))\n",
        "print(\"Best Parameter: {}\".format(pen_logreg_grid.best_params_))"
      ],
      "execution_count": 0,
      "outputs": [
        {
          "output_type": "stream",
          "text": [
            "PENLIZED LOGISTIC REGRESSION (SCALED DATA)\n",
            "Test set Score: 0.99\n",
            "Best Parameter: {'logisticregression__C': 1.0}\n"
          ],
          "name": "stdout"
        }
      ]
    },
    {
      "cell_type": "markdown",
      "metadata": {
        "id": "-Ww5G-Ue0G9s",
        "colab_type": "text"
      },
      "source": [
        "### GridsearchCV with KNN Classifier"
      ]
    },
    {
      "cell_type": "code",
      "metadata": {
        "id": "kfa_jCXV0G9u",
        "colab_type": "code",
        "colab": {},
        "outputId": "b7bee378-7cd3-4f3c-aafd-74b00cefe113"
      },
      "source": [
        "knn_pipe = make_pipeline(StandardScaler(), KNeighborsClassifier())\n",
        "\n",
        "knn_param_grid = {'kneighborsclassifier__n_neighbors': range(1, 10)}\n",
        "knn_grid = GridSearchCV(knn_pipe, knn_param_grid).fit(X_train_scaled, y_train)\n",
        "\n",
        "print(\"KNN for REGRESSION (SCALED DATA)\")\n",
        "print(\"Test set Score: {:.2f}\".format(knn_grid.score(X_test_scaled, y_test)))\n",
        "print(\"Best Parameter: {}\".format(knn_grid.best_params_))"
      ],
      "execution_count": 0,
      "outputs": [
        {
          "output_type": "stream",
          "text": [
            "KNN for REGRESSION (SCALED DATA)\n",
            "Test set Score: 0.99\n",
            "Best Parameter: {'kneighborsclassifier__n_neighbors': 2}\n"
          ],
          "name": "stdout"
        }
      ]
    },
    {
      "cell_type": "markdown",
      "metadata": {
        "id": "7KsjiPJ20G9z",
        "colab_type": "text"
      },
      "source": [
        "## Do the results improve?"
      ]
    },
    {
      "cell_type": "code",
      "metadata": {
        "id": "BcE-FCOz0G90",
        "colab_type": "code",
        "colab": {},
        "outputId": "e175a5df-6dc2-4347-c487-ef214986a087"
      },
      "source": [
        "print(\"LOGISTIC REGRESSION\")\n",
        "print(\"Before Gridsearch: {:.2f}\".format(logreg_scaled.score(X_test_scaled, y_test)))\n",
        "print(\"After Gridsearch: {:.2f}\".format(logreg_grid.score(X_test_scaled, y_test)))\n",
        "print(\"\")\n",
        "print(\"PENALIZED LOGISTIC REGRESSION\")\n",
        "print(\"Before Gridsearch: {:.2f}\".format(pen_logreg_scaled.score(X_test_scaled, y_test)))\n",
        "print(\"After Gridsearch: {:.2f}\".format(pen_logreg_grid.score(X_test_scaled, y_test)))\n",
        "print(\"\")\n",
        "print(\"KNN CLASSIFIER\")\n",
        "print(\"Before Gridsearch: {:.2f}\".format(knn_scaled.score(X_test_scaled, y_test)))\n",
        "print(\"After Gridsearch: {:.2f}\".format(knn_grid.score(X_test_scaled, y_test)))"
      ],
      "execution_count": 0,
      "outputs": [
        {
          "output_type": "stream",
          "text": [
            "LOGISTIC REGRESSION\n",
            "Before Gridsearch: 0.99\n",
            "After Gridsearch: 0.99\n",
            "\n",
            "PENALIZED LOGISTIC REGRESSION\n",
            "Before Gridsearch: 0.99\n",
            "After Gridsearch: 0.99\n",
            "\n",
            "KNN CLASSIFIER\n",
            "Before Gridsearch: 0.97\n",
            "After Gridsearch: 0.99\n"
          ],
          "name": "stdout"
        }
      ]
    },
    {
      "cell_type": "markdown",
      "metadata": {
        "id": "-wVYguba0G96",
        "colab_type": "text"
      },
      "source": [
        "**Answer:** Parameters recommended by Gridsearch make noticable improvements to the accuracy score for the KNN model, but new parameters recommended by Gridsearch do not a remarakable difference for the accuracy scores of the Logistic or Penalized Logistic Regression models."
      ]
    },
    {
      "cell_type": "markdown",
      "metadata": {
        "id": "l6CdFXZq0G98",
        "colab_type": "text"
      },
      "source": [
        "## 2.4 Change the cross-validation strategy in GridSearchCV from ‘stratified k-fold’ to ‘kfold’ with shuffling."
      ]
    },
    {
      "cell_type": "code",
      "metadata": {
        "id": "lnwU5UFQ0G9-",
        "colab_type": "code",
        "colab": {}
      },
      "source": [
        "# Note: See code above for kfold, skfold, and rkf. \n",
        "# Here, I am going to use the rkf code.\n",
        "# rkf = RepeatedKFold(n_splits=5, n_repeats=5, random_state=1)"
      ],
      "execution_count": 0,
      "outputs": []
    },
    {
      "cell_type": "markdown",
      "metadata": {
        "id": "Y5JNNPeE0G-D",
        "colab_type": "text"
      },
      "source": [
        "**Note:** For integer/None inputs, if the estimator is a classifier and y is either binary or multiclass, StratifiedKFold is used. In all other cases, KFold is used. Reference: https://scikit-learn.org/stable/modules/generated/sklearn.model_selection.GridSearchCV.html"
      ]
    },
    {
      "cell_type": "markdown",
      "metadata": {
        "id": "IcafXfpL0G-G",
        "colab_type": "text"
      },
      "source": [
        "Because our data uses 'winetype' as a target, our data qualifies as binary/multiclass. This means that StratigiedKFold (skfold) will be a default of GridsearchCV. To change this default setting and to include shuffling, we need to set cv= Repeated KFold (rkf). "
      ]
    },
    {
      "cell_type": "markdown",
      "metadata": {
        "id": "lRy8Di1U0G-I",
        "colab_type": "text"
      },
      "source": [
        "### GridsearchCV of Logistic Regression with Repeated KFold (rkf)"
      ]
    },
    {
      "cell_type": "code",
      "metadata": {
        "id": "7fVh9hU20G-K",
        "colab_type": "code",
        "colab": {},
        "outputId": "bbe23455-6f6b-4d3a-ba69-cdf8f3157545"
      },
      "source": [
        "logreg_grid_rfk = GridSearchCV(logreg_pipe, logreg_param_grid, cv=rkf).fit(X_train_scaled, y_train)\n",
        "\n",
        "print(\"LOGISTIC REGRESSION (SCALED DATA)\")\n",
        "print(\"Test set Score: {:.2f}\".format(logreg_grid_rfk.score(X_test_scaled, y_test)))\n",
        "print(\"Best Parameter: {}\".format(logreg_grid_rfk.best_params_))"
      ],
      "execution_count": 0,
      "outputs": [
        {
          "output_type": "stream",
          "text": [
            "LOGISTIC REGRESSION (SCALED DATA)\n",
            "Test set Score: 0.99\n",
            "Best Parameter: {'logisticregression__C': 28.0}\n"
          ],
          "name": "stdout"
        }
      ]
    },
    {
      "cell_type": "markdown",
      "metadata": {
        "id": "N5utqSlQ0G-Q",
        "colab_type": "text"
      },
      "source": [
        "### GridsearchCV of Penalized Logistic Regression with Repeated KFold (rkf)"
      ]
    },
    {
      "cell_type": "code",
      "metadata": {
        "id": "r27sHy_Z0G-R",
        "colab_type": "code",
        "colab": {},
        "outputId": "a0b48d88-f250-407d-a227-07bb7d8ecfe7"
      },
      "source": [
        "pen_logreg_grid_rfk = GridSearchCV(pen_logreg_pipe, pen_logreg_param_grid, cv=rkf).fit(X_train_scaled, y_train)\n",
        "\n",
        "print(\"PENLIZED LOGISTIC REGRESSION (SCALED DATA)\")\n",
        "print(\"Test set Score: {:.2f}\".format(pen_logreg_grid_rfk.score(X_test_scaled, y_test)))\n",
        "print(\"Best Parameter: {}\".format(pen_logreg_grid_rfk.best_params_))"
      ],
      "execution_count": 0,
      "outputs": [
        {
          "output_type": "stream",
          "text": [
            "PENLIZED LOGISTIC REGRESSION (SCALED DATA)\n",
            "Test set Score: 0.99\n",
            "Best Parameter: {'logisticregression__C': 1.0}\n"
          ],
          "name": "stdout"
        }
      ]
    },
    {
      "cell_type": "markdown",
      "metadata": {
        "id": "J9SFNPOl0G-X",
        "colab_type": "text"
      },
      "source": [
        "### GridsearchCV of KNN Classifier with Repeated KFold (rkf)"
      ]
    },
    {
      "cell_type": "code",
      "metadata": {
        "id": "Os3voMFP0G-Y",
        "colab_type": "code",
        "colab": {},
        "outputId": "1f4053fb-4b6e-4c7e-cc52-54799bcdd7cd"
      },
      "source": [
        "knn_grid_rfk = GridSearchCV(knn_pipe, knn_param_grid, cv=rkf).fit(X_train_scaled, y_train)\n",
        "\n",
        "print(\"KNN for REGRESSION (SCALED DATA)\")\n",
        "print(\"Test set Score: {:.2f}\".format(knn_grid_rfk.score(X_test_scaled, y_test)))\n",
        "print(\"Best Parameter: {}\".format(knn_grid_rfk.best_params_))"
      ],
      "execution_count": 0,
      "outputs": [
        {
          "output_type": "stream",
          "text": [
            "KNN for REGRESSION (SCALED DATA)\n",
            "Test set Score: 0.99\n",
            "Best Parameter: {'kneighborsclassifier__n_neighbors': 6}\n"
          ],
          "name": "stdout"
        }
      ]
    },
    {
      "cell_type": "markdown",
      "metadata": {
        "id": "wKTIpJvE0G-m",
        "colab_type": "text"
      },
      "source": [
        "## Do the parameters for models that can be tuned change? "
      ]
    },
    {
      "cell_type": "code",
      "metadata": {
        "id": "NRIHO2QK0G-n",
        "colab_type": "code",
        "colab": {},
        "outputId": "b6ac5476-eb8c-4d51-cacd-f0b87e5b417f"
      },
      "source": [
        "# Comparing parameters with and without Kfold shuffling\n",
        "print(\"Parameters for LOGISTIC REGRESSION\")\n",
        "print(\"KFold w/out Shuffling: {}\".format(logreg_grid.best_params_))\n",
        "print(\"       Repeated KFold: {}\".format(logreg_grid_rfk.best_params_))\n",
        "print(\"\")\n",
        "print(\"Parameters for PENALIZED LOGISTIC REGRESSION\")\n",
        "print(\"KFold w/out Shuffling: {}\".format(pen_logreg_grid.best_params_))\n",
        "print(\"       Repeated KFold: {}\".format(pen_logreg_grid_rfk.best_params_))\n",
        "print(\"\")\n",
        "print(\"Parameters for KNN CLASSIFIER\")\n",
        "print(\"KFold w/out Shuffling: {}\".format(knn_grid.best_params_))\n",
        "print(\"       Repeated KFold: {}\".format(knn_grid_rfk.best_params_))"
      ],
      "execution_count": 0,
      "outputs": [
        {
          "output_type": "stream",
          "text": [
            "Parameters for LOGISTIC REGRESSION\n",
            "KFold w/out Shuffling: {'logisticregression__C': 2.0}\n",
            "       Repeated KFold: {'logisticregression__C': 28.0}\n",
            "\n",
            "Parameters for PENALIZED LOGISTIC REGRESSION\n",
            "KFold w/out Shuffling: {'logisticregression__C': 1.0}\n",
            "       Repeated KFold: {'logisticregression__C': 1.0}\n",
            "\n",
            "Parameters for KNN CLASSIFIER\n",
            "KFold w/out Shuffling: {'kneighborsclassifier__n_neighbors': 2}\n",
            "       Repeated KFold: {'kneighborsclassifier__n_neighbors': 6}\n"
          ],
          "name": "stdout"
        }
      ]
    },
    {
      "cell_type": "markdown",
      "metadata": {
        "id": "f-_ET6ns0G-0",
        "colab_type": "text"
      },
      "source": [
        "**Answer:** Yes. After changing the cross validation method from skfold to kfold, the parameters recommended by gridsearchCV are C=28 for the Logistic Regression (previously C=2), and n_neighbors=6 for KNN Classifier (previously n_neighbors=2). Gridsearch does not recommend different parameters for the Penalized Logistic Regression model."
      ]
    },
    {
      "cell_type": "markdown",
      "metadata": {
        "id": "TK8hSr3p0G-1",
        "colab_type": "text"
      },
      "source": [
        "## Do they change if you change the random seed of the shuffling?"
      ]
    },
    {
      "cell_type": "code",
      "metadata": {
        "id": "Vy9LVJCN0G-3",
        "colab_type": "code",
        "colab": {}
      },
      "source": [
        "# Change random_state=None to random_state=1\n",
        "rkf_1 = RepeatedKFold(n_splits=5, n_repeats=10, random_state=1)"
      ],
      "execution_count": 0,
      "outputs": []
    },
    {
      "cell_type": "markdown",
      "metadata": {
        "id": "YF-vz7j90G-7",
        "colab_type": "text"
      },
      "source": [
        "### GridsearchCV of Logistic Regression with Repeated KFold (rkf) and new random seed"
      ]
    },
    {
      "cell_type": "code",
      "metadata": {
        "id": "5IwY1xty0G-9",
        "colab_type": "code",
        "colab": {},
        "outputId": "b4810ad3-6308-42a6-d75e-53d4d12f279c"
      },
      "source": [
        "logreg_grid_rfk_1 = GridSearchCV(logreg_pipe, logreg_param_grid, cv=rkf_1).fit(X_train_scaled, y_train)\n",
        "\n",
        "print(\"LOGISTIC REGRESSION (SCALED DATA)\")\n",
        "print(\"Test set Score: {:.2f}\".format(logreg_grid_rfk_1.score(X_test_scaled, y_test)))\n",
        "print(\"Best Parameter: {}\".format(logreg_grid_rfk_1.best_params_))"
      ],
      "execution_count": 0,
      "outputs": [
        {
          "output_type": "stream",
          "text": [
            "LOGISTIC REGRESSION (SCALED DATA)\n",
            "Test set Score: 0.99\n",
            "Best Parameter: {'logisticregression__C': 28.0}\n"
          ],
          "name": "stdout"
        }
      ]
    },
    {
      "cell_type": "markdown",
      "metadata": {
        "id": "nwJ4bX7s0G_D",
        "colab_type": "text"
      },
      "source": [
        "### GridsearchCV of Penalized Logistic Regression with Repeated KFold (rkf) and new random seed"
      ]
    },
    {
      "cell_type": "code",
      "metadata": {
        "id": "52gHmRjW0G_F",
        "colab_type": "code",
        "colab": {},
        "outputId": "e202901b-221e-4666-e4c3-9c6cd0373f87"
      },
      "source": [
        "pen_logreg_grid_rfk_1 = GridSearchCV(pen_logreg_pipe, pen_logreg_param_grid, cv=rkf_1).fit(X_train_scaled, y_train)\n",
        "\n",
        "print(\"PENLIZED LOGISTIC REGRESSION (SCALED DATA)\")\n",
        "print(\"Test set Score: {:.2f}\".format(pen_logreg_grid_rfk_1.score(X_test_scaled, y_test)))\n",
        "print(\"Best Parameter: {}\".format(pen_logreg_grid_rfk_1.best_params_))"
      ],
      "execution_count": 0,
      "outputs": [
        {
          "output_type": "stream",
          "text": [
            "PENLIZED LOGISTIC REGRESSION (SCALED DATA)\n",
            "Test set Score: 0.99\n",
            "Best Parameter: {'logisticregression__C': 1.0}\n"
          ],
          "name": "stdout"
        }
      ]
    },
    {
      "cell_type": "markdown",
      "metadata": {
        "id": "2W_STPVK0G_I",
        "colab_type": "text"
      },
      "source": [
        "### GridsearchCV of KNN Classifier with Repeated KFold (rkf) and new random seed"
      ]
    },
    {
      "cell_type": "code",
      "metadata": {
        "id": "MgoZkgVE0G_K",
        "colab_type": "code",
        "colab": {},
        "outputId": "ee25602d-2dc2-472d-c720-ff1affa2e631"
      },
      "source": [
        "knn_grid_rfk_1 = GridSearchCV(knn_pipe, knn_param_grid, cv=rkf_1).fit(X_train_scaled, y_train)\n",
        "\n",
        "print(\"KNN for REGRESSION (SCALED DATA)\")\n",
        "print(\"Test set Score: {:.2f}\".format(knn_grid_rfk_1.score(X_test_scaled, y_test)))\n",
        "print(\"Best Parameter: {}\".format(knn_grid_rfk_1.best_params_))"
      ],
      "execution_count": 0,
      "outputs": [
        {
          "output_type": "stream",
          "text": [
            "KNN for REGRESSION (SCALED DATA)\n",
            "Test set Score: 0.99\n",
            "Best Parameter: {'kneighborsclassifier__n_neighbors': 6}\n"
          ],
          "name": "stdout"
        }
      ]
    },
    {
      "cell_type": "code",
      "metadata": {
        "id": "CmXcarDP0G_P",
        "colab_type": "code",
        "colab": {},
        "outputId": "b52afc6e-c625-4cb2-9ebf-7e9bb063a423"
      },
      "source": [
        "# Comparing parameters with new random seed\n",
        "print(\"Parameters for LOGISTIC REGRESSION\")\n",
        "print(\"     KFold w/out Shuffling: {}\".format(logreg_grid.best_params_))\n",
        "print(\"            Repeated KFold: {}\".format(logreg_grid_rfk.best_params_))\n",
        "print(\"Repeated KFold w/ new seed: {}\".format(logreg_grid_rfk_1.best_params_))\n",
        "print(\"\")\n",
        "print(\"Parameters for PENALIZED LOGISTIC REGRESSION\")\n",
        "print(\"     KFold w/out Shuffling: {}\".format(pen_logreg_grid.best_params_))\n",
        "print(\"            Repeated KFold: {}\".format(pen_logreg_grid_rfk.best_params_))\n",
        "print(\"Repeated KFold w/ new seed: {}\".format(pen_logreg_grid_rfk_1.best_params_))\n",
        "print(\"\")\n",
        "print(\"Parameters for KNN CLASSIFIER\")\n",
        "print(\"     KFold w/out Shuffling: {}\".format(knn_grid.best_params_))\n",
        "print(\"            Repeated KFold: {}\".format(knn_grid_rfk.best_params_))\n",
        "print(\"Repeated KFold w/ new seed: {}\".format(knn_grid_rfk_1.best_params_))"
      ],
      "execution_count": 0,
      "outputs": [
        {
          "output_type": "stream",
          "text": [
            "Parameters for LOGISTIC REGRESSION\n",
            "     KFold w/out Shuffling: {'logisticregression__C': 2.0}\n",
            "            Repeated KFold: {'logisticregression__C': 28.0}\n",
            "Repeated KFold w/ new seed: {'logisticregression__C': 28.0}\n",
            "\n",
            "Parameters for PENALIZED LOGISTIC REGRESSION\n",
            "     KFold w/out Shuffling: {'logisticregression__C': 1.0}\n",
            "            Repeated KFold: {'logisticregression__C': 1.0}\n",
            "Repeated KFold w/ new seed: {'logisticregression__C': 1.0}\n",
            "\n",
            "Parameters for KNN CLASSIFIER\n",
            "     KFold w/out Shuffling: {'kneighborsclassifier__n_neighbors': 2}\n",
            "            Repeated KFold: {'kneighborsclassifier__n_neighbors': 6}\n",
            "Repeated KFold w/ new seed: {'kneighborsclassifier__n_neighbors': 6}\n"
          ],
          "name": "stdout"
        }
      ]
    },
    {
      "cell_type": "markdown",
      "metadata": {
        "id": "Vc_k2dVS0G_U",
        "colab_type": "text"
      },
      "source": [
        "**Answer:** Changing the random seed of the shuffling didn't change the recommended parameters for any of the models."
      ]
    },
    {
      "cell_type": "markdown",
      "metadata": {
        "id": "D_yavLi20G_W",
        "colab_type": "text"
      },
      "source": [
        "## Or if you change the random state of the split into training and test data?"
      ]
    },
    {
      "cell_type": "code",
      "metadata": {
        "id": "Q36hwti50G_Y",
        "colab_type": "code",
        "colab": {}
      },
      "source": [
        "# Resplit the data using a new random_state, 1000 (instead of 42)\n",
        "X_train_newsplit, X_test_newsplit, y_train_newsplit, y_test_newsplit = train_test_split(X, y, random_state=1000)\n",
        "\n",
        "# Scale new split data\n",
        "scaler = preprocessing.StandardScaler().fit(X_train_newsplit)\n",
        "X_train_scaled_newsplit = scaler.transform(X_train_newsplit)\n",
        "X_test_scaled_newsplit = scaler.transform(X_test_newsplit)"
      ],
      "execution_count": 0,
      "outputs": []
    },
    {
      "cell_type": "markdown",
      "metadata": {
        "id": "APZGbacC0G_b",
        "colab_type": "text"
      },
      "source": [
        "### GridsearchCV of Logistic Regression with... \n",
        "* Repeated KFold (rkf)\n",
        "* Random Seed = 1\n",
        "* New random split into training and test data"
      ]
    },
    {
      "cell_type": "code",
      "metadata": {
        "id": "4vWl64ub0G_d",
        "colab_type": "code",
        "colab": {},
        "outputId": "0bc14d3e-f796-4e7c-d1c8-9e588d14e2a9"
      },
      "source": [
        "logreg_grid_rfk_1_newsplit = GridSearchCV(logreg_pipe, logreg_param_grid, cv=rkf_1).fit(X_train_scaled_newsplit, y_train_newsplit)\n",
        "\n",
        "print(\"LOGISTIC REGRESSION (SCALED DATA)\")\n",
        "print(\"Test set Score: {:.2f}\".format(logreg_grid_rfk_1.score(X_test_scaled_newsplit, y_test_newsplit)))\n",
        "print(\"Best Parameter: {}\".format(logreg_grid_rfk_1_newsplit.best_params_))"
      ],
      "execution_count": 0,
      "outputs": [
        {
          "output_type": "stream",
          "text": [
            "LOGISTIC REGRESSION (SCALED DATA)\n",
            "Test set Score: 1.00\n",
            "Best Parameter: {'logisticregression__C': 10.0}\n"
          ],
          "name": "stdout"
        }
      ]
    },
    {
      "cell_type": "markdown",
      "metadata": {
        "id": "Rr68Sw3C0G_3",
        "colab_type": "text"
      },
      "source": [
        "### GridsearchCV of Penalized Logistic Regression with...\n",
        "* Repeated KFold (rkf)\n",
        "* Random Seed = 1\n",
        "* New random split into training and test data"
      ]
    },
    {
      "cell_type": "code",
      "metadata": {
        "id": "Va1esxGm0G_5",
        "colab_type": "code",
        "colab": {},
        "outputId": "bad72e5d-8727-4c8c-e269-f7df4ce1456b"
      },
      "source": [
        "pen_logreg_grid_rfk_1_newsplit = GridSearchCV(pen_logreg_pipe, pen_logreg_param_grid, cv=rkf_1).fit(X_train_scaled_newsplit, y_train_newsplit)\n",
        "\n",
        "print(\"PENLIZED LOGISTIC REGRESSION (SCALED DATA)\")\n",
        "print(\"Test set Score: {:.2f}\".format(pen_logreg_grid_rfk_1_newsplit.score(X_test_scaled_newsplit, y_test_newsplit)))\n",
        "print(\"Best Parameter: {}\".format(pen_logreg_grid_rfk_1_newsplit.best_params_))"
      ],
      "execution_count": 0,
      "outputs": [
        {
          "output_type": "stream",
          "text": [
            "PENLIZED LOGISTIC REGRESSION (SCALED DATA)\n",
            "Test set Score: 0.99\n",
            "Best Parameter: {'logisticregression__C': 2.0}\n"
          ],
          "name": "stdout"
        }
      ]
    },
    {
      "cell_type": "markdown",
      "metadata": {
        "id": "nPvX1J-b0G_9",
        "colab_type": "text"
      },
      "source": [
        "### GridsearchCV of KNN Classifier with...\n",
        "* Repeated KFold (rkf)\n",
        "* Random Seed = 1\n",
        "* New random split into training and test data"
      ]
    },
    {
      "cell_type": "code",
      "metadata": {
        "id": "06g65IIv0G__",
        "colab_type": "code",
        "colab": {},
        "outputId": "51188069-5217-4f9c-a8fd-3157e5e5c4ae"
      },
      "source": [
        "knn_grid_rfk_1_newsplit = GridSearchCV(knn_pipe, knn_param_grid, cv=rkf_1).fit(X_train_scaled_newsplit, y_train_newsplit)\n",
        "\n",
        "print(\"KNN for REGRESSION (SCALED DATA)\")\n",
        "print(\"Test set Score: {:.2f}\".format(knn_grid_rfk_1_newsplit.score(X_test_scaled_newsplit, y_test_newsplit)))\n",
        "print(\"Best Parameter: {}\".format(knn_grid_rfk_1_newsplit.best_params_))"
      ],
      "execution_count": 0,
      "outputs": [
        {
          "output_type": "stream",
          "text": [
            "KNN for REGRESSION (SCALED DATA)\n",
            "Test set Score: 0.99\n",
            "Best Parameter: {'kneighborsclassifier__n_neighbors': 1}\n"
          ],
          "name": "stdout"
        }
      ]
    },
    {
      "cell_type": "code",
      "metadata": {
        "id": "jOv9Q0G80HAD",
        "colab_type": "code",
        "colab": {},
        "outputId": "fef2363b-8855-441e-af89-926603e36574"
      },
      "source": [
        "# Comparing parameters with new random seed and newly split training & testing data\n",
        "print(\"Parameters for LOGISTIC REGRESSION\")\n",
        "print(\"                      KFold w/out Shuffling: {}\".format(logreg_grid.best_params_))\n",
        "print(\"                             Repeated KFold: {}\".format(logreg_grid_rfk.best_params_))\n",
        "print(\"                 Repeated KFold w/ new seed: {}\".format(logreg_grid_rfk_1.best_params_))\n",
        "print(\"Repeated KFold w/ new seed & new data split: {}\".format(logreg_grid_rfk_1_newsplit.best_params_))\n",
        "print(\"\")\n",
        "print(\"Parameters for PENALIZED LOGISTIC REGRESSION\")\n",
        "print(\"                      KFold w/out Shuffling: {}\".format(pen_logreg_grid.best_params_))\n",
        "print(\"                             Repeated KFold: {}\".format(pen_logreg_grid_rfk.best_params_))\n",
        "print(\"                 Repeated KFold w/ new seed: {}\".format(pen_logreg_grid_rfk_1.best_params_))\n",
        "print(\"Repeated KFold w/ new seed & new data split: {}\".format(pen_logreg_grid_rfk_1_newsplit.best_params_))\n",
        "print(\"\")\n",
        "print(\"Parameters for KNN CLASSIFIER\")\n",
        "print(\"                      KFold w/out Shuffling: {}\".format(knn_grid.best_params_))\n",
        "print(\"                             Repeated KFold: {}\".format(knn_grid_rfk.best_params_))\n",
        "print(\"                 Repeated KFold w/ new seed: {}\".format(knn_grid_rfk_1.best_params_))\n",
        "print(\"Repeated KFold w/ new seed & new data split: {}\".format(knn_grid_rfk_1_newsplit.best_params_))"
      ],
      "execution_count": 0,
      "outputs": [
        {
          "output_type": "stream",
          "text": [
            "Parameters for LOGISTIC REGRESSION\n",
            "                      KFold w/out Shuffling: {'logisticregression__C': 2.0}\n",
            "                             Repeated KFold: {'logisticregression__C': 28.0}\n",
            "                 Repeated KFold w/ new seed: {'logisticregression__C': 28.0}\n",
            "Repeated KFold w/ new seed & new data split: {'logisticregression__C': 10.0}\n",
            "\n",
            "Parameters for PENALIZED LOGISTIC REGRESSION\n",
            "                      KFold w/out Shuffling: {'logisticregression__C': 1.0}\n",
            "                             Repeated KFold: {'logisticregression__C': 1.0}\n",
            "                 Repeated KFold w/ new seed: {'logisticregression__C': 1.0}\n",
            "Repeated KFold w/ new seed & new data split: {'logisticregression__C': 2.0}\n",
            "\n",
            "Parameters for KNN CLASSIFIER\n",
            "                      KFold w/out Shuffling: {'kneighborsclassifier__n_neighbors': 2}\n",
            "                             Repeated KFold: {'kneighborsclassifier__n_neighbors': 6}\n",
            "                 Repeated KFold w/ new seed: {'kneighborsclassifier__n_neighbors': 6}\n",
            "Repeated KFold w/ new seed & new data split: {'kneighborsclassifier__n_neighbors': 1}\n"
          ],
          "name": "stdout"
        }
      ]
    },
    {
      "cell_type": "markdown",
      "metadata": {
        "id": "unP3MkeO0HAI",
        "colab_type": "text"
      },
      "source": [
        "**Answer:** Re-splitting the data into new training and new test data with a different random state changes the recommended parameters for all three models."
      ]
    },
    {
      "cell_type": "markdown",
      "metadata": {
        "id": "Ymce0m7s0HAK",
        "colab_type": "text"
      },
      "source": [
        "## 2.5 Lastly, compare the coefficients for Logistic Regression and Penalized Logistic Regression and discuss which final model you would choose to predict new data."
      ]
    },
    {
      "cell_type": "code",
      "metadata": {
        "id": "_7TB_J2y0HAL",
        "colab_type": "code",
        "colab": {},
        "outputId": "64f0bfc4-e486-4241-9dfc-49a4543d9249"
      },
      "source": [
        "# This dataframe is built using the c3 object that was created earlier in the code\n",
        "coefs = pd.concat(c3)\n",
        "coefs.head()"
      ],
      "execution_count": 0,
      "outputs": [
        {
          "output_type": "execute_result",
          "data": {
            "text/html": [
              "<div>\n",
              "<style scoped>\n",
              "    .dataframe tbody tr th:only-of-type {\n",
              "        vertical-align: middle;\n",
              "    }\n",
              "\n",
              "    .dataframe tbody tr th {\n",
              "        vertical-align: top;\n",
              "    }\n",
              "\n",
              "    .dataframe thead th {\n",
              "        text-align: right;\n",
              "    }\n",
              "</style>\n",
              "<table border=\"1\" class=\"dataframe\">\n",
              "  <thead>\n",
              "    <tr style=\"text-align: right;\">\n",
              "      <th></th>\n",
              "      <th>fixed acidity</th>\n",
              "      <th>volatile acidity</th>\n",
              "      <th>citric acid</th>\n",
              "      <th>residual sugar</th>\n",
              "      <th>chlorides</th>\n",
              "      <th>free sulfur dioxide</th>\n",
              "      <th>total sulfur dioxide</th>\n",
              "      <th>density</th>\n",
              "      <th>pH</th>\n",
              "      <th>sulphates</th>\n",
              "      <th>alcohol</th>\n",
              "    </tr>\n",
              "  </thead>\n",
              "  <tbody>\n",
              "    <tr>\n",
              "      <th>Logistic Regression Coefficients</th>\n",
              "      <td>0.685901</td>\n",
              "      <td>8.223287</td>\n",
              "      <td>-0.971672</td>\n",
              "      <td>-0.149442</td>\n",
              "      <td>2.396549</td>\n",
              "      <td>0.048679</td>\n",
              "      <td>-0.063681</td>\n",
              "      <td>-3.126979</td>\n",
              "      <td>2.304279</td>\n",
              "      <td>6.044744</td>\n",
              "      <td>-0.790924</td>\n",
              "    </tr>\n",
              "    <tr>\n",
              "      <th>Penalized Logistic Regression Coefficients</th>\n",
              "      <td>0.916169</td>\n",
              "      <td>11.539000</td>\n",
              "      <td>0.000000</td>\n",
              "      <td>-0.125501</td>\n",
              "      <td>15.207507</td>\n",
              "      <td>0.058481</td>\n",
              "      <td>-0.066548</td>\n",
              "      <td>-9.414764</td>\n",
              "      <td>4.759636</td>\n",
              "      <td>8.315734</td>\n",
              "      <td>-0.628853</td>\n",
              "    </tr>\n",
              "    <tr>\n",
              "      <th>Scaled Logistic Regression Coefficients</th>\n",
              "      <td>0.285976</td>\n",
              "      <td>1.186533</td>\n",
              "      <td>-0.361232</td>\n",
              "      <td>-3.261851</td>\n",
              "      <td>0.751859</td>\n",
              "      <td>0.986030</td>\n",
              "      <td>-2.885655</td>\n",
              "      <td>3.519493</td>\n",
              "      <td>0.270010</td>\n",
              "      <td>0.624173</td>\n",
              "      <td>1.282744</td>\n",
              "    </tr>\n",
              "    <tr>\n",
              "      <th>Scaled Penalized Logistic Regression Coefficients</th>\n",
              "      <td>-0.043429</td>\n",
              "      <td>1.140855</td>\n",
              "      <td>-0.401142</td>\n",
              "      <td>-4.527656</td>\n",
              "      <td>0.745173</td>\n",
              "      <td>1.209947</td>\n",
              "      <td>-3.092901</td>\n",
              "      <td>4.662637</td>\n",
              "      <td>0.000000</td>\n",
              "      <td>0.517186</td>\n",
              "      <td>1.847429</td>\n",
              "    </tr>\n",
              "  </tbody>\n",
              "</table>\n",
              "</div>"
            ],
            "text/plain": [
              "                                                   fixed acidity  \\\n",
              "Logistic Regression Coefficients                        0.685901   \n",
              "Penalized Logistic Regression Coefficients              0.916169   \n",
              "Scaled Logistic Regression Coefficients                 0.285976   \n",
              "Scaled Penalized Logistic Regression Coefficients      -0.043429   \n",
              "\n",
              "                                                   volatile acidity  \\\n",
              "Logistic Regression Coefficients                           8.223287   \n",
              "Penalized Logistic Regression Coefficients                11.539000   \n",
              "Scaled Logistic Regression Coefficients                    1.186533   \n",
              "Scaled Penalized Logistic Regression Coefficients          1.140855   \n",
              "\n",
              "                                                   citric acid  \\\n",
              "Logistic Regression Coefficients                     -0.971672   \n",
              "Penalized Logistic Regression Coefficients            0.000000   \n",
              "Scaled Logistic Regression Coefficients              -0.361232   \n",
              "Scaled Penalized Logistic Regression Coefficients    -0.401142   \n",
              "\n",
              "                                                   residual sugar  chlorides  \\\n",
              "Logistic Regression Coefficients                        -0.149442   2.396549   \n",
              "Penalized Logistic Regression Coefficients              -0.125501  15.207507   \n",
              "Scaled Logistic Regression Coefficients                 -3.261851   0.751859   \n",
              "Scaled Penalized Logistic Regression Coefficients       -4.527656   0.745173   \n",
              "\n",
              "                                                   free sulfur dioxide  \\\n",
              "Logistic Regression Coefficients                              0.048679   \n",
              "Penalized Logistic Regression Coefficients                    0.058481   \n",
              "Scaled Logistic Regression Coefficients                       0.986030   \n",
              "Scaled Penalized Logistic Regression Coefficients             1.209947   \n",
              "\n",
              "                                                   total sulfur dioxide  \\\n",
              "Logistic Regression Coefficients                              -0.063681   \n",
              "Penalized Logistic Regression Coefficients                    -0.066548   \n",
              "Scaled Logistic Regression Coefficients                       -2.885655   \n",
              "Scaled Penalized Logistic Regression Coefficients             -3.092901   \n",
              "\n",
              "                                                    density        pH  \\\n",
              "Logistic Regression Coefficients                  -3.126979  2.304279   \n",
              "Penalized Logistic Regression Coefficients        -9.414764  4.759636   \n",
              "Scaled Logistic Regression Coefficients            3.519493  0.270010   \n",
              "Scaled Penalized Logistic Regression Coefficients  4.662637  0.000000   \n",
              "\n",
              "                                                   sulphates   alcohol  \n",
              "Logistic Regression Coefficients                    6.044744 -0.790924  \n",
              "Penalized Logistic Regression Coefficients          8.315734 -0.628853  \n",
              "Scaled Logistic Regression Coefficients             0.624173  1.282744  \n",
              "Scaled Penalized Logistic Regression Coefficients   0.517186  1.847429  "
            ]
          },
          "metadata": {
            "tags": []
          },
          "execution_count": 75
        }
      ]
    },
    {
      "cell_type": "markdown",
      "metadata": {
        "id": "o-S3dmYb0HAP",
        "colab_type": "text"
      },
      "source": [
        "**Note 1:** Scaling the data really minimizes the variation between the coefficients. Notice how coefficients of 'chlorides' are very different for Logistic Regression and Penalized Logistic Regression, but then when the data is scaled this difference is almost entirely minimized. Before scaling, 'chlorides' seemed like an important variable; after scaling, not so much. "
      ]
    },
    {
      "cell_type": "markdown",
      "metadata": {
        "id": "YRxL4x9C0HAR",
        "colab_type": "text"
      },
      "source": [
        "**Note 2:** The scaled data is also a little easier to interpret. After scaling, both the Logistic Regression and Penalized Logistic Regression models agree that 'volatile acidity', 'density', and 'alcohol' are important variables / features in determining 'winetype'. "
      ]
    },
    {
      "cell_type": "markdown",
      "metadata": {
        "id": "Rgg2ypKs0HAS",
        "colab_type": "text"
      },
      "source": [
        "**Answer:** I would use Penalized Logistic Regression (L2 penalty) with scaled data to predict new data.  It has the added benefit of highlighting important varaibles. (Though several models predicted cross validated data and test data equally well such that students could justify choosing other models)"
      ]
    }
  ]
}