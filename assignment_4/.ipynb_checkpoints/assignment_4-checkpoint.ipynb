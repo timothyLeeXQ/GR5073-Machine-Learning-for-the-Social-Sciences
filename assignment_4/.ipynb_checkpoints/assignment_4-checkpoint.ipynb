{
 "cells": [
  {
   "cell_type": "markdown",
   "metadata": {
    "colab_type": "text",
    "id": "q1AKiG4idjd4"
   },
   "source": [
    "# Setup"
   ]
  },
  {
   "cell_type": "code",
   "execution_count": 0,
   "metadata": {
    "colab": {},
    "colab_type": "code",
    "id": "Q48I-nnYACn0"
   },
   "outputs": [],
   "source": [
    "# Data upload\n",
    "from google.colab import files\n",
    "import io\n",
    "\n",
    "# Pandas and numpy\n",
    "import numpy as np\n",
    "import pandas as pd\n",
    "\n",
    "# Pyplot and sns\n",
    "import matplotlib.pyplot as plt\n",
    "import seaborn as sns\n",
    "\n",
    "# Text processing\n",
    "import re\n",
    "import nltk\n",
    "from sklearn.feature_extraction.text import ENGLISH_STOP_WORDS\n",
    "from nltk.tokenize import word_tokenize\n",
    "from nltk import word_tokenize\n",
    "from nltk.stem import WordNetLemmatizer \n",
    "from sklearn.feature_extraction.text import TfidfVectorizer, CountVectorizer\n",
    "\n",
    "# Sklearn\n",
    "from sklearn.pipeline import Pipeline\n",
    "from sklearn.linear_model import LogisticRegression\n",
    "from sklearn.neighbors import KNeighborsClassifier\n",
    "from sklearn.model_selection import GridSearchCV\n",
    "from sklearn.model_selection import cross_val_score\n",
    "from sklearn.model_selection import StratifiedKFold\n",
    "from sklearn.metrics import precision_score\n",
    "from sklearn.model_selection import train_test_split\n",
    "from sklearn.metrics import accuracy_score\n",
    "\n",
    "# Keras\n",
    "from keras.models import Sequential\n",
    "from keras.layers import Dense, Activation\n",
    "from keras.optimizers import SGD\n",
    "from keras.wrappers.scikit_learn import KerasClassifier\n"
   ]
  },
  {
   "cell_type": "code",
   "execution_count": 0,
   "metadata": {
    "colab": {},
    "colab_type": "code",
    "id": "w9jCMgMmH7Nu"
   },
   "outputs": [],
   "source": [
    "%%capture\n",
    "nltk.download(\"popular\")"
   ]
  },
  {
   "cell_type": "code",
   "execution_count": 3,
   "metadata": {
    "colab": {
     "base_uri": "https://localhost:8080/",
     "height": 34
    },
    "colab_type": "code",
    "executionInfo": {
     "elapsed": 10300,
     "status": "ok",
     "timestamp": 1588390728231,
     "user": {
      "displayName": "timothy lee",
      "photoUrl": "https://lh3.googleusercontent.com/a-/AOh14GgCY2uRGVjIrnN9B2gCMbB4nKNNF0hnKbarpShwKw=s64",
      "userId": "05402697373745650248"
     },
     "user_tz": -480
    },
    "id": "0la8Ju5pSLhE",
    "outputId": "6c8687a9-df80-4267-9532-a17ddae477a6"
   },
   "outputs": [
    {
     "name": "stdout",
     "output_type": "stream",
     "text": [
      "Found GPU at: /device:GPU:0\n"
     ]
    }
   ],
   "source": [
    "# Test GPU\n",
    "import tensorflow as tf\n",
    "device_name = tf.test.gpu_device_name()\n",
    "if device_name != '/device:GPU:0':\n",
    "  raise SystemError('GPU device not found')\n",
    "print('Found GPU at: {}'.format(device_name))"
   ]
  },
  {
   "cell_type": "markdown",
   "metadata": {
    "colab_type": "text",
    "id": "w1lmLHfE7KbI"
   },
   "source": [
    "# Part 1: Build a classification model using text data\n",
    "\n",
    "In part one of the homework, you will solve a text classification task.\n",
    "\n",
    "You can download the following data-sets from the HW data folder on the course website:\n",
    "* HW4_Text_train_data.csv\n",
    "* HW4_text_test_data.csv"
   ]
  },
  {
   "cell_type": "code",
   "execution_count": 3,
   "metadata": {
    "colab": {
     "base_uri": "https://localhost:8080/",
     "height": 74,
     "resources": {
      "http://localhost:8080/nbextensions/google.colab/files.js": {
       "data": "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",
       "headers": [
        [
         "content-type",
         "application/javascript"
        ]
       ],
       "ok": true,
       "status": 200,
       "status_text": ""
      }
     }
    },
    "colab_type": "code",
    "executionInfo": {
     "elapsed": 118932,
     "status": "ok",
     "timestamp": 1588394957896,
     "user": {
      "displayName": "timothy lee",
      "photoUrl": "https://lh3.googleusercontent.com/a-/AOh14GgCY2uRGVjIrnN9B2gCMbB4nKNNF0hnKbarpShwKw=s64",
      "userId": "05402697373745650248"
     },
     "user_tz": -480
    },
    "id": "laUwFrAO66r0",
    "outputId": "669d7e19-af52-415c-f5d0-1b546f74595c"
   },
   "outputs": [
    {
     "data": {
      "text/html": [
       "\n",
       "     <input type=\"file\" id=\"files-645fd515-75bb-4846-b6ac-51a4fe0ef14c\" name=\"files[]\" multiple disabled />\n",
       "     <output id=\"result-645fd515-75bb-4846-b6ac-51a4fe0ef14c\">\n",
       "      Upload widget is only available when the cell has been executed in the\n",
       "      current browser session. Please rerun this cell to enable.\n",
       "      </output>\n",
       "      <script src=\"/nbextensions/google.colab/files.js\"></script> "
      ],
      "text/plain": [
       "<IPython.core.display.HTML object>"
      ]
     },
     "metadata": {
      "tags": []
     },
     "output_type": "display_data"
    },
    {
     "name": "stdout",
     "output_type": "stream",
     "text": [
      "Saving HW4_Text_train_data.csv to HW4_Text_train_data.csv\n"
     ]
    }
   ],
   "source": [
    "train_csv = files.upload()"
   ]
  },
  {
   "cell_type": "code",
   "execution_count": 4,
   "metadata": {
    "colab": {
     "base_uri": "https://localhost:8080/",
     "height": 74,
     "resources": {
      "http://localhost:8080/nbextensions/google.colab/files.js": {
       "data": "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",
       "headers": [
        [
         "content-type",
         "application/javascript"
        ]
       ],
       "ok": true,
       "status": 200,
       "status_text": ""
      }
     }
    },
    "colab_type": "code",
    "executionInfo": {
     "elapsed": 34480,
     "status": "ok",
     "timestamp": 1588394992449,
     "user": {
      "displayName": "timothy lee",
      "photoUrl": "https://lh3.googleusercontent.com/a-/AOh14GgCY2uRGVjIrnN9B2gCMbB4nKNNF0hnKbarpShwKw=s64",
      "userId": "05402697373745650248"
     },
     "user_tz": -480
    },
    "id": "xpzZ3vNxAlk0",
    "outputId": "9f881bae-55c7-4176-f0ab-a16f310899cf"
   },
   "outputs": [
    {
     "data": {
      "text/html": [
       "\n",
       "     <input type=\"file\" id=\"files-a10eedd0-6a7c-48cb-80e0-720b8572aebd\" name=\"files[]\" multiple disabled />\n",
       "     <output id=\"result-a10eedd0-6a7c-48cb-80e0-720b8572aebd\">\n",
       "      Upload widget is only available when the cell has been executed in the\n",
       "      current browser session. Please rerun this cell to enable.\n",
       "      </output>\n",
       "      <script src=\"/nbextensions/google.colab/files.js\"></script> "
      ],
      "text/plain": [
       "<IPython.core.display.HTML object>"
      ]
     },
     "metadata": {
      "tags": []
     },
     "output_type": "display_data"
    },
    {
     "name": "stdout",
     "output_type": "stream",
     "text": [
      "Saving HW4_Text_test_data.csv to HW4_Text_test_data.csv\n"
     ]
    }
   ],
   "source": [
    "test_csv = files.upload()"
   ]
  },
  {
   "cell_type": "code",
   "execution_count": 5,
   "metadata": {
    "colab": {
     "base_uri": "https://localhost:8080/",
     "height": 204
    },
    "colab_type": "code",
    "executionInfo": {
     "elapsed": 18592,
     "status": "ok",
     "timestamp": 1588394992454,
     "user": {
      "displayName": "timothy lee",
      "photoUrl": "https://lh3.googleusercontent.com/a-/AOh14GgCY2uRGVjIrnN9B2gCMbB4nKNNF0hnKbarpShwKw=s64",
      "userId": "05402697373745650248"
     },
     "user_tz": -480
    },
    "id": "v0dvt3-WABGw",
    "outputId": "e12c97d2-bca9-4c62-d46b-e74dc263eef5"
   },
   "outputs": [
    {
     "data": {
      "text/html": [
       "<div>\n",
       "<style scoped>\n",
       "    .dataframe tbody tr th:only-of-type {\n",
       "        vertical-align: middle;\n",
       "    }\n",
       "\n",
       "    .dataframe tbody tr th {\n",
       "        vertical-align: top;\n",
       "    }\n",
       "\n",
       "    .dataframe thead th {\n",
       "        text-align: right;\n",
       "    }\n",
       "</style>\n",
       "<table border=\"1\" class=\"dataframe\">\n",
       "  <thead>\n",
       "    <tr style=\"text-align: right;\">\n",
       "      <th></th>\n",
       "      <th>Review</th>\n",
       "      <th>Recommended</th>\n",
       "    </tr>\n",
       "  </thead>\n",
       "  <tbody>\n",
       "    <tr>\n",
       "      <th>0</th>\n",
       "      <td>\"go to\" please offer a maxi for mature custome...</td>\n",
       "      <td>1</td>\n",
       "    </tr>\n",
       "    <tr>\n",
       "      <th>1</th>\n",
       "      <td>\"go to\" tee for sz 10+ women.Women who want so...</td>\n",
       "      <td>1</td>\n",
       "    </tr>\n",
       "    <tr>\n",
       "      <th>2</th>\n",
       "      <td>\"long and warm\".These leg warmers are perfect ...</td>\n",
       "      <td>1</td>\n",
       "    </tr>\n",
       "    <tr>\n",
       "      <th>3</th>\n",
       "      <td>\"tweed\" dress.I bought this dress for my siste...</td>\n",
       "      <td>1</td>\n",
       "    </tr>\n",
       "    <tr>\n",
       "      <th>4</th>\n",
       "      <td>#1 stunna.I am in lust with this fabulous dres...</td>\n",
       "      <td>1</td>\n",
       "    </tr>\n",
       "  </tbody>\n",
       "</table>\n",
       "</div>"
      ],
      "text/plain": [
       "                                              Review  Recommended\n",
       "0  \"go to\" please offer a maxi for mature custome...            1\n",
       "1  \"go to\" tee for sz 10+ women.Women who want so...            1\n",
       "2  \"long and warm\".These leg warmers are perfect ...            1\n",
       "3  \"tweed\" dress.I bought this dress for my siste...            1\n",
       "4  #1 stunna.I am in lust with this fabulous dres...            1"
      ]
     },
     "execution_count": 5,
     "metadata": {
      "tags": []
     },
     "output_type": "execute_result"
    }
   ],
   "source": [
    "df_train = pd.read_csv(io.BytesIO(train_csv['HW4_Text_train_data.csv']))\n",
    "df_train.head()"
   ]
  },
  {
   "cell_type": "code",
   "execution_count": 6,
   "metadata": {
    "colab": {
     "base_uri": "https://localhost:8080/",
     "height": 204
    },
    "colab_type": "code",
    "executionInfo": {
     "elapsed": 17583,
     "status": "ok",
     "timestamp": 1588394992457,
     "user": {
      "displayName": "timothy lee",
      "photoUrl": "https://lh3.googleusercontent.com/a-/AOh14GgCY2uRGVjIrnN9B2gCMbB4nKNNF0hnKbarpShwKw=s64",
      "userId": "05402697373745650248"
     },
     "user_tz": -480
    },
    "id": "nmXaNB-_A9V2",
    "outputId": "52645ab8-04c2-4caf-db66-7923b35f24a4"
   },
   "outputs": [
    {
     "data": {
      "text/html": [
       "<div>\n",
       "<style scoped>\n",
       "    .dataframe tbody tr th:only-of-type {\n",
       "        vertical-align: middle;\n",
       "    }\n",
       "\n",
       "    .dataframe tbody tr th {\n",
       "        vertical-align: top;\n",
       "    }\n",
       "\n",
       "    .dataframe thead th {\n",
       "        text-align: right;\n",
       "    }\n",
       "</style>\n",
       "<table border=\"1\" class=\"dataframe\">\n",
       "  <thead>\n",
       "    <tr style=\"text-align: right;\">\n",
       "      <th></th>\n",
       "      <th>Review</th>\n",
       "      <th>Recommended</th>\n",
       "    </tr>\n",
       "  </thead>\n",
       "  <tbody>\n",
       "    <tr>\n",
       "      <th>0</th>\n",
       "      <td>\"beach business\".Great for the beachy business...</td>\n",
       "      <td>1</td>\n",
       "    </tr>\n",
       "    <tr>\n",
       "      <th>1</th>\n",
       "      <td>\"formal pajamas\".These are super comfy and so ...</td>\n",
       "      <td>1</td>\n",
       "    </tr>\n",
       "    <tr>\n",
       "      <th>2</th>\n",
       "      <td>\"perfect with jeans\".Great with leggings.perfe...</td>\n",
       "      <td>1</td>\n",
       "    </tr>\n",
       "    <tr>\n",
       "      <th>3</th>\n",
       "      <td>\"won't stretch\" tags are misleading.The tag on...</td>\n",
       "      <td>1</td>\n",
       "    </tr>\n",
       "    <tr>\n",
       "      <th>4</th>\n",
       "      <td>$200 piece of polyester.A $200 piece of polyes...</td>\n",
       "      <td>0</td>\n",
       "    </tr>\n",
       "  </tbody>\n",
       "</table>\n",
       "</div>"
      ],
      "text/plain": [
       "                                              Review  Recommended\n",
       "0  \"beach business\".Great for the beachy business...            1\n",
       "1  \"formal pajamas\".These are super comfy and so ...            1\n",
       "2  \"perfect with jeans\".Great with leggings.perfe...            1\n",
       "3  \"won't stretch\" tags are misleading.The tag on...            1\n",
       "4  $200 piece of polyester.A $200 piece of polyes...            0"
      ]
     },
     "execution_count": 6,
     "metadata": {
      "tags": []
     },
     "output_type": "execute_result"
    }
   ],
   "source": [
    "df_test = pd.read_csv(io.BytesIO(test_csv['HW4_Text_test_data.csv']))\n",
    "df_test.head()"
   ]
  },
  {
   "cell_type": "markdown",
   "metadata": {
    "colab_type": "text",
    "id": "IWI80mieBIh3"
   },
   "source": [
    "We are trying to determine whether a reviewer will recommend a product or not based on each review.\n",
    "\n",
    "In a real application this might allow us to find out what is good or bad about certain products or to feature more typical reviews (like a very critical and a very positive one).\n",
    "\n",
    "Use cross-validation to evaluate the results. Use a metric that’s appropriate for imbalanced classification (AUC or average precision for example), and inspect all models by visualizing the coefficients.\n",
    "\n",
    "To complete part one of the homework do the following:\n",
    "\n",
    "Import the text data, vectorize the review column into an X matrix.  Then run at least three models and select a single best model.  Note that you can also create three models that simply use different types of explanatory variables such as a logistic regression with different n grams or different tokenizers.  Be sure to explain your choice and evaluate this model using the test set.\n"
   ]
  },
  {
   "cell_type": "markdown",
   "metadata": {
    "colab_type": "text",
    "id": "IQtBYk9tzEEe"
   },
   "source": [
    "## Initial pre-processing of text"
   ]
  },
  {
   "cell_type": "code",
   "execution_count": 0,
   "metadata": {
    "colab": {},
    "colab_type": "code",
    "id": "TgI1zb5dBLLs"
   },
   "outputs": [],
   "source": [
    "# Lower case, remove punctuation\n",
    "lemmatiser = WordNetLemmatizer()\n",
    "\n",
    "def pre_processing(text):\n",
    "  text_lower = text.lower()\n",
    "  text_rm_punct = re.sub(r\"[^A-z\\s]+\", \" \", text_lower)\n",
    "  return (text_rm_punct)\n",
    "\n",
    "df_train_X = df_train['Review'].apply(pre_processing)"
   ]
  },
  {
   "cell_type": "markdown",
   "metadata": {
    "colab_type": "text",
    "id": "JojuwNxly991"
   },
   "source": [
    "## Vectorisation of Features and Find Best params with Gridsearch CV\n",
    "\n",
    "**Using Precision as the metric**\n",
    "\n",
    "Precision is used because\n",
    "* It is recommended in the instructions\n",
    "* AUC, the other recommendation, is a good overall model evaluation metric but doesn't really make sense without plotting the ROC and seeing if your model performs best at the chosen threshold (and choosing a tradeoff between true positives and false positives), and I didn't want to get into that for this assignment\n",
    "* Precision makes sense because you want to minimise the number of false positives. On an amazon like site...\n",
    "  - Falsely classifying a non-recommendation as a potential recommendation might mean giving it a prominent position that turns off other buyers\n",
    "  - On the other hand a false negative just loses you one review to show, and you have thousands.\n",
    "\n",
    "**Side note**\n",
    "\n",
    "Have reduced number of parameters searched for in the grids, and use only 5-fold CV, to minimise training time. Spent a lot of time trying to run a random forest gridsearch that didn't finish overnight :/"
   ]
  },
  {
   "cell_type": "code",
   "execution_count": 0,
   "metadata": {
    "colab": {},
    "colab_type": "code",
    "id": "dEiDYk-sLUKL"
   },
   "outputs": [],
   "source": [
    "# Lemmatisation, Stopwords removal, Vectorisation\n",
    "class LemmaTokenizer:\n",
    "  def __init__(self):\n",
    "    self.wnl = WordNetLemmatizer()\n",
    "  def __call__(self, doc):\n",
    "    return [self.wnl.lemmatize(t) for t in word_tokenize(doc)]\n",
    "\n",
    "stop_words = ENGLISH_STOP_WORDS.union(['ha', 'le', 'u', 'wa'])\n",
    "\n",
    "vectoriser = TfidfVectorizer(stop_words = stop_words,\n",
    "                             tokenizer = LemmaTokenizer(),\n",
    "                             ngram_range = (1, 2))\n",
    "\n",
    "count_vec = CountVectorizer(stop_words = stop_words,\n",
    "                             tokenizer = LemmaTokenizer(),\n",
    "                             ngram_range = (1, 2))"
   ]
  },
  {
   "cell_type": "code",
   "execution_count": 0,
   "metadata": {
    "colab": {},
    "colab_type": "code",
    "id": "2Ube8sTNmNpx"
   },
   "outputs": [],
   "source": [
    "# Model objects\n",
    "logistic_regression = LogisticRegression(penalty = 'l2',\n",
    "                                         C = 1.0,\n",
    "                                         max_iter = 1000)\n",
    "knn = KNeighborsClassifier()"
   ]
  },
  {
   "cell_type": "code",
   "execution_count": 0,
   "metadata": {
    "colab": {},
    "colab_type": "code",
    "id": "dRNPXPFzngCu"
   },
   "outputs": [],
   "source": [
    "# Pipelines\n",
    "log_reg_pipe = Pipeline(steps = [('vectorise', vectoriser),\n",
    "                                 ('log_reg', logistic_regression)]\n",
    "                       )\n",
    "\n",
    "knn_pipe = Pipeline(steps = [('vectorise', vectoriser),\n",
    "                             ('knn', knn)]\n",
    "                    )\n",
    "\n",
    "knn_pipe_count_vec  = Pipeline(steps = [('vectorise', count_vec),\n",
    "                                        ('knn', knn)]\n",
    "                              )"
   ]
  },
  {
   "cell_type": "code",
   "execution_count": 0,
   "metadata": {
    "colab": {},
    "colab_type": "code",
    "id": "5w2THZ_lp1_j"
   },
   "outputs": [],
   "source": [
    "# Param grids\n",
    "vec_params = {'vectorise__ngram_range': [(1, 1), (1, 2), (2, 2)]}\n",
    "\n",
    "log_reg_params = {'log_reg__C': [0.1, 1, 10]}\n",
    "log_reg_param_grid = {**vec_params, **log_reg_params}\n",
    "\n",
    "knn_params = {'knn__n_neighbors': [1, 3, 5]}\n",
    "knn_param_grid = {**vec_params, **knn_params}\n",
    "\n",
    "# Grid objects\n",
    "\n",
    "log_reg_grid = GridSearchCV(log_reg_pipe,\n",
    "                            log_reg_param_grid,\n",
    "                            cv = 5,\n",
    "                            scoring = 'precision')\n",
    "\n",
    "knn_grid = GridSearchCV(knn_pipe,\n",
    "                       knn_param_grid,\n",
    "                        cv = 5,\n",
    "                        scoring = 'precision',\n",
    "                        verbose = 2)\n",
    "\n",
    "knn_grid_count_vec = GridSearchCV(knn_pipe_count_vec,\n",
    "                                  knn_param_grid,\n",
    "                                  cv = 5,\n",
    "                                  scoring = 'precision',\n",
    "                                  verbose = 2)\n"
   ]
  },
  {
   "cell_type": "code",
   "execution_count": 0,
   "metadata": {
    "colab": {},
    "colab_type": "code",
    "id": "QXu0IaTPtEQq"
   },
   "outputs": [],
   "source": [
    "log_reg_grid.fit(df_train_X, y = df_train['Recommended'])"
   ]
  },
  {
   "cell_type": "code",
   "execution_count": 106,
   "metadata": {
    "colab": {
     "base_uri": "https://localhost:8080/",
     "height": 51
    },
    "colab_type": "code",
    "executionInfo": {
     "elapsed": 929,
     "status": "ok",
     "timestamp": 1588329382766,
     "user": {
      "displayName": "timothy lee",
      "photoUrl": "https://lh3.googleusercontent.com/a-/AOh14GgCY2uRGVjIrnN9B2gCMbB4nKNNF0hnKbarpShwKw=s64",
      "userId": "05402697373745650248"
     },
     "user_tz": -480
    },
    "id": "KBez24bltcgX",
    "outputId": "ab899ec6-bb07-4754-b6b7-8b91bb531d4d"
   },
   "outputs": [
    {
     "name": "stdout",
     "output_type": "stream",
     "text": [
      "Log Reg best score: 0.9192\n",
      "Log Reg best params: {'log_reg__C': 10, 'vectorise__ngram_range': (1, 1)}\n"
     ]
    }
   ],
   "source": [
    "print(\"Log Reg best score: {:.4f}\"\\\n",
    "      .format(log_reg_grid.best_score_))\n",
    "print(\"Log Reg best params: {}\"\\\n",
    "      .format(log_reg_grid.best_params_))"
   ]
  },
  {
   "cell_type": "code",
   "execution_count": 0,
   "metadata": {
    "colab": {},
    "colab_type": "code",
    "id": "J1yh5b9ptN4I"
   },
   "outputs": [],
   "source": [
    "knn_grid.fit(df_train_X, y = df_train['Recommended'])\n",
    "# Output from the fit was removed - verbose was set to 2 to see how long it \n",
    "# will take for the gridsearch to run, but the output was quite lengthy as a \n",
    "# result, and so was removed"
   ]
  },
  {
   "cell_type": "code",
   "execution_count": 15,
   "metadata": {
    "colab": {
     "base_uri": "https://localhost:8080/",
     "height": 51
    },
    "colab_type": "code",
    "executionInfo": {
     "elapsed": 6662,
     "status": "ok",
     "timestamp": 1588372651546,
     "user": {
      "displayName": "timothy lee",
      "photoUrl": "https://lh3.googleusercontent.com/a-/AOh14GgCY2uRGVjIrnN9B2gCMbB4nKNNF0hnKbarpShwKw=s64",
      "userId": "05402697373745650248"
     },
     "user_tz": -480
    },
    "id": "kJw6gUt-tdCU",
    "outputId": "5b42c0d4-2bb0-41a3-a27c-8c254e66359c"
   },
   "outputs": [
    {
     "name": "stdout",
     "output_type": "stream",
     "text": [
      "Nearest Neighbors best score: 0.8736\n",
      "Nearest Neighbors best params: {'knn__n_neighbors': 1, 'vectorise__ngram_range': (1, 1)}\n"
     ]
    }
   ],
   "source": [
    "print(\"Nearest Neighbors best score: {:.4f}\"\\\n",
    "      .format(knn_grid.best_score_))\n",
    "print(\"Nearest Neighbors best params: {}\"\\\n",
    "      .format(knn_grid.best_params_))"
   ]
  },
  {
   "cell_type": "code",
   "execution_count": 0,
   "metadata": {
    "colab": {},
    "colab_type": "code",
    "id": "IuTEKC0ltNtJ"
   },
   "outputs": [],
   "source": [
    "knn_grid_count_vec.fit(df_train_X, y = df_train['Recommended'])\n",
    "# Output from the fit was removed - verbose was set to 2 to see how long it \n",
    "# will take for the gridsearch to run, but the output was quite lengthy as a \n",
    "# result, and so was removed"
   ]
  },
  {
   "cell_type": "code",
   "execution_count": 14,
   "metadata": {
    "colab": {
     "base_uri": "https://localhost:8080/",
     "height": 51
    },
    "colab_type": "code",
    "executionInfo": {
     "elapsed": 1153,
     "status": "ok",
     "timestamp": 1588391435583,
     "user": {
      "displayName": "timothy lee",
      "photoUrl": "https://lh3.googleusercontent.com/a-/AOh14GgCY2uRGVjIrnN9B2gCMbB4nKNNF0hnKbarpShwKw=s64",
      "userId": "05402697373745650248"
     },
     "user_tz": -480
    },
    "id": "hh6_7yqLtddq",
    "outputId": "029f657b-56bf-438f-aa1e-3c80c9fdeffc"
   },
   "outputs": [
    {
     "name": "stdout",
     "output_type": "stream",
     "text": [
      "Nearest Neighbours (Count vec instead of TFIDF) best score: 0.8465\n",
      "Nearest Neighbours (Count vec instead of TFIDF) best params: {'knn__n_neighbors': 1, 'vectorise__ngram_range': (1, 1)}\n"
     ]
    }
   ],
   "source": [
    "print(\"Nearest Neighbours (Count vec instead of TFIDF) best score: {:.4f}\"\\\n",
    "      .format(knn_grid_count_vec.best_score_))\n",
    "print(\"Nearest Neighbours (Count vec instead of TFIDF) best params: {}\"\\\n",
    "      .format(knn_grid_count_vec.best_params_))"
   ]
  },
  {
   "cell_type": "code",
   "execution_count": 92,
   "metadata": {
    "colab": {
     "base_uri": "https://localhost:8080/",
     "height": 34
    },
    "colab_type": "code",
    "executionInfo": {
     "elapsed": 24410,
     "status": "ok",
     "timestamp": 1588326664399,
     "user": {
      "displayName": "timothy lee",
      "photoUrl": "https://lh3.googleusercontent.com/a-/AOh14GgCY2uRGVjIrnN9B2gCMbB4nKNNF0hnKbarpShwKw=s64",
      "userId": "05402697373745650248"
     },
     "user_tz": -480
    },
    "id": "KeGzgmwQoERz",
    "outputId": "c21681ce-418e-4e0e-ea11-fad12668bc61"
   },
   "outputs": [
    {
     "data": {
      "text/plain": [
       "array([1, 1, 1, ..., 1, 1, 1])"
      ]
     },
     "execution_count": 92,
     "metadata": {
      "tags": []
     },
     "output_type": "execute_result"
    }
   ],
   "source": [
    "pipeline.fit(df_train_X, y = df_train['Recommended']).predict(df_train_X)"
   ]
  },
  {
   "cell_type": "markdown",
   "metadata": {
    "colab_type": "text",
    "id": "NctO57ZE2bpX"
   },
   "source": [
    "At this point we know that the logistic regression is the best, and the KNN models don't measure up. Will run 3 different logistic regressions with CV and to visualise the coefficients, since KNN doesn't have coefficients or feature importance metrics.\n",
    "\n",
    "Will use tfidf for all 3, since it seems that count vectorisation dropped performance with KNN"
   ]
  },
  {
   "cell_type": "markdown",
   "metadata": {
    "colab_type": "text",
    "id": "vM_5x_mnzgaM"
   },
   "source": [
    "## CV of logistic regressions"
   ]
  },
  {
   "cell_type": "code",
   "execution_count": 0,
   "metadata": {
    "colab": {},
    "colab_type": "code",
    "id": "tei489DTwP5W"
   },
   "outputs": [],
   "source": [
    "tfidf_vec_1 = TfidfVectorizer(stop_words = stop_words,\n",
    "                              tokenizer = LemmaTokenizer(),\n",
    "                              ngram_range = (1, 1))\n",
    "\n",
    "tfidf_vec_2 = TfidfVectorizer(stop_words = stop_words,\n",
    "                             tokenizer = LemmaTokenizer(),\n",
    "                             ngram_range = (1, 2))\n",
    "\n",
    "tfidf_vec_3 = TfidfVectorizer(stop_words = stop_words,\n",
    "                             tokenizer = LemmaTokenizer(),\n",
    "                             ngram_range = (2, 2))\n",
    "\n",
    "log_reg_1 = LogisticRegression(penalty = 'l2', C = 10, max_iter = 1000)\n",
    "log_reg_2 = LogisticRegression(penalty = 'l2', C = 10, max_iter = 1000)\n",
    "log_reg_3 = LogisticRegression(penalty = 'l2', C = 10, max_iter = 1000)\n"
   ]
  },
  {
   "cell_type": "code",
   "execution_count": 147,
   "metadata": {
    "colab": {
     "base_uri": "https://localhost:8080/",
     "height": 51
    },
    "colab_type": "code",
    "executionInfo": {
     "elapsed": 20135,
     "status": "ok",
     "timestamp": 1588405762383,
     "user": {
      "displayName": "timothy lee",
      "photoUrl": "https://lh3.googleusercontent.com/a-/AOh14GgCY2uRGVjIrnN9B2gCMbB4nKNNF0hnKbarpShwKw=s64",
      "userId": "05402697373745650248"
     },
     "user_tz": -480
    },
    "id": "sLINJVHu4RRz",
    "outputId": "39316a0f-217f-48d3-d046-fc42dc177d23"
   },
   "outputs": [
    {
     "name": "stderr",
     "output_type": "stream",
     "text": [
      "/usr/local/lib/python3.6/dist-packages/sklearn/feature_extraction/text.py:507: UserWarning: The parameter 'token_pattern' will not be used since 'tokenizer' is not None'\n",
      "  warnings.warn(\"The parameter 'token_pattern' will not be used\"\n"
     ]
    }
   ],
   "source": [
    "tfidf_vec_1 = tfidf_vec_1.fit(df_train_X)\n",
    "tfidf_vec_X_1 = tfidf_vec_1.transform(df_train_X)\n",
    "lr1 = log_reg_1.fit(tfidf_vec_X_1, df_train['Recommended'])"
   ]
  },
  {
   "cell_type": "code",
   "execution_count": 95,
   "metadata": {
    "colab": {
     "base_uri": "https://localhost:8080/",
     "height": 51
    },
    "colab_type": "code",
    "executionInfo": {
     "elapsed": 46002,
     "status": "ok",
     "timestamp": 1588401479814,
     "user": {
      "displayName": "timothy lee",
      "photoUrl": "https://lh3.googleusercontent.com/a-/AOh14GgCY2uRGVjIrnN9B2gCMbB4nKNNF0hnKbarpShwKw=s64",
      "userId": "05402697373745650248"
     },
     "user_tz": -480
    },
    "id": "Qg30MhbI4ZtS",
    "outputId": "6af9cb59-f562-46e2-e7cb-6646f94c1500"
   },
   "outputs": [
    {
     "name": "stderr",
     "output_type": "stream",
     "text": [
      "/usr/local/lib/python3.6/dist-packages/sklearn/feature_extraction/text.py:507: UserWarning: The parameter 'token_pattern' will not be used since 'tokenizer' is not None'\n",
      "  warnings.warn(\"The parameter 'token_pattern' will not be used\"\n"
     ]
    }
   ],
   "source": [
    "tfidf_vec_2 = tfidf_vec_2.fit(df_train_X)\n",
    "tfidf_vec_X_2 = tfidf_vec_2.transform(df_train_X)\n",
    "lr2 = log_reg_2.fit(tfidf_vec_X_2, df_train['Recommended'])"
   ]
  },
  {
   "cell_type": "code",
   "execution_count": 96,
   "metadata": {
    "colab": {
     "base_uri": "https://localhost:8080/",
     "height": 51
    },
    "colab_type": "code",
    "executionInfo": {
     "elapsed": 68014,
     "status": "ok",
     "timestamp": 1588401503036,
     "user": {
      "displayName": "timothy lee",
      "photoUrl": "https://lh3.googleusercontent.com/a-/AOh14GgCY2uRGVjIrnN9B2gCMbB4nKNNF0hnKbarpShwKw=s64",
      "userId": "05402697373745650248"
     },
     "user_tz": -480
    },
    "id": "i7CVmL7x4aiF",
    "outputId": "3756a40e-fefd-4817-c7cc-08f5894b1257"
   },
   "outputs": [
    {
     "name": "stderr",
     "output_type": "stream",
     "text": [
      "/usr/local/lib/python3.6/dist-packages/sklearn/feature_extraction/text.py:507: UserWarning: The parameter 'token_pattern' will not be used since 'tokenizer' is not None'\n",
      "  warnings.warn(\"The parameter 'token_pattern' will not be used\"\n"
     ]
    }
   ],
   "source": [
    "tfidf_vec_3 = tfidf_vec_3.fit(df_train_X)\n",
    "tfidf_vec_X_3 = tfidf_vec_3.transform(df_train_X)\n",
    "lr3 = log_reg_3.fit(tfidf_vec_X_3, df_train['Recommended'])"
   ]
  },
  {
   "cell_type": "code",
   "execution_count": 0,
   "metadata": {
    "colab": {},
    "colab_type": "code",
    "id": "rFL8SpddykmW"
   },
   "outputs": [],
   "source": [
    "skfold = StratifiedKFold(shuffle = True, random_state = 123)"
   ]
  },
  {
   "cell_type": "code",
   "execution_count": 98,
   "metadata": {
    "colab": {
     "base_uri": "https://localhost:8080/",
     "height": 34
    },
    "colab_type": "code",
    "executionInfo": {
     "elapsed": 70676,
     "status": "ok",
     "timestamp": 1588401507582,
     "user": {
      "displayName": "timothy lee",
      "photoUrl": "https://lh3.googleusercontent.com/a-/AOh14GgCY2uRGVjIrnN9B2gCMbB4nKNNF0hnKbarpShwKw=s64",
      "userId": "05402697373745650248"
     },
     "user_tz": -480
    },
    "id": "HnN1sg9KhfNb",
    "outputId": "478eed25-40f3-4eeb-b36b-ba3d32d368e4"
   },
   "outputs": [
    {
     "data": {
      "text/plain": [
       "0.9219997110851198"
      ]
     },
     "execution_count": 98,
     "metadata": {
      "tags": []
     },
     "output_type": "execute_result"
    }
   ],
   "source": [
    "cross_val_score(lr1,\n",
    "                X = tfidf_vec_X_1,\n",
    "                y = df_train['Recommended'],\n",
    "                scoring = 'precision',\n",
    "                cv = skfold).mean()"
   ]
  },
  {
   "cell_type": "code",
   "execution_count": 99,
   "metadata": {
    "colab": {
     "base_uri": "https://localhost:8080/",
     "height": 34
    },
    "colab_type": "code",
    "executionInfo": {
     "elapsed": 92285,
     "status": "ok",
     "timestamp": 1588401530419,
     "user": {
      "displayName": "timothy lee",
      "photoUrl": "https://lh3.googleusercontent.com/a-/AOh14GgCY2uRGVjIrnN9B2gCMbB4nKNNF0hnKbarpShwKw=s64",
      "userId": "05402697373745650248"
     },
     "user_tz": -480
    },
    "id": "WdMB32XDymq_",
    "outputId": "d842b9f2-d1ea-465e-9792-cd50fe9b51b9"
   },
   "outputs": [
    {
     "data": {
      "text/plain": [
       "0.9097944581035323"
      ]
     },
     "execution_count": 99,
     "metadata": {
      "tags": []
     },
     "output_type": "execute_result"
    }
   ],
   "source": [
    "cross_val_score(lr2,\n",
    "                X = tfidf_vec_X_2,\n",
    "                y = df_train['Recommended'],\n",
    "                scoring = 'precision',\n",
    "                cv = skfold).mean()"
   ]
  },
  {
   "cell_type": "code",
   "execution_count": 100,
   "metadata": {
    "colab": {
     "base_uri": "https://localhost:8080/",
     "height": 34
    },
    "colab_type": "code",
    "executionInfo": {
     "elapsed": 108345,
     "status": "ok",
     "timestamp": 1588401548093,
     "user": {
      "displayName": "timothy lee",
      "photoUrl": "https://lh3.googleusercontent.com/a-/AOh14GgCY2uRGVjIrnN9B2gCMbB4nKNNF0hnKbarpShwKw=s64",
      "userId": "05402697373745650248"
     },
     "user_tz": -480
    },
    "id": "yH9cWmGcyrP3",
    "outputId": "b57851c4-558d-4919-dc6f-14c73234ef91"
   },
   "outputs": [
    {
     "data": {
      "text/plain": [
       "0.8531138492168961"
      ]
     },
     "execution_count": 100,
     "metadata": {
      "tags": []
     },
     "output_type": "execute_result"
    }
   ],
   "source": [
    "cross_val_score(lr3,\n",
    "                X = tfidf_vec_X_3,\n",
    "                y = df_train['Recommended'],\n",
    "                scoring = 'precision',\n",
    "                cv = skfold).mean()"
   ]
  },
  {
   "cell_type": "markdown",
   "metadata": {
    "colab_type": "text",
    "id": "uIqKGNTMzzP2"
   },
   "source": [
    "## Visualise coefficients"
   ]
  },
  {
   "cell_type": "code",
   "execution_count": 0,
   "metadata": {
    "colab": {},
    "colab_type": "code",
    "id": "Y6ukz4DE0ANM"
   },
   "outputs": [],
   "source": [
    "lr1_coefs = pd.DataFrame(np.transpose(lr1.coef_),\n",
    "                         index = np.array(tfidf_vec_1.get_feature_names()),\n",
    "                         columns = ['coefficients'])\\\n",
    "  .sort_values(by='coefficients', ascending=False)\\\n",
    "  .reset_index()\n",
    "lr1_coefs = lr1_coefs.head(10).append(lr1_coefs.tail(10))"
   ]
  },
  {
   "cell_type": "code",
   "execution_count": 136,
   "metadata": {
    "colab": {
     "base_uri": "https://localhost:8080/",
     "height": 651
    },
    "colab_type": "code",
    "executionInfo": {
     "elapsed": 1201,
     "status": "ok",
     "timestamp": 1588402894756,
     "user": {
      "displayName": "timothy lee",
      "photoUrl": "https://lh3.googleusercontent.com/a-/AOh14GgCY2uRGVjIrnN9B2gCMbB4nKNNF0hnKbarpShwKw=s64",
      "userId": "05402697373745650248"
     },
     "user_tz": -480
    },
    "id": "bAsbuE4WLH1Q",
    "outputId": "0be1a955-f77f-479b-87e3-a46c64c119c9"
   },
   "outputs": [
    {
     "data": {
      "image/png": "[encoded data removed]",
      "text/plain": [
       "<Figure size 1440x720 with 1 Axes>"
      ]
     },
     "metadata": {
      "needs_background": "light",
      "tags": []
     },
     "output_type": "display_data"
    }
   ],
   "source": [
    "plt.figure(figsize=(20,10))\n",
    "lr1_plot = sns.barplot(x=\"index\", y=\"coefficients\", data = lr1_coefs)\n",
    "lr1_plot.set_xticklabels(lr1_plot.get_xticklabels(), rotation=45)\n",
    "plt.show()"
   ]
  },
  {
   "cell_type": "code",
   "execution_count": 0,
   "metadata": {
    "colab": {},
    "colab_type": "code",
    "id": "wzPs-RZp13kd"
   },
   "outputs": [],
   "source": [
    "lr2_coefs = pd.DataFrame(np.transpose(lr2.coef_),\n",
    "                         index = np.array(tfidf_vec_2.get_feature_names()),\n",
    "                         columns = ['coefficients'])\\\n",
    "  .sort_values(by='coefficients', ascending=False)\\\n",
    "  .reset_index()\n",
    "lr2_coefs = lr2_coefs.head(10).append(lr2_coefs.tail(10))"
   ]
  },
  {
   "cell_type": "code",
   "execution_count": 139,
   "metadata": {
    "colab": {
     "base_uri": "https://localhost:8080/",
     "height": 651
    },
    "colab_type": "code",
    "executionInfo": {
     "elapsed": 1223,
     "status": "ok",
     "timestamp": 1588402926600,
     "user": {
      "displayName": "timothy lee",
      "photoUrl": "https://lh3.googleusercontent.com/a-/AOh14GgCY2uRGVjIrnN9B2gCMbB4nKNNF0hnKbarpShwKw=s64",
      "userId": "05402697373745650248"
     },
     "user_tz": -480
    },
    "id": "RlA98srLMM1v",
    "outputId": "3260de0e-19b2-44c6-ee1d-3f5c3f9408b2"
   },
   "outputs": [
    {
     "data": {
      "image/png": "[encoded data removed]",
      "text/plain": [
       "<Figure size 1440x720 with 1 Axes>"
      ]
     },
     "metadata": {
      "needs_background": "light",
      "tags": []
     },
     "output_type": "display_data"
    }
   ],
   "source": [
    "plt.figure(figsize=(20,10))\n",
    "lr2_plot = sns.barplot(x=\"index\", y=\"coefficients\", data = lr2_coefs)\n",
    "lr2_plot.set_xticklabels(lr2_plot.get_xticklabels(), rotation=45)\n",
    "plt.show()"
   ]
  },
  {
   "cell_type": "code",
   "execution_count": 0,
   "metadata": {
    "colab": {},
    "colab_type": "code",
    "id": "wQ4fSliI6AEj"
   },
   "outputs": [],
   "source": [
    "lr3_coefs = pd.DataFrame(np.transpose(lr3.coef_),\n",
    "                         index = np.array(tfidf_vec_3.get_feature_names()),\n",
    "                         columns = ['coefficients'])\\\n",
    "  .sort_values(by='coefficients', ascending=False)\\\n",
    "  .reset_index()\n",
    "lr3_coefs = lr3_coefs.head(10).append(lr3_coefs.tail(10))"
   ]
  },
  {
   "cell_type": "code",
   "execution_count": 142,
   "metadata": {
    "colab": {
     "base_uri": "https://localhost:8080/",
     "height": 669
    },
    "colab_type": "code",
    "executionInfo": {
     "elapsed": 1251,
     "status": "ok",
     "timestamp": 1588402973443,
     "user": {
      "displayName": "timothy lee",
      "photoUrl": "https://lh3.googleusercontent.com/a-/AOh14GgCY2uRGVjIrnN9B2gCMbB4nKNNF0hnKbarpShwKw=s64",
      "userId": "05402697373745650248"
     },
     "user_tz": -480
    },
    "id": "-2A3KNklMXXG",
    "outputId": "255c8e90-9c97-4d92-e91a-b288a0175bb3"
   },
   "outputs": [
    {
     "data": {
      "image/png": "[encoded data removed]",
      "text/plain": [
       "<Figure size 1440x720 with 1 Axes>"
      ]
     },
     "metadata": {
      "needs_background": "light",
      "tags": []
     },
     "output_type": "display_data"
    }
   ],
   "source": [
    "plt.figure(figsize=(20,10))\n",
    "lr3_plot = sns.barplot(x=\"index\", y=\"coefficients\", data = lr3_coefs)\n",
    "lr3_plot.set_xticklabels(lr3_plot.get_xticklabels(), rotation=45)\n",
    "plt.show()"
   ]
  },
  {
   "cell_type": "markdown",
   "metadata": {
    "colab_type": "text",
    "id": "KcErAiBCNWY-"
   },
   "source": [
    "## Choice of Best Model\n",
    "\n",
    "All 3 models we evaluate here seem to do a reasonably good job.\n",
    "* High precision scores for all 3 models\n",
    "* Positively weighted coefficients for all 3 models correspond to really positive words and phrases\n",
    "* Negatively weighted coefficients for all 3 models correspond to disappointment\n",
    "\n",
    "As expected, the model the gridsearch chose, using TFIDF vectoriser with only 1-grams, and a L2 logistic regression with C = 10 performs best (lr1). Although the strongest coefficients don't really differetiate the models, this one has the highest precision score."
   ]
  },
  {
   "cell_type": "markdown",
   "metadata": {
    "colab_type": "text",
    "id": "l8LEka_7y1Iy"
   },
   "source": [
    "## Evaluate on Test Set"
   ]
  },
  {
   "cell_type": "code",
   "execution_count": 148,
   "metadata": {
    "colab": {
     "base_uri": "https://localhost:8080/",
     "height": 34
    },
    "colab_type": "code",
    "executionInfo": {
     "elapsed": 3944,
     "status": "ok",
     "timestamp": 1588405776294,
     "user": {
      "displayName": "timothy lee",
      "photoUrl": "https://lh3.googleusercontent.com/a-/AOh14GgCY2uRGVjIrnN9B2gCMbB4nKNNF0hnKbarpShwKw=s64",
      "userId": "05402697373745650248"
     },
     "user_tz": -480
    },
    "id": "ADeeyaPfyzob",
    "outputId": "8de7edee-daa4-49fb-8781-9760fee50f7d"
   },
   "outputs": [
    {
     "data": {
      "text/plain": [
       "0.9215317011927181"
      ]
     },
     "execution_count": 148,
     "metadata": {
      "tags": []
     },
     "output_type": "execute_result"
    }
   ],
   "source": [
    "df_test_X = df_test['Review'].apply(pre_processing)\n",
    "tfidf_vec_X_1_test = tfidf_vec_1.transform(df_test_X)\n",
    "y_pred = lr1.predict(tfidf_vec_X_1_test)\n",
    "precision_score(df_test['Recommended'], y_pred)"
   ]
  },
  {
   "cell_type": "markdown",
   "metadata": {
    "colab_type": "text",
    "id": "fw0Px1zVXMK8"
   },
   "source": [
    "Our model does very well on the test set with 92% precision. This score is similar to the mean CV score"
   ]
  },
  {
   "cell_type": "markdown",
   "metadata": {
    "colab_type": "text",
    "id": "y2c077aN8E72"
   },
   "source": [
    "# Part 2: Build a predictive neural network using Keras\n",
    "\n",
    "To complete part two of the homework do the following:\n",
    "\n",
    "Run a multilayer perceptron (feed forward neural network) with two hidden layers on the iris dataset using the keras Sequential interface.\n",
    "\n",
    "Data can be imported via the following link:\n",
    "\n",
    "http://vincentarelbundock.github.io/Rdatasets/csv/datasets/iris.csv\n",
    "\n",
    "Include code for selecting the number of hidden units using GridSearchCV and evaluation on a test-set.  Describe the differences in the predictive accuracy of models with different numbers of hidden units.  Describe the predictive strength of your best model.  Be sure to explain your choice and evaluate this model using the test set."
   ]
  },
  {
   "cell_type": "markdown",
   "metadata": {
    "colab_type": "text",
    "id": "rsf1YXKKT_BZ"
   },
   "source": [
    "## Setup"
   ]
  },
  {
   "cell_type": "code",
   "execution_count": 204,
   "metadata": {
    "colab": {
     "base_uri": "https://localhost:8080/",
     "height": 204
    },
    "colab_type": "code",
    "executionInfo": {
     "elapsed": 952,
     "status": "ok",
     "timestamp": 1588423206579,
     "user": {
      "displayName": "timothy lee",
      "photoUrl": "https://lh3.googleusercontent.com/a-/AOh14GgCY2uRGVjIrnN9B2gCMbB4nKNNF0hnKbarpShwKw=s64",
      "userId": "05402697373745650248"
     },
     "user_tz": -480
    },
    "id": "akrPITW1dnBO",
    "outputId": "bf1203de-f23a-41bd-91e5-bcd293182379"
   },
   "outputs": [
    {
     "data": {
      "text/html": [
       "<div>\n",
       "<style scoped>\n",
       "    .dataframe tbody tr th:only-of-type {\n",
       "        vertical-align: middle;\n",
       "    }\n",
       "\n",
       "    .dataframe tbody tr th {\n",
       "        vertical-align: top;\n",
       "    }\n",
       "\n",
       "    .dataframe thead th {\n",
       "        text-align: right;\n",
       "    }\n",
       "</style>\n",
       "<table border=\"1\" class=\"dataframe\">\n",
       "  <thead>\n",
       "    <tr style=\"text-align: right;\">\n",
       "      <th></th>\n",
       "      <th>Unnamed: 0</th>\n",
       "      <th>Sepal.Length</th>\n",
       "      <th>Sepal.Width</th>\n",
       "      <th>Petal.Length</th>\n",
       "      <th>Petal.Width</th>\n",
       "      <th>Species</th>\n",
       "    </tr>\n",
       "  </thead>\n",
       "  <tbody>\n",
       "    <tr>\n",
       "      <th>0</th>\n",
       "      <td>1</td>\n",
       "      <td>5.1</td>\n",
       "      <td>3.5</td>\n",
       "      <td>1.4</td>\n",
       "      <td>0.2</td>\n",
       "      <td>setosa</td>\n",
       "    </tr>\n",
       "    <tr>\n",
       "      <th>1</th>\n",
       "      <td>2</td>\n",
       "      <td>4.9</td>\n",
       "      <td>3.0</td>\n",
       "      <td>1.4</td>\n",
       "      <td>0.2</td>\n",
       "      <td>setosa</td>\n",
       "    </tr>\n",
       "    <tr>\n",
       "      <th>2</th>\n",
       "      <td>3</td>\n",
       "      <td>4.7</td>\n",
       "      <td>3.2</td>\n",
       "      <td>1.3</td>\n",
       "      <td>0.2</td>\n",
       "      <td>setosa</td>\n",
       "    </tr>\n",
       "    <tr>\n",
       "      <th>3</th>\n",
       "      <td>4</td>\n",
       "      <td>4.6</td>\n",
       "      <td>3.1</td>\n",
       "      <td>1.5</td>\n",
       "      <td>0.2</td>\n",
       "      <td>setosa</td>\n",
       "    </tr>\n",
       "    <tr>\n",
       "      <th>4</th>\n",
       "      <td>5</td>\n",
       "      <td>5.0</td>\n",
       "      <td>3.6</td>\n",
       "      <td>1.4</td>\n",
       "      <td>0.2</td>\n",
       "      <td>setosa</td>\n",
       "    </tr>\n",
       "  </tbody>\n",
       "</table>\n",
       "</div>"
      ],
      "text/plain": [
       "   Unnamed: 0  Sepal.Length  Sepal.Width  Petal.Length  Petal.Width Species\n",
       "0           1           5.1          3.5           1.4          0.2  setosa\n",
       "1           2           4.9          3.0           1.4          0.2  setosa\n",
       "2           3           4.7          3.2           1.3          0.2  setosa\n",
       "3           4           4.6          3.1           1.5          0.2  setosa\n",
       "4           5           5.0          3.6           1.4          0.2  setosa"
      ]
     },
     "execution_count": 204,
     "metadata": {
      "tags": []
     },
     "output_type": "execute_result"
    }
   ],
   "source": [
    "df_iris = pd.read_csv('http://vincentarelbundock.github.io/Rdatasets/csv/datasets/iris.csv')\n",
    "df_iris.head()"
   ]
  },
  {
   "cell_type": "code",
   "execution_count": 205,
   "metadata": {
    "colab": {
     "base_uri": "https://localhost:8080/",
     "height": 85
    },
    "colab_type": "code",
    "executionInfo": {
     "elapsed": 512,
     "status": "ok",
     "timestamp": 1588423208060,
     "user": {
      "displayName": "timothy lee",
      "photoUrl": "https://lh3.googleusercontent.com/a-/AOh14GgCY2uRGVjIrnN9B2gCMbB4nKNNF0hnKbarpShwKw=s64",
      "userId": "05402697373745650248"
     },
     "user_tz": -480
    },
    "id": "B3mWED3m3oEd",
    "outputId": "58c4b8ac-c783-45d1-da70-bebcfd897689"
   },
   "outputs": [
    {
     "data": {
      "text/plain": [
       "versicolor    50\n",
       "virginica     50\n",
       "setosa        50\n",
       "Name: Species, dtype: int64"
      ]
     },
     "execution_count": 205,
     "metadata": {
      "tags": []
     },
     "output_type": "execute_result"
    }
   ],
   "source": [
    "# Find number of classes\n",
    "df_iris['Species'].value_counts()"
   ]
  },
  {
   "cell_type": "code",
   "execution_count": 0,
   "metadata": {
    "colab": {},
    "colab_type": "code",
    "id": "L_6I_0BV3I0F"
   },
   "outputs": [],
   "source": [
    "features = df_iris[['Sepal.Length', 'Sepal.Width', 'Petal.Length', 'Petal.Width']]\n",
    "target = df_iris[['Species']]"
   ]
  },
  {
   "cell_type": "code",
   "execution_count": 0,
   "metadata": {
    "colab": {},
    "colab_type": "code",
    "id": "Jidgq2Xa2TSO"
   },
   "outputs": [],
   "source": [
    "X_train, X_test, y_train, y_test = train_test_split(features, \n",
    "                                                    target,\n",
    "                                                    test_size = 0.2,\n",
    "                                                    shuffle = True,\n",
    "                                                    random_state = 123)"
   ]
  },
  {
   "cell_type": "markdown",
   "metadata": {
    "colab_type": "text",
    "id": "gS2l4r7ET8RY"
   },
   "source": [
    "## GridSearch"
   ]
  },
  {
   "cell_type": "code",
   "execution_count": 0,
   "metadata": {
    "colab": {},
    "colab_type": "code",
    "id": "iJUqENUFKCNq"
   },
   "outputs": [],
   "source": [
    "def create_model(learn_rate=0.01, hidden_units = 10):\n",
    "\t# create model\n",
    "  model = Sequential()\n",
    "  model.add(Dense(units = hidden_units, activation = 'relu', input_dim = 4))\n",
    "  model.add(Dense(units = hidden_units, activation = 'relu'))\n",
    "  model.add(Dense(units=3, activation='softmax'))\n",
    "    # Compile model\n",
    "  optimizer = SGD(lr = learn_rate)\n",
    "  model.compile(loss = 'sparse_categorical_crossentropy',\n",
    "                  optimizer = optimizer,\n",
    "                  metrics = ['accuracy'])\n",
    "  return model\n",
    "\n",
    "model = KerasClassifier(build_fn = create_model, epochs = 50, verbose = 0)\n",
    "\n",
    "param_grid = {'hidden_units': [5, 10, 15, 20],\n",
    "              'learn_rate': [0.01, 0.1, 0.25]}\n",
    "\n",
    "grid = GridSearchCV(estimator = model,\n",
    "                    param_grid = param_grid,\n",
    "                    scoring = 'accuracy',\n",
    "                    cv = 5,\n",
    "                    verbose = 1)\n",
    "            "
   ]
  },
  {
   "cell_type": "code",
   "execution_count": 209,
   "metadata": {
    "colab": {
     "base_uri": "https://localhost:8080/",
     "height": 187
    },
    "colab_type": "code",
    "executionInfo": {
     "elapsed": 32183,
     "status": "ok",
     "timestamp": 1588423250802,
     "user": {
      "displayName": "timothy lee",
      "photoUrl": "https://lh3.googleusercontent.com/a-/AOh14GgCY2uRGVjIrnN9B2gCMbB4nKNNF0hnKbarpShwKw=s64",
      "userId": "05402697373745650248"
     },
     "user_tz": -480
    },
    "id": "cGQGb6qf4nb0",
    "outputId": "4f0e90c8-c82a-4b71-bf9c-b4eeb1f9ec15"
   },
   "outputs": [
    {
     "name": "stdout",
     "output_type": "stream",
     "text": [
      "Fitting 5 folds for each of 12 candidates, totalling 60 fits\n"
     ]
    },
    {
     "name": "stderr",
     "output_type": "stream",
     "text": [
      "[Parallel(n_jobs=1)]: Using backend SequentialBackend with 1 concurrent workers.\n",
      "[Parallel(n_jobs=1)]: Done  60 out of  60 | elapsed:   31.0s finished\n"
     ]
    },
    {
     "data": {
      "text/plain": [
       "GridSearchCV(cv=5, error_score=nan,\n",
       "             estimator=<keras.wrappers.scikit_learn.KerasClassifier object at 0x7f06582fc7f0>,\n",
       "             iid='deprecated', n_jobs=None,\n",
       "             param_grid={'hidden_units': [5, 10, 15, 20],\n",
       "                         'learn_rate': [0.01, 0.1, 0.25]},\n",
       "             pre_dispatch='2*n_jobs', refit=True, return_train_score=False,\n",
       "             scoring='accuracy', verbose=1)"
      ]
     },
     "execution_count": 209,
     "metadata": {
      "tags": []
     },
     "output_type": "execute_result"
    }
   ],
   "source": [
    "grid.fit(X_train, y_train)"
   ]
  },
  {
   "cell_type": "code",
   "execution_count": 210,
   "metadata": {
    "colab": {
     "base_uri": "https://localhost:8080/",
     "height": 51
    },
    "colab_type": "code",
    "executionInfo": {
     "elapsed": 29573,
     "status": "ok",
     "timestamp": 1588423250806,
     "user": {
      "displayName": "timothy lee",
      "photoUrl": "https://lh3.googleusercontent.com/a-/AOh14GgCY2uRGVjIrnN9B2gCMbB4nKNNF0hnKbarpShwKw=s64",
      "userId": "05402697373745650248"
     },
     "user_tz": -480
    },
    "id": "C1StXkld-wpd",
    "outputId": "59b0ed70-42ef-406b-9c48-14672f8bad7e"
   },
   "outputs": [
    {
     "name": "stdout",
     "output_type": "stream",
     "text": [
      "Neural Net best score: 0.9417\n",
      "Neural Net best params: {'hidden_units': 20, 'learn_rate': 0.01}\n"
     ]
    }
   ],
   "source": [
    "print(\"Neural Net best score: {:.4f}\"\\\n",
    "      .format(grid.best_score_))\n",
    "print(\"Neural Net best params: {}\"\\\n",
    "      .format(grid.best_params_))"
   ]
  },
  {
   "cell_type": "code",
   "execution_count": 211,
   "metadata": {
    "colab": {
     "base_uri": "https://localhost:8080/",
     "height": 421
    },
    "colab_type": "code",
    "executionInfo": {
     "elapsed": 1070,
     "status": "ok",
     "timestamp": 1588423251920,
     "user": {
      "displayName": "timothy lee",
      "photoUrl": "https://lh3.googleusercontent.com/a-/AOh14GgCY2uRGVjIrnN9B2gCMbB4nKNNF0hnKbarpShwKw=s64",
      "userId": "05402697373745650248"
     },
     "user_tz": -480
    },
    "id": "PWAoAMmh_YGf",
    "outputId": "89f1b4e7-ed68-43ae-871b-fc31889080f6"
   },
   "outputs": [
    {
     "data": {
      "text/html": [
       "<div>\n",
       "<style scoped>\n",
       "    .dataframe tbody tr th:only-of-type {\n",
       "        vertical-align: middle;\n",
       "    }\n",
       "\n",
       "    .dataframe tbody tr th {\n",
       "        vertical-align: top;\n",
       "    }\n",
       "\n",
       "    .dataframe thead th {\n",
       "        text-align: right;\n",
       "    }\n",
       "</style>\n",
       "<table border=\"1\" class=\"dataframe\">\n",
       "  <thead>\n",
       "    <tr style=\"text-align: right;\">\n",
       "      <th></th>\n",
       "      <th>params</th>\n",
       "      <th>mean_test_score</th>\n",
       "    </tr>\n",
       "  </thead>\n",
       "  <tbody>\n",
       "    <tr>\n",
       "      <th>9</th>\n",
       "      <td>{'hidden_units': 20, 'learn_rate': 0.01}</td>\n",
       "      <td>0.941667</td>\n",
       "    </tr>\n",
       "    <tr>\n",
       "      <th>10</th>\n",
       "      <td>{'hidden_units': 20, 'learn_rate': 0.1}</td>\n",
       "      <td>0.916667</td>\n",
       "    </tr>\n",
       "    <tr>\n",
       "      <th>6</th>\n",
       "      <td>{'hidden_units': 15, 'learn_rate': 0.01}</td>\n",
       "      <td>0.875000</td>\n",
       "    </tr>\n",
       "    <tr>\n",
       "      <th>7</th>\n",
       "      <td>{'hidden_units': 15, 'learn_rate': 0.1}</td>\n",
       "      <td>0.875000</td>\n",
       "    </tr>\n",
       "    <tr>\n",
       "      <th>3</th>\n",
       "      <td>{'hidden_units': 10, 'learn_rate': 0.01}</td>\n",
       "      <td>0.858333</td>\n",
       "    </tr>\n",
       "    <tr>\n",
       "      <th>1</th>\n",
       "      <td>{'hidden_units': 5, 'learn_rate': 0.1}</td>\n",
       "      <td>0.800000</td>\n",
       "    </tr>\n",
       "    <tr>\n",
       "      <th>11</th>\n",
       "      <td>{'hidden_units': 20, 'learn_rate': 0.25}</td>\n",
       "      <td>0.800000</td>\n",
       "    </tr>\n",
       "    <tr>\n",
       "      <th>4</th>\n",
       "      <td>{'hidden_units': 10, 'learn_rate': 0.1}</td>\n",
       "      <td>0.725000</td>\n",
       "    </tr>\n",
       "    <tr>\n",
       "      <th>2</th>\n",
       "      <td>{'hidden_units': 5, 'learn_rate': 0.25}</td>\n",
       "      <td>0.658333</td>\n",
       "    </tr>\n",
       "    <tr>\n",
       "      <th>0</th>\n",
       "      <td>{'hidden_units': 5, 'learn_rate': 0.01}</td>\n",
       "      <td>0.608333</td>\n",
       "    </tr>\n",
       "    <tr>\n",
       "      <th>5</th>\n",
       "      <td>{'hidden_units': 10, 'learn_rate': 0.25}</td>\n",
       "      <td>0.575000</td>\n",
       "    </tr>\n",
       "    <tr>\n",
       "      <th>8</th>\n",
       "      <td>{'hidden_units': 15, 'learn_rate': 0.25}</td>\n",
       "      <td>0.566667</td>\n",
       "    </tr>\n",
       "  </tbody>\n",
       "</table>\n",
       "</div>"
      ],
      "text/plain": [
       "                                      params  mean_test_score\n",
       "9   {'hidden_units': 20, 'learn_rate': 0.01}         0.941667\n",
       "10   {'hidden_units': 20, 'learn_rate': 0.1}         0.916667\n",
       "6   {'hidden_units': 15, 'learn_rate': 0.01}         0.875000\n",
       "7    {'hidden_units': 15, 'learn_rate': 0.1}         0.875000\n",
       "3   {'hidden_units': 10, 'learn_rate': 0.01}         0.858333\n",
       "1     {'hidden_units': 5, 'learn_rate': 0.1}         0.800000\n",
       "11  {'hidden_units': 20, 'learn_rate': 0.25}         0.800000\n",
       "4    {'hidden_units': 10, 'learn_rate': 0.1}         0.725000\n",
       "2    {'hidden_units': 5, 'learn_rate': 0.25}         0.658333\n",
       "0    {'hidden_units': 5, 'learn_rate': 0.01}         0.608333\n",
       "5   {'hidden_units': 10, 'learn_rate': 0.25}         0.575000\n",
       "8   {'hidden_units': 15, 'learn_rate': 0.25}         0.566667"
      ]
     },
     "execution_count": 211,
     "metadata": {
      "tags": []
     },
     "output_type": "execute_result"
    }
   ],
   "source": [
    "pd.DataFrame(grid.cv_results_)[['params', 'mean_test_score']]\\\n",
    "  .sort_values(['mean_test_score'], ascending = False)"
   ]
  },
  {
   "cell_type": "markdown",
   "metadata": {
    "colab_type": "text",
    "id": "2BaGAcFY_JyM"
   },
   "source": [
    "In general, using a metric of average accuracy across 5-fold CV\n",
    "\n",
    "* 20 hidden units tends to be the best performing (though learning rate of 0.25 appears to be overfit)\n",
    "* 5 hidden units tends to be the poorest performing\n",
    "* 15 hidden units tends to do better depending on the learning rate (though learning rate of 0.25 appears to be overfit)\n",
    "* The performance of 10 hidden units depends heavily on the learning rate\n",
    "\n",
    "The best model has 20 hidden units and a learning rate of 0.1. It is the best model as it has the strongest accuracy score. This score is objectively good - at 0.94, it is well above chance (with 3 classes, chance is about 0.33). The next closest models also have a high accuracy score, though at least 2% loewr than the best model.\n"
   ]
  },
  {
   "cell_type": "markdown",
   "metadata": {
    "colab_type": "text",
    "id": "LgaFUr6xT4Rt"
   },
   "source": [
    "## Evaluation of Best Model on Test Set"
   ]
  },
  {
   "cell_type": "code",
   "execution_count": 212,
   "metadata": {
    "colab": {
     "base_uri": "https://localhost:8080/",
     "height": 34
    },
    "colab_type": "code",
    "executionInfo": {
     "elapsed": 874,
     "status": "ok",
     "timestamp": 1588423376351,
     "user": {
      "displayName": "timothy lee",
      "photoUrl": "https://lh3.googleusercontent.com/a-/AOh14GgCY2uRGVjIrnN9B2gCMbB4nKNNF0hnKbarpShwKw=s64",
      "userId": "05402697373745650248"
     },
     "user_tz": -480
    },
    "id": "zFI6RHQLZWSL",
    "outputId": "9be49edb-a1b8-4172-8a99-35f58788c546"
   },
   "outputs": [
    {
     "data": {
      "text/plain": [
       "0.9666666666666667"
      ]
     },
     "execution_count": 212,
     "metadata": {
      "tags": []
     },
     "output_type": "execute_result"
    }
   ],
   "source": [
    "y_pred = grid.predict(X_test)\n",
    "accuracy_score(y_true = y_test,\n",
    "               y_pred = y_pred)"
   ]
  },
  {
   "cell_type": "markdown",
   "metadata": {
    "colab_type": "text",
    "id": "tWqEtw_iaW4F"
   },
   "source": [
    "The best model performs well on the test set as well, achieving a classification accuracy of about 96.7%"
   ]
  }
 ],
 "metadata": {
  "colab": {
   "authorship_tag": "ABX9TyPsOzlXyh81cW5WWnaQWTPu",
   "collapsed_sections": [],
   "name": "assignment_4.ipynb",
   "provenance": []
  },
  "kernelspec": {
   "display_name": "Python 3",
   "language": "python",
   "name": "python3"
  },
  "language_info": {
   "codemirror_mode": {
    "name": "ipython",
    "version": 3
   },
   "file_extension": ".py",
   "mimetype": "text/x-python",
   "name": "python",
   "nbconvert_exporter": "python",
   "pygments_lexer": "ipython3",
   "version": "3.7.4"
  }
 },
 "nbformat": 4,
 "nbformat_minor": 1
}
